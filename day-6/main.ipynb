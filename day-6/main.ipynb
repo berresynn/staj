{
 "cells": [
  {
   "cell_type": "markdown",
   "id": "2fc0caeb",
   "metadata": {},
   "source": []
  },
  {
   "cell_type": "markdown",
   "id": "2788c0f0",
   "metadata": {},
   "source": [
    "### Karşılaştırma Operatörleri"
   ]
  },
  {
   "cell_type": "code",
   "execution_count": null,
   "id": "b21dfff1",
   "metadata": {},
   "outputs": [],
   "source": [
    "# a=b a, b'ye eşittir  \n",
    "# a==b a, b'ye eşit mi? \n",
    "# a!=b  a, b'ye eşit değil mi? \n",
    "# a>=b a, b'den büyük eşit mi?"
   ]
  },
  {
   "cell_type": "code",
   "execution_count": null,
   "id": "dd34ffe5",
   "metadata": {},
   "outputs": [
    {
     "name": "stdout",
     "output_type": "stream",
     "text": [
      "True\n"
     ]
    }
   ],
   "source": [
    "a,b,c,d=5,5,10,20\n",
    "result=(a==b)\n",
    "print(result)\n",
    "# a, b'ye eşit mi? "
   ]
  },
  {
   "cell_type": "markdown",
   "id": "c4e30a75",
   "metadata": {},
   "source": [
    "### Karşılaştırma Operatörleri Uygulamaları"
   ]
  },
  {
   "cell_type": "markdown",
   "id": "60f6e25f",
   "metadata": {},
   "source": [
    "#soru-1"
   ]
  },
  {
   "cell_type": "code",
   "execution_count": 6,
   "id": "daef9a8a",
   "metadata": {},
   "outputs": [
    {
     "name": "stdout",
     "output_type": "stream",
     "text": [
      "not ortalamanız :56.0 ve dersten geçme durumunuz: True\n"
     ]
    }
   ],
   "source": [
    "# kullanıcıdan 2 vize (%60) ve final(%40) notunu alıp ortalama hesaplayınız \n",
    "vize1=float(input(\"1.vize: \"))\n",
    "vize2=float(input(\"2.vize: \"))\n",
    "final=float(input(\"final: \"))\n",
    "\n",
    "ortalama=((vize1+vize2) /2 *0.6) +((final)*0.4)\n",
    "print(f'not ortalamanız :{ortalama} ve dersten geçme durumunuz: {ortalama>=50}') "
   ]
  },
  {
   "cell_type": "code",
   "execution_count": null,
   "id": "52382a78",
   "metadata": {},
   "outputs": [],
   "source": [
    "# bir sayının tek mi çift mi olduğunu anlamak için \n",
    "tekçift=(sayi%2 ==0 ) bunun sonucu true ise sayı çift değilse tek"
   ]
  },
  {
   "cell_type": "markdown",
   "id": "6d4657f2",
   "metadata": {},
   "source": [
    "#soru-2"
   ]
  },
  {
   "cell_type": "code",
   "execution_count": 7,
   "id": "1b8e9862",
   "metadata": {},
   "outputs": [
    {
     "name": "stdout",
     "output_type": "stream",
     "text": [
      "girilen sayının pozitif olma durumu: True\n"
     ]
    }
   ],
   "source": [
    "# kullanıcıdan alınan sayı pozitif mi negatif mi?\n",
    "\n",
    "sayı=int(input(\"sayı: \"))\n",
    "pozitifmi=(sayı>0)\n",
    "print(f'girilen sayının pozitif olma durumu: {pozitifmi}')"
   ]
  },
  {
   "cell_type": "markdown",
   "id": "3692783f",
   "metadata": {},
   "source": [
    "### Mantıksal Operatörler"
   ]
  },
  {
   "cell_type": "code",
   "execution_count": 8,
   "id": "f43337ba",
   "metadata": {},
   "outputs": [
    {
     "name": "stdout",
     "output_type": "stream",
     "text": [
      "True\n",
      "True\n",
      "False\n"
     ]
    }
   ],
   "source": [
    "# and, # or, #not operatörlerini kullanabiliriz \n",
    "\n",
    "x=6\n",
    "result = 5<x<10\n",
    "print(result)\n",
    "\n",
    "# and \n",
    "#sonucun true çıkası için iki öncülünde doğru olması lazım\n",
    "x=6\n",
    "result= 5<x and x<10\n",
    "print(result)\n",
    "\n",
    "\n",
    "#or \n",
    "#kaç öncül olursa olsun sonucun doğru çıkması için bir tane öncülün doğru olması yeterli\n",
    "result= (x>0) or (x %2 == 0) # x pozitif ve çift mi?\n",
    "\n",
    "\n",
    "\n",
    "#not \n",
    "#doğru mu sorusunu yanlış mı? sorusuna çeviri ve cevap tam tersi olur \n",
    "result=not(x>0)\n",
    "print(result)\n"
   ]
  },
  {
   "cell_type": "markdown",
   "id": "f854738c",
   "metadata": {},
   "source": [
    "### Mantıksal Operatör Uygulamaları "
   ]
  },
  {
   "cell_type": "code",
   "execution_count": 5,
   "id": "8b2e9202",
   "metadata": {},
   "outputs": [
    {
     "name": "stdout",
     "output_type": "stream",
     "text": [
      "Kullanıcının girdiği sayı: 43.0\n",
      "sayı 0-100 arasında mı:True\n"
     ]
    }
   ],
   "source": [
    "#soru-1\n",
    "#girilen sayının 0-100 arasında olup olmadığını kontrol edin\n",
    "\n",
    "sayi=float(input(\"sayı: \"))\n",
    "print(f\"Kullanıcının girdiği sayı: {sayi}\")\n",
    "sonuc= (sayi>0) and (sayi<100)\n",
    "print(f'sayı 0-100 arasında mı:{sonuc}') \n",
    "\n"
   ]
  },
  {
   "cell_type": "code",
   "execution_count": 15,
   "id": "e220bbad",
   "metadata": {},
   "outputs": [
    {
     "name": "stdout",
     "output_type": "stream",
     "text": [
      "a en büyük sayıdır: False\n",
      "b en büyük sayıdır: False\n",
      "c en büyük sayıdır: True\n"
     ]
    }
   ],
   "source": [
    "#soru-2\n",
    "#girilen 3 sayıyı büyüklük olarak karşılaştırınız \n",
    "\n",
    "a=int(input(\"a: \"))\n",
    "b=int(input(\"b: \"))\n",
    "c=int(input(\"c: \"))\n",
    "\n",
    "result=(a>b) and (a>c)\n",
    "print(f'a en büyük sayıdır: {result}')\n",
    "\n",
    "result=(b>a) and (b>c)\n",
    "print(f'b en büyük sayıdır: {result}')\n",
    "\n",
    "result=(c>a) and (c>b)\n",
    "print(f'c en büyük sayıdır: {result}')\n",
    "\n",
    "\n"
   ]
  },
  {
   "cell_type": "code",
   "execution_count": 9,
   "id": "a79ebde3",
   "metadata": {},
   "outputs": [
    {
     "name": "stdout",
     "output_type": "stream",
     "text": [
      "not ortalamanız :68.0 ve dersten geçme durumunuz: True\n"
     ]
    }
   ],
   "source": [
    "#soru-3 \n",
    "# kullanıcıdan 2 vize (%60) ve final(%40) notunu alıp ortalama hesaplayınız \n",
    "#finalden 70 aldığında ortalamanın önemi olmasın\n",
    "vize1=float(input(\"2.vize: \"))\n",
    "vize2=float(input(\"1.vize: \"))\n",
    "\n",
    "ortalama=((vize1+vize2) /2 *0.6) +((final)*0.4) \n",
    "result=(ortalama>=50) or (final>=70)\n",
    "print(f'not ortalamanız :{ortalama} ve dersten geçme durumunuz: {ortalama>=50}')"
   ]
  },
  {
   "cell_type": "markdown",
   "id": "272243b7",
   "metadata": {},
   "source": [
    "### İdentity & Membership Operatörleri"
   ]
  },
  {
   "cell_type": "code",
   "execution_count": 30,
   "id": "5967581f",
   "metadata": {},
   "outputs": [
    {
     "name": "stdout",
     "output_type": "stream",
     "text": [
      "False\n"
     ]
    }
   ],
   "source": [
    "#is \n",
    "x=[1,2,3]\n",
    "y=[2,4]\n",
    "print(x is y)\n",
    "# x ve y aynı mı"
   ]
  },
  {
   "cell_type": "code",
   "execution_count": 31,
   "id": "c0241cbc",
   "metadata": {},
   "outputs": [
    {
     "name": "stdout",
     "output_type": "stream",
     "text": [
      "True\n"
     ]
    }
   ],
   "source": [
    "#in\n",
    "#liste içerisinde aradığımız elemanın olup olmadığını soruyoruz\n",
    "x=[\"apple\" , \"banane\"]\n",
    "print(\"banane\" in x)\n",
    "#muz x listesi içinde var mı? true"
   ]
  },
  {
   "cell_type": "code",
   "execution_count": 55,
   "id": "45f30f26",
   "metadata": {},
   "outputs": [
    {
     "data": {
      "text/plain": [
       "['apple', 'banane', 'car', 'car', 'car']"
      ]
     },
     "execution_count": 55,
     "metadata": {},
     "output_type": "execute_result"
    }
   ],
   "source": [
    "x.append(\"car\")\n",
    "x"
   ]
  },
  {
   "cell_type": "markdown",
   "id": "96c02dbc",
   "metadata": {},
   "source": [
    "# İf & Else Blokları"
   ]
  },
  {
   "cell_type": "code",
   "execution_count": null,
   "id": "ea90de1d",
   "metadata": {},
   "outputs": [
    {
     "name": "stdout",
     "output_type": "stream",
     "text": [
      "hoş geldiniz\n"
     ]
    }
   ],
   "source": [
    "username=\"ali\"\n",
    "password=\"1234\"\n",
    "\n",
    "if(username==\"ali\") and (password==\"1234\"):\n",
    "      print(\"hoş geldiniz\")\n",
    "else:(\"username ya da parola yanlış\")\n",
    "      # eğer (if) isim ve şifre doğru ise hoş geldiniz çıktısı çıksın \n",
    "      # (else) yanlışsa çıktı olmasın"
   ]
  },
  {
   "cell_type": "code",
   "execution_count": null,
   "id": "314d1ac1",
   "metadata": {},
   "outputs": [
    {
     "name": "stdout",
     "output_type": "stream",
     "text": [
      "ehliyet alabilir\n"
     ]
    }
   ],
   "source": [
    "#soru-1\n",
    "#kullanıcıdan isim yaş ve eğitim bilgilerini isteyip ehliyet alabilme durumuna bakın \n",
    "#ehliyet alma yaşı 18 ve eğitim durumu lise veya üniversite olmalı\n",
    "\n",
    "name=input(\"name: \")\n",
    "age=int(input(\"age: \")) \n",
    "education=input(\"education: \")\n",
    "\n",
    "if(age>18) and (education==\"lise\") or (education==\"üniversite\"):\n",
    "  print(\"ehliyet alabilir\")\n",
    "  \n",
    "                            "
   ]
  },
  {
   "cell_type": "code",
   "execution_count": 27,
   "id": "f5ad9461",
   "metadata": {},
   "outputs": [
    {
     "name": "stdout",
     "output_type": "stream",
     "text": [
      "ortalamanız: 43.333333333333336 notunuz:1\n"
     ]
    }
   ],
   "source": [
    "#soru-2\n",
    "#bir öğrencinin 2 yazılı bir sözlü notunu alıp ortalamaya göre hesaplanan ortalamaya göre not aralığına karşılık gelen not bilgisini yazdır\n",
    "\n",
    "#0-25=0\n",
    "#25-49=1\n",
    "#50-74=2\n",
    "#75-100=3\n",
    "\n",
    "\n",
    "yazili1=float(input(\"1.yazılı :\"))\n",
    "yazili2=float(input(\"2.yazılı :\"))\n",
    "sözlü=float(input(\"sözlü :\"))\n",
    "\n",
    "ortalama=(yazili1+yazili2+sözlü)/3 \n",
    "\n",
    "if(ortalama>=0) and (ortalama<=25):\n",
    "    print(f'ortalamanız: {ortalama} notunuz:0')\n",
    "\n",
    "elif(ortalama>=25) and (ortalama<=50):\n",
    "    print(f'ortalamanız: {ortalama} notunuz:1')\n",
    "\n",
    "elif(ortalama>=50) and (ortalama<=75):\n",
    "    print(f'ortalamanız: {ortalama} notunuz:2')\n",
    "\n",
    "elif(ortalama>=75) and (ortalama<=100):\n",
    "    print(f'ortalamanız: {ortalama} notunuz:3')\n",
    "\n",
    "\n",
    "\n",
    "\n"
   ]
  },
  {
   "cell_type": "code",
   "execution_count": 51,
   "id": "4a3ee4fa",
   "metadata": {},
   "outputs": [
    {
     "name": "stdout",
     "output_type": "stream",
     "text": [
      "sayi 0-100 arasındadır\n"
     ]
    }
   ],
   "source": [
    "#soru-3\n",
    "# girilen sayının 0-100 arasında olup olmadığını kontrol et\n",
    "\n",
    "sayi=float(input(\"sayı giriniz: \"))\n",
    "result=(sayi>0) and (sayi<=100)\n",
    "  \n",
    "if result:\n",
    "      print(f\"sayi 0-100 arasındadır\")\n",
    "else:\n",
    "      print(\"sayi 0-100 arasında değildir\")"
   ]
  }
 ],
 "metadata": {
  "kernelspec": {
   "display_name": "Python 3",
   "language": "python",
   "name": "python3"
  },
  "language_info": {
   "codemirror_mode": {
    "name": "ipython",
    "version": 3
   },
   "file_extension": ".py",
   "mimetype": "text/x-python",
   "name": "python",
   "nbconvert_exporter": "python",
   "pygments_lexer": "ipython3",
   "version": "3.11.9"
  }
 },
 "nbformat": 4,
 "nbformat_minor": 5
}
