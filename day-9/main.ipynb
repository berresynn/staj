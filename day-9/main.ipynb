{
 "cells": [
  {
   "cell_type": "markdown",
   "id": "1c828bba",
   "metadata": {},
   "source": [
    "### Nesne Tabanlı Programlama"
   ]
  },
  {
   "cell_type": "code",
   "execution_count": null,
   "id": "c1a20ac6",
   "metadata": {},
   "outputs": [],
   "source": [
    "#constructor(yapıcı metod)\n",
    "def__init__(self,name,year):\n",
    " #object attributes\n",
    " self.name=nameself\n",
    " print(\"init metodu çalişti.\")\n"
   ]
  },
  {
   "cell_type": "code",
   "execution_count": null,
   "id": "61dcc1db",
   "metadata": {},
   "outputs": [],
   "source": [
    "# pass = yer tutuucu \n"
   ]
  },
  {
   "cell_type": "code",
   "execution_count": null,
   "id": "4c7b3b2d",
   "metadata": {},
   "outputs": [
    {
     "ename": "SyntaxError",
     "evalue": "unterminated string literal (detected at line 5) (2030812723.py, line 5)",
     "output_type": "error",
     "traceback": [
      "  \u001b[36mCell\u001b[39m\u001b[36m \u001b[39m\u001b[32mIn[2]\u001b[39m\u001b[32m, line 5\u001b[39m\n\u001b[31m    \u001b[39m\u001b[31mprint(f\"name: {p1.name} year: \"{\")\u001b[39m\n                                    ^\n\u001b[31mSyntaxError\u001b[39m\u001b[31m:\u001b[39m unterminated string literal (detected at line 5)\n"
     ]
    }
   ],
   "source": [
    "#object(instance)\n",
    "p1=person(\"ali\", 2000)\n",
    "p2=person(\"yağmur\",2010)\n",
    "\n",
    "print(f\"name: {p1.name} year: {\")\n",
    "\n",
    "\n",
    "print(p1)\n",
    "print(p2)\n",
    "print(type(p1))\n",
    "print(type(p2))\n",
    "print(p1==p2)\n"
   ]
  },
  {
   "cell_type": "markdown",
   "id": "3af75352",
   "metadata": {},
   "source": [
    "### Metod"
   ]
  },
  {
   "cell_type": "code",
   "execution_count": 4,
   "id": "6c69e567",
   "metadata": {},
   "outputs": [],
   "source": [
    "#instance metod\n",
    "\n",
    "def intro(self):\n",
    " print(\"hello\")"
   ]
  },
  {
   "cell_type": "code",
   "execution_count": 11,
   "id": "0e17f56b",
   "metadata": {},
   "outputs": [
    {
     "ename": "SyntaxError",
     "evalue": "unterminated string literal (detected at line 18) (2375956787.py, line 18)",
     "output_type": "error",
     "traceback": [
      "  \u001b[36mCell\u001b[39m\u001b[36m \u001b[39m\u001b[32mIn[11]\u001b[39m\u001b[32m, line 18\u001b[39m\n\u001b[31m    \u001b[39m\u001b[31mprint(f' c1 : alan={c1.alan_hesapla()}) cevre={c1.cevre_hesapla()}\u001b[39m\n          ^\n\u001b[31mSyntaxError\u001b[39m\u001b[31m:\u001b[39m unterminated string literal (detected at line 18)\n"
     ]
    }
   ],
   "source": [
    "class circle:\n",
    "#class object attribute\n",
    " pi=3.14\n",
    "\n",
    "def __init__(self,yaricap=1):\n",
    "  self.yaricap=yaricap\n",
    " \n",
    " #methods\n",
    "def cevre_hesapla(self):\n",
    "  return 2*self.pi+self.yaricap\n",
    " \n",
    "def ala_hesapla(self):\n",
    "  return self.pi*(self.yaricap**2)\n",
    "\n",
    "c1=circle() #yaricap=1\n",
    "c2=circle(5)\n",
    "\n",
    "print(f' c1 : alan={c1.alan_hesapla()}) cevre={c1.cevre_hesapla()}\n",
    "print(f' c1 : alan={c2.alan_hesapla()}) cevre={c2.cevre_hesapla()}"
   ]
  },
  {
   "cell_type": "markdown",
   "id": "2045a592",
   "metadata": {},
   "source": [
    "### İnheritance"
   ]
  },
  {
   "cell_type": "code",
   "execution_count": 12,
   "id": "da4056e1",
   "metadata": {},
   "outputs": [
    {
     "name": "stdout",
     "output_type": "stream",
     "text": [
      "person created\n"
     ]
    }
   ],
   "source": [
    "#inheritance (katılım ): miras alma \n",
    "#person=> name, lastname,age,eat(),run(),drink()\n",
    "#student(person), teacher(person)\n",
    "#animal=dog(animal), cat(animal)\n",
    "\n",
    "class person():\n",
    "    def __init__(self):\n",
    "        print(\"person created\")\n",
    "\n",
    "class student():\n",
    "    pass\n",
    "\n",
    "p1=person()\n",
    "s1=student()"
   ]
  },
  {
   "cell_type": "code",
   "execution_count": 20,
   "id": "43ab0490",
   "metadata": {},
   "outputs": [
    {
     "name": "stdout",
     "output_type": "stream",
     "text": [
      "3\n",
      "9\n",
      "<class 'list'>\n",
      "<class 'str'>\n"
     ]
    }
   ],
   "source": [
    "myList=[1,2,3]\n",
    "myString=\"my string\"\n",
    "\n",
    "print(len(myList))\n",
    "print(len(myString))\n",
    "print(type(myList))\n",
    "print(type(myString))\n",
    "\n",
    "class Movie():\n",
    "    pass\n",
    "\n"
   ]
  },
  {
   "cell_type": "markdown",
   "id": "fbedbe22",
   "metadata": {},
   "source": [
    "### Uygulamalar"
   ]
  },
  {
   "cell_type": "markdown",
   "id": "53a9ca45",
   "metadata": {},
   "source": []
  }
 ],
 "metadata": {
  "kernelspec": {
   "display_name": "Python 3",
   "language": "python",
   "name": "python3"
  },
  "language_info": {
   "codemirror_mode": {
    "name": "ipython",
    "version": 3
   },
   "file_extension": ".py",
   "mimetype": "text/x-python",
   "name": "python",
   "nbconvert_exporter": "python",
   "pygments_lexer": "ipython3",
   "version": "3.11.9"
  }
 },
 "nbformat": 4,
 "nbformat_minor": 5
}
