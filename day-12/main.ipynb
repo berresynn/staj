{
 "cells": [
  {
   "cell_type": "markdown",
   "id": "fbcf6fcf",
   "metadata": {},
   "source": [
    "### Pythonda Dosya Açma Metotu"
   ]
  },
  {
   "cell_type": "code",
   "execution_count": null,
   "id": "a08c9d7a",
   "metadata": {},
   "outputs": [],
   "source": [
    "# \"w\" write yazma metotu\n",
    "# \"a\" append eklemek\n",
    "# \"x\" create oluşturma\n",
    "# \"r\" read okuma"
   ]
  },
  {
   "cell_type": "code",
   "execution_count": 1,
   "id": "e210803d",
   "metadata": {},
   "outputs": [],
   "source": [
    "file = open(\"newfile.txt\",\"w\")\n",
    "file.write(\"berre\")\n",
    "file.close()"
   ]
  },
  {
   "cell_type": "markdown",
   "id": "1e3a71ba",
   "metadata": {},
   "source": [
    "### Files"
   ]
  },
  {
   "cell_type": "code",
   "execution_count": 3,
   "id": "5b4d9604",
   "metadata": {},
   "outputs": [
    {
     "name": "stdout",
     "output_type": "stream",
     "text": [
      "<_io.TextIOWrapper name='newfile.txt' mode='r' encoding='cp1254'>\n",
      "Dosya kapandı.\n"
     ]
    }
   ],
   "source": [
    "try:\n",
    "    file=open(\"newfile.txt\",\"r\")\n",
    "    print(file)\n",
    "except FileNotFoundError:\n",
    "    print(\"Dosya okuma hatası.\")\n",
    "finally:\n",
    "    print(\"Dosya kapandı.\")\n",
    "    file.close()"
   ]
  },
  {
   "cell_type": "code",
   "execution_count": null,
   "id": "e48e40d0",
   "metadata": {},
   "outputs": [],
   "source": [
    "#for döngüsü\n",
    "for i in file:\n",
    "    print(i, end=\"\")"
   ]
  },
  {
   "cell_type": "code",
   "execution_count": null,
   "id": "00367402",
   "metadata": {},
   "outputs": [],
   "source": [
    "content1=file.read()\n",
    "\n",
    "print(\"içerik1\")\n",
    "print(content1)\n",
    "\n",
    "content2=file.read()\n",
    "print(\"içerik2\")\n",
    "print(content2)\n",
    "file.close()"
   ]
  },
  {
   "cell_type": "markdown",
   "id": "c7515991",
   "metadata": {},
   "source": [
    "# İç İçe Fonksiyonlar"
   ]
  },
  {
   "cell_type": "code",
   "execution_count": 7,
   "id": "7d4f81a3",
   "metadata": {},
   "outputs": [
    {
     "name": "stdout",
     "output_type": "stream",
     "text": [
      "hello ali\n",
      "None\n",
      "<function greeting at 0x000002BC2CB77BA0>\n",
      "<function greeting at 0x000002BC2CB77BA0>\n",
      "<function greeting at 0x000002BC2CB77BA0>\n"
     ]
    }
   ],
   "source": [
    "def greeting(name):\n",
    "    print(\"hello\",name)\n",
    "\n",
    "print(greeting(\"ali\"))\n",
    "print(greeting)\n",
    "\n",
    "sayHello=greeting\n",
    "print(sayHello)\n",
    "print(greeting)"
   ]
  },
  {
   "cell_type": "code",
   "execution_count": null,
   "id": "5207e687",
   "metadata": {},
   "outputs": [
    {
     "ename": "NameError",
     "evalue": "name 'inner_increment' is not defined",
     "output_type": "error",
     "traceback": [
      "\u001b[31m---------------------------------------------------------------------------\u001b[39m",
      "\u001b[31mNameError\u001b[39m                                 Traceback (most recent call last)",
      "\u001b[36mCell\u001b[39m\u001b[36m \u001b[39m\u001b[32mIn[8]\u001b[39m\u001b[32m, line 8\u001b[39m\n\u001b[32m      5\u001b[39m         \u001b[38;5;28mprint\u001b[39m(\u001b[33m\"\u001b[39m\u001b[33minner\u001b[39m\u001b[33m\"\u001b[39m)\n\u001b[32m      6\u001b[39m         \u001b[38;5;28;01mreturn\u001b[39;00m num1+\u001b[32m1\u001b[39m\n\u001b[32m----> \u001b[39m\u001b[32m8\u001b[39m num2=\u001b[43minner_increment\u001b[49m(num1)\n\u001b[32m      9\u001b[39m \u001b[38;5;28mprint\u001b[39m(num1,num2)\n\u001b[32m     11\u001b[39m outer(\u001b[32m10\u001b[39m)\n",
      "\u001b[31mNameError\u001b[39m: name 'inner_increment' is not defined"
     ]
    }
   ],
   "source": [
    "# encapsulation\n",
    "def outer(num1):\n",
    "    print(\"outer\")\n",
    "    def inner_increment(num1):\n",
    "        print(\"inner\")\n",
    "        return num1+1\n",
    "    \n",
    "num2= inner_increment(num1)\n",
    "print(num1,num2)\n",
    "\n",
    "outer(10)\n",
    "inner_increment(10)"
   ]
  },
  {
   "cell_type": "code",
   "execution_count": 9,
   "id": "bb8c73be",
   "metadata": {},
   "outputs": [
    {
     "name": "stdout",
     "output_type": "stream",
     "text": [
      "24\n"
     ]
    }
   ],
   "source": [
    "def factorial(number):\n",
    "\n",
    "    def inner_factorial(number):\n",
    "        if number<=1:\n",
    "            return 1\n",
    "        \n",
    "        return number*inner_factorial(number-1)\n",
    "    \n",
    "    return inner_factorial(number)\n",
    "\n",
    "print(factorial(4))"
   ]
  },
  {
   "cell_type": "markdown",
   "id": "0b21f464",
   "metadata": {},
   "source": [
    "### Fonksiyondan Fonksiyon Döndürme"
   ]
  },
  {
   "cell_type": "code",
   "execution_count": null,
   "id": "3bce79c0",
   "metadata": {},
   "outputs": [],
   "source": [
    "#bir sayının üssünü alma\n",
    "\n",
    "def usAlma(number):\n",
    "   \n",
    "    def inner(power):\n",
    "        return number**power\n",
    "    \n",
    "return inner \n",
    "\n",
    "two=usAlma(2)\n"
   ]
  },
  {
   "cell_type": "code",
   "execution_count": null,
   "id": "99168cd1",
   "metadata": {},
   "outputs": [],
   "source": [
    "def yetki_Sorgula(page):\n",
    "    def inner(role):\n",
    "        if role== \"admin\":\n",
    "            return \"{0} rolünün {1} sayfasına ulaşabilir \".format(role,page)\n",
    "        else\n",
    "            return \"{0} rolünün {1} sayfasına ulaşamaz \".format(role,page)\n",
    "        return inner\n",
    "\n",
    "user1= yetki_Sorgula(\"Product edit\")\n",
    "print(user1(\"admin\"))\n",
    "print(user1(\"user\"))            "
   ]
  },
  {
   "cell_type": "code",
   "execution_count": 10,
   "id": "5dddb40b",
   "metadata": {},
   "outputs": [],
   "source": [
    "def islem(islem_adi):\n",
    "    def toplam(*args):\n",
    "        toplam=0\n",
    "        for i in args:\n",
    "            toplam+=i\n",
    "        return toplam \n",
    "    def carpma(*args):\n",
    "        carpim=1\n",
    "        for i in args:\n",
    "            carpim*=i\n",
    "            return carpim\n",
    "        if islem_adi==\"toplam\":\n",
    "            return toplam\n",
    "        else:\n",
    "            return carpma\n",
    "        \n",
    "toplama=islem(\"toplama\")"
   ]
  },
  {
   "cell_type": "markdown",
   "id": "d2580c6f",
   "metadata": {},
   "source": [
    "### Fonksiyona Fonksiyon Gönderme"
   ]
  },
  {
   "cell_type": "code",
   "execution_count": null,
   "id": "1e611846",
   "metadata": {},
   "outputs": [],
   "source": [
    "def toplama(a,b):\n",
    "    return a+b\n",
    "def cikarma(a,b):\n",
    "    return a-b\n",
    "def carpma(a,b):\n",
    "    return(a*b)\n",
    "def bolme(a,b):\n",
    "    return(a/b)\n",
    "\n",
    "def islem(f1,f2,f3,f4,islem_adi)\n",
    "    \n",
    "    if islem_adi==\"toplam\":\n",
    "        print(f1(2,3))\n",
    "    elif islem_adi==\"cikarma\":\n",
    "        print(f2(5,3))\n",
    "    elif islem_adi==\"carpma\":\n",
    "        print(f3(3,4))\n",
    "    elif islem_adi==\"bolme\":\n",
    "        print(f4(10,2))\n",
    "    else:\n",
    "        print(\"gecersiz işlem.\")\n",
    "\n",
    "        islem(toplama,cikarma,carpma,bolme,\"toplama\")\n"
   ]
  }
 ],
 "metadata": {
  "kernelspec": {
   "display_name": "Python 3",
   "language": "python",
   "name": "python3"
  },
  "language_info": {
   "codemirror_mode": {
    "name": "ipython",
    "version": 3
   },
   "file_extension": ".py",
   "mimetype": "text/x-python",
   "name": "python",
   "nbconvert_exporter": "python",
   "pygments_lexer": "ipython3",
   "version": "3.11.9"
  }
 },
 "nbformat": 4,
 "nbformat_minor": 5
}
