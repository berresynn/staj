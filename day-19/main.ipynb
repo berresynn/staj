{
 "cells": [
  {
   "cell_type": "markdown",
   "id": "33195fde",
   "metadata": {},
   "source": [
    "else blokları if koşulu sağlanmadığı zaman çalışan bloklardır"
   ]
  },
  {
   "cell_type": "markdown",
   "id": "a1de5359",
   "metadata": {},
   "source": [
    "if bloğu şarttır, en az bir tane olmalı.\n",
    "\n",
    "elif sıfır veya birden fazla olabilir.\n",
    "\n",
    "else en sonda opsiyoneldir, koşulsuz çalışır (tüm diğer koşullar yanlışsa)"
   ]
  },
  {
   "cell_type": "code",
   "execution_count": 1,
   "id": "31b6dfc7",
   "metadata": {},
   "outputs": [
    {
     "name": "stdout",
     "output_type": "stream",
     "text": [
      "İkinci sayı büyük!\n"
     ]
    }
   ],
   "source": [
    "#örnek \n",
    "a=int(input(\"1. Sayıyı Giriniz: \"))\n",
    "b=int(input(\"2. Sayıyı Giriniz: \"))\n",
    "if a>b:\n",
    " print(\"Birinci sayı büyük!\")\n",
    "elif a<b:\n",
    " print(\"İkinci sayı büyük!\")\n",
    "else:\n",
    " print(\"Sayılar eşit!\")"
   ]
  },
  {
   "cell_type": "markdown",
   "id": "147b5365",
   "metadata": {},
   "source": [
    "FOR Döngüsü\n",
    "For döngüleri belirli sayıda işlemlerin tekrarlanması için kullanılan\n",
    "döngülerdir. For döngüleri başlangıç ve bitiş değerleri arasında\n",
    "artım miktarına göre istenilen sayıda tekrar yapar. Genellikle\n",
    "range() fonksiyonu ile birlikte kullanılmakla beraber string ve liste\n",
    "veri türleri içerisindeki elemanlar üzerinde gezinmekte için de\n",
    "kullanılabilmektedir"
   ]
  },
  {
   "cell_type": "code",
   "execution_count": 2,
   "id": "6cbad742",
   "metadata": {},
   "outputs": [
    {
     "name": "stdout",
     "output_type": "stream",
     "text": [
      "1\n",
      "2\n",
      "3\n",
      "4\n",
      "5\n",
      "6\n",
      "7\n",
      "8\n",
      "9\n",
      "10\n",
      "11\n",
      "12\n",
      "13\n",
      "14\n",
      "15\n",
      "16\n",
      "17\n",
      "18\n",
      "19\n",
      "20\n",
      "21\n",
      "22\n",
      "23\n",
      "24\n",
      "25\n",
      "26\n",
      "27\n",
      "28\n",
      "29\n",
      "30\n",
      "31\n",
      "32\n",
      "33\n",
      "34\n",
      "35\n",
      "36\n",
      "37\n",
      "38\n",
      "39\n",
      "40\n",
      "41\n",
      "42\n",
      "43\n",
      "44\n",
      "45\n",
      "46\n",
      "47\n",
      "48\n",
      "49\n",
      "50\n",
      "51\n",
      "52\n",
      "53\n",
      "54\n",
      "55\n",
      "56\n",
      "57\n",
      "58\n",
      "59\n",
      "60\n",
      "61\n",
      "62\n",
      "63\n",
      "64\n",
      "65\n",
      "66\n",
      "67\n",
      "68\n",
      "69\n",
      "70\n",
      "71\n",
      "72\n",
      "73\n",
      "74\n",
      "75\n",
      "76\n",
      "77\n",
      "78\n",
      "79\n",
      "80\n",
      "81\n",
      "82\n",
      "83\n",
      "84\n",
      "85\n",
      "86\n",
      "87\n",
      "88\n",
      "89\n",
      "90\n",
      "91\n",
      "92\n",
      "93\n",
      "94\n",
      "95\n",
      "96\n",
      "97\n",
      "98\n",
      "99\n"
     ]
    }
   ],
   "source": [
    "for n in range(1,100):\n",
    " print(n)\n"
   ]
  },
  {
   "cell_type": "code",
   "execution_count": 16,
   "id": "d65eaa6d",
   "metadata": {},
   "outputs": [
    {
     "name": "stdout",
     "output_type": "stream",
     "text": [
      "1\n",
      "3\n",
      "5\n",
      "7\n",
      "9\n",
      "11\n",
      "13\n",
      "15\n",
      "17\n",
      "19\n"
     ]
    }
   ],
   "source": [
    "for n in range(1,20,2):\n",
    " print(n)"
   ]
  },
  {
   "cell_type": "code",
   "execution_count": null,
   "id": "73912753",
   "metadata": {},
   "outputs": [
    {
     "name": "stdout",
     "output_type": "stream",
     "text": [
      "4950\n"
     ]
    }
   ],
   "source": [
    "#1-100 arası sayıların toplamı\n",
    "#Sum of numbers from 1 to 100  (sum=toplam)\n",
    "top= 0\n",
    "for i in range(1,100):\n",
    " top+= i\n",
    "print(top)"
   ]
  },
  {
   "cell_type": "markdown",
   "id": "0317d364",
   "metadata": {},
   "source": [
    "# film uygulamasındaki bilgilere ulaşma\n",
    "\n",
    "\n",
    "1) uygulamanın profil kısmına girip api anahtarı alıyoruz\n",
    "2) api bilgisini googleden aratabiliriz ancak bu biraz karmaşık\n",
    "3) dökümantasyon linkine tıklayarak daha detaylı bilgiye sahip olabiliriz\n",
    "4) dökümantasyon linkinden sonra movies'e tıkladığımızda popüler olanları,en yüksek puan alan filmler,vizyondakiler gibi bilgilere ulaşabiliriz\n",
    "5) \"try it out\" kısmına aldığımız api key'i yapıştırıyoruz\n",
    "6) bunun sonucunda kaç popüler film olduğu gibi bilgilere ulaşabiliriz\n",
    "7) \"search\" kısmında yine api key'i girdiğimizde \"query\" kısmına aramak istediğimiz kelime veya herfi girdiğimizde film isimleri içerisinde aradığımız şeyin nerde olduğunu verir\n"
   ]
  },
  {
   "cell_type": "code",
   "execution_count": null,
   "id": "dc3487ff",
   "metadata": {},
   "outputs": [],
   "source": [
    "import requests\n",
    "\n",
    "class theMovieDb:\n",
    "    def __init__(self):\n",
    "        self.api_url=\"https://api.themovieedb.org/3/\"\n",
    "        self.api_key=  #\"(api anahtarını yazıyoruz)\"\n",
    "\n",
    "    def getpopulars(self):\n",
    "        response =requests.get(f\"{self.api_url}/popular movie api key yaziyoruz\")\n",
    "\n",
    "movieapi=theMovieDb()\n",
    "\n",
    "while True()\n",
    "   secim=input(\"1- Popular Movies\\n2-Exit\\n.Seçim: \")\n",
    "\n",
    "   if secim==\"2\":\n",
    "       break\n",
    "   else:\n",
    "       if secim==\"1\":\n",
    "           result=movieApi.getPopulars()\n",
    "           for movie in movies[result]:\n",
    "               print(movie)\n",
    "\n",
    "\n"
   ]
  }
 ],
 "metadata": {
  "kernelspec": {
   "display_name": "Python 3",
   "language": "python",
   "name": "python3"
  },
  "language_info": {
   "codemirror_mode": {
    "name": "ipython",
    "version": 3
   },
   "file_extension": ".py",
   "mimetype": "text/x-python",
   "name": "python",
   "nbconvert_exporter": "python",
   "pygments_lexer": "ipython3",
   "version": "3.11.9"
  }
 },
 "nbformat": 4,
 "nbformat_minor": 5
}
