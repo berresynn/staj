{
 "cells": [
  {
   "cell_type": "markdown",
   "id": "9690617e",
   "metadata": {},
   "source": [
    "Matematiksel Fonksiyonlar\n",
    " ABS(): Parametre olarak verilen değerin mutlak değerini bulur.\n",
    " SELECT ABS(2); Sonuç =2\n",
    " MOD(): Parametre olarak verilen iki değerin bölümünden kalanını verir.\n",
    " SELECT MOD(234,10); Sonuç=4\n",
    " SQRT(): Parametre olarak verilen değerin karekökünü verir.\n",
    " SELECT SQRT (4) ; Sonuç=2"
   ]
  },
  {
   "cell_type": "markdown",
   "id": "fab681cc",
   "metadata": {},
   "source": [
    "Değer atamak için := veya = operatörleri kullanılır.\n",
    "\n",
    "Değişkenler küçük-BÜYÜK harfe duyarlı değildir.\n",
    "\n",
    "Yani @id ile @ID aynıdır.\n",
    "\n",
    "MySQL integer, float, decimal, string ve NULL değişken tiplerini destekler.\n",
    "\n",
    "MySQL değişkenleri sadece geçerli kullanıcı ve oturumda kullanılır"
   ]
  },
  {
   "cell_type": "markdown",
   "id": "cc727b3a",
   "metadata": {},
   "source": [
    " tablo_adi READ|WRITE;\n",
    "READ: Diğer oturumlar tarafından tabloya kayıt ekleme, silme ve güncelleme yapılamaz. Sadece veriler okunur.\n",
    "\n",
    "WRITE: Diğer oturumlar tarafından tüm istekleri engeller."
   ]
  },
  {
   "cell_type": "markdown",
   "id": "2cb7fa7d",
   "metadata": {},
   "source": [
    "WHERE– belirtilen koşullara göre satırları filtrelemek için WHERE deyimini nasıl kullanacağınızı öğrenin.\n",
    "AND – verileri filtrelemek için karmaşık bir koşul oluşturmak üzere Boole ifadelerini birleştirmek üzere AND işlecine tanıtın.\n",
    "OR– sizi OR operatörüne tanıtın ve verileri filtrelemek için OR operatörünü AND operatörü ile nasıl birleştireceğinizi gösterin.\n",
    "IN – bir değerin bir listedeki veya alt sorgudaki herhangi bir değerle eşleşip eşleşmediğini belirlemek için IN operatörünü WHERE deyiminde nasıl kullanacağınızı gösterir.\n",
    "BETWEEN – BETWEEN operatörünü kullanarak bir aralığa göre verilerin sorgulanmasını gösterir.\n",
    "LIKE – belirli bir desene dayanarak verileri sorgulama tekniğini sağlar.\n",
    "LIMIT – SELECT ifadesinin döndürdüğü satır sayısını sınırlamak için LIMIT kullanın.\n",
    "IS NULL – IS NULL işleci kullanarak bir değerin NULL olup olmadığını sınayın."
   ]
  },
  {
   "cell_type": "markdown",
   "id": "10b0a412",
   "metadata": {},
   "source": [
    "C: Create (Oluştur)\n",
    "\n",
    "R: Read (Oku)\n",
    "\n",
    "U: Update (Güncelle)\n",
    "\n",
    "D: Delete (Sil)"
   ]
  },
  {
   "cell_type": "markdown",
   "id": "ef57dfec",
   "metadata": {},
   "source": [
    "### veritabanı oluşturma "
   ]
  },
  {
   "cell_type": "markdown",
   "id": "aa19afcd",
   "metadata": {},
   "source": [
    "CREATE DATABASE OkulYonetimi;\n",
    "Bu komutla OkulYonetimi adında bir veritabanı oluşturursun. Artık bu veritabanı içinde tablolar oluşturabilirsin."
   ]
  },
  {
   "cell_type": "markdown",
   "id": "326bd122",
   "metadata": {},
   "source": [
    "### tablo oluşturma"
   ]
  },
  {
   "cell_type": "markdown",
   "id": "5fef2ae3",
   "metadata": {},
   "source": [
    "daha öncede yaptığımız gibi buna benzer bir kodla tablo oluşturabiliriz"
   ]
  },
  {
   "cell_type": "markdown",
   "id": "4ab9e9da",
   "metadata": {},
   "source": [
    "CREATE TABLE Ogrenciler (\n",
    "    OgrenciID INT PRIMARY KEY,\n",
    "    Ad VARCHAR(50),\n",
    "    Soyad VARCHAR(50),\n",
    "    DogumTarihi DATE\n",
    ");"
   ]
  },
  {
   "cell_type": "markdown",
   "id": "6374262f",
   "metadata": {},
   "source": [
    "INT: Sayısal değerler için (tamsayı)\n",
    "\n",
    "VARCHAR(50): Maksimum 50 karakterlik metin\n",
    "\n",
    "DATE: Tarih verisi\n",
    "\n",
    "PRIMARY KEY: Her satır için benzersiz olan sütun (kimlik)"
   ]
  },
  {
   "cell_type": "markdown",
   "id": "3d0bca35",
   "metadata": {},
   "source": [
    "### tabloya veri ekleme"
   ]
  },
  {
   "cell_type": "markdown",
   "id": "624fc41d",
   "metadata": {},
   "source": [
    "Bir tabloya veri eklemek için INSERT INTO komutu kullanılır\n",
    "INSERT INTO ... VALUES (...) şeklinde çalışır."
   ]
  },
  {
   "cell_type": "markdown",
   "id": "c786aab3",
   "metadata": {},
   "source": [
    "INSERT INTO Ogrenciler (OgrenciID, Ad, Soyad, DogumTarihi)\n",
    "VALUES (1, 'Ahmet', 'Yılmaz', '2005-05-12');"
   ]
  },
  {
   "cell_type": "markdown",
   "id": "de9f6e1d",
   "metadata": {},
   "source": [
    "### veri silme"
   ]
  },
  {
   "cell_type": "markdown",
   "id": "c7f4a269",
   "metadata": {},
   "source": [
    "Kayıt silmek için DELETE kullanılır."
   ]
  },
  {
   "cell_type": "markdown",
   "id": "6e870453",
   "metadata": {},
   "source": [
    "DELETE FROM Ogrenciler\n",
    "WHERE OgrenciID = 1;"
   ]
  },
  {
   "cell_type": "markdown",
   "id": "80b54f46",
   "metadata": {},
   "source": [
    "### tablo birleştirme"
   ]
  },
  {
   "cell_type": "markdown",
   "id": "190022e6",
   "metadata": {},
   "source": [
    "Tablo ve Sütun takma adları (alias) – sizi tablo ve sütun takma adları ile tanıştırır.\n",
    "JOIN – size MySQL’de desteklenen inner join, left join ve right join dahil olmak üzere genel bir bakış sunar.\n",
    "INNER JOIN – Başka bir tabloda eşleşen satırları olan bir tablodaki satırları sorgula.\n",
    "LEFT JOIN – soldaki tablodaki tüm satırları ve sağdaki tablodaki eşleşen satırları döndürür, sağdaki tabloda eşleşen satır bulunmazsa null değerini döndürür.\n",
    "RIGHT JOIN – tüm satırları sağdaki tablodan ve eşleşen satırları soldaki tablodan döndür, yoksa soldaki tabloda eşleşen satır bulunamadı.\n",
    "CROSS JOIN – Birden fazla tablodaki satırların Kartezyen ürününü oluşturun.\n",
    "Kendiliğinden birleştirme – tablo diğer adını kullanarak bir tabloya kendiliğinden katılın ve aynı tablodaki satırları iç birleştirme ve sol birleştirme kullanarak bağlayın."
   ]
  }
 ],
 "metadata": {
  "language_info": {
   "name": "python"
  }
 },
 "nbformat": 4,
 "nbformat_minor": 5
}
