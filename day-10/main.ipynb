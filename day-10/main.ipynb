{
 "cells": [
  {
   "cell_type": "code",
   "execution_count": null,
   "id": "7bc55a9a",
   "metadata": {},
   "outputs": [],
   "source": [
    "#square=kare alma fonksiyonu\n",
    "#map metoduyla dizinin içindeki her bir elemana ulaşıp bir fonksiyon üzerinden geçirebiliriz\n",
    "#map liste yada for metodlarıyla çalışır\n",
    "\n"
   ]
  },
  {
   "cell_type": "code",
   "execution_count": null,
   "id": "6cdf9c41",
   "metadata": {},
   "outputs": [
    {
     "name": "stdout",
     "output_type": "stream",
     "text": [
      "[1, 4, 25, 64, 121]\n"
     ]
    }
   ],
   "source": [
    "#\\\\\\örnek\\\\\\ map ile kare alma\n",
    "def square(num): return num ** 2\n",
    "numbers=[1,2,5,8,11]\n",
    "result=list(map(square,numbers))\n",
    "print(result)"
   ]
  },
  {
   "cell_type": "code",
   "execution_count": null,
   "id": "76369aca",
   "metadata": {},
   "outputs": [
    {
     "name": "stdout",
     "output_type": "stream",
     "text": [
      "1\n",
      "4\n",
      "25\n",
      "64\n",
      "121\n",
      "[1, 4, 25, 64, 121]\n"
     ]
    }
   ],
   "source": [
    "# yukarıdaki sorunun for ile yapılışı \n",
    "def square(num): return num ** 2\n",
    "numbers=[1,2,5,8,11]\n",
    "for item in map(square,numbers):\n",
    "    print(item)\n",
    "print(result)"
   ]
  },
  {
   "cell_type": "code",
   "execution_count": null,
   "id": "37f66658",
   "metadata": {},
   "outputs": [],
   "source": [
    "#lambda= ismi olmayan bir fonksiyon tanımlayabilmemizi sağlar\n",
    "#??????????????  ANLAMADIM  ????????????????????????????????????????????????"
   ]
  },
  {
   "cell_type": "code",
   "execution_count": 16,
   "id": "a830516a",
   "metadata": {},
   "outputs": [],
   "source": [
    "#verilen ifadeyi değiştirme \n",
    "x=50\n",
    "def test(x):\n",
    "    print(f'x:{x}')\n",
    "\n",
    "    x=100\n",
    "    print(f'changed x to {x}')\n",
    "    test(x)\n",
    "    print(x)\n",
    "\n",
    "# 50 olarak verilen ifadeyi 100 ile değiştirdik\n"
   ]
  },
  {
   "cell_type": "code",
   "execution_count": null,
   "id": "4ef612c2",
   "metadata": {},
   "outputs": [],
   "source": []
  }
 ],
 "metadata": {
  "kernelspec": {
   "display_name": "Python 3",
   "language": "python",
   "name": "python3"
  },
  "language_info": {
   "codemirror_mode": {
    "name": "ipython",
    "version": 3
   },
   "file_extension": ".py",
   "mimetype": "text/x-python",
   "name": "python",
   "nbconvert_exporter": "python",
   "pygments_lexer": "ipython3",
   "version": "3.11.9"
  }
 },
 "nbformat": 4,
 "nbformat_minor": 5
}
