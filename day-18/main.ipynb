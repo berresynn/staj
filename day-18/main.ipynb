{
 "cells": [
  {
   "cell_type": "markdown",
   "id": "256fcaf3",
   "metadata": {},
   "source": [
    "### OS METOTU"
   ]
  },
  {
   "cell_type": "code",
   "execution_count": 3,
   "id": "b09208cb",
   "metadata": {},
   "outputs": [
    {
     "name": "stdout",
     "output_type": "stream",
     "text": [
      "c:\\\n"
     ]
    }
   ],
   "source": [
    "#new directory adında dosyalara yeni bir klasör açtık\n",
    "import os \n",
    "\n",
    "result= dir(os)\n",
    "result=os.name\n",
    "\n",
    "os.chdir(\"c:\\\\\")\n",
    "result=os.getcwd()\n",
    "os.mkdir(\"newdirectory\")\n",
    "\n",
    "print(result)\n",
    "\n"
   ]
  },
  {
   "cell_type": "markdown",
   "id": "922302cb",
   "metadata": {},
   "source": [
    "os.getcwd()  \n",
    "os modülünün getcwd() fonksiyonu bize o anda içinde bulunduğumuz dizinin adını verir"
   ]
  },
  {
   "cell_type": "markdown",
   "id": "729df1e9",
   "metadata": {},
   "source": [
    "os.chdir()   \n",
    "os modülünün chdir() fonksiyonu bize bir dizinden başka bir dizine geçme imkanı verir"
   ]
  },
  {
   "cell_type": "markdown",
   "id": "197216b0",
   "metadata": {},
   "source": [
    "os.listdir()\n",
    "oluşturduğumuz dosya içindekileri listeler"
   ]
  },
  {
   "cell_type": "markdown",
   "id": "3349532f",
   "metadata": {},
   "source": [
    "os.sep\n",
    "os modülünün sep niteliği, kodlarımızın çalıştığı işletim sisteminin dizin ayracının ne olduğunu bize gösterir"
   ]
  },
  {
   "cell_type": "markdown",
   "id": "8424af8a",
   "metadata": {},
   "source": [
    "dosyanın oluşturulma zamanını öğrenmek için \n",
    "result=os.stat(\"-datetime.py\")\n",
    "result=datetime.datetime.fromtimestamp(result.st_ctime)\n",
    "print(result)"
   ]
  },
  {
   "cell_type": "markdown",
   "id": "20a2b36e",
   "metadata": {},
   "source": [
    "klasörün adını değiştirmak istersek\n",
    " os.rename(\"günler\",\"yeni\")\n",
    "\n",
    " günler dosyassının ismi yeni olur"
   ]
  },
  {
   "cell_type": "markdown",
   "id": "341a7021",
   "metadata": {},
   "source": [
    "klasörü silmek istersek \n",
    "os.rmdir(\"günler\")\n",
    "günler klasörü silinir"
   ]
  },
  {
   "cell_type": "markdown",
   "id": "ddbd36ab",
   "metadata": {},
   "source": [
    "base_dir, dosya veya klasör oluşturmak istediğin ana dizinin yolunu tutan bir değişkendir.\n",
    "\n",
    "örnek:\n",
    "\n",
    "base_dir = \"günler\"\n",
    "\n",
    "Tüm klasörler \"günler\" adlı ana klasörün içinde oluşturulacak.\n",
    "\n",
    "Yani \"günler/01-07-2025\", \"günler/02-07-2025\" gibi yollar bu base_dir'in alt klasörleridir."
   ]
  },
  {
   "cell_type": "markdown",
   "id": "fa086bff",
   "metadata": {},
   "source": [
    "%d → Gün (01–31)\n",
    "\n",
    "%m → Ay (01–12)\n",
    "\n",
    "%Y → Yıl (4 haneli)"
   ]
  },
  {
   "cell_type": "markdown",
   "id": "728bc7ef",
   "metadata": {},
   "source": [
    "timedelta= bir sonraki klasöre yani güne geçmek için kullanılır"
   ]
  },
  {
   "cell_type": "markdown",
   "id": "a2200da3",
   "metadata": {},
   "source": [
    "current_date = start_date\n",
    "current_date, döngüde ilerleyecek olan tarihi temsil eder.\n",
    "\n",
    "İlk değer olarak başlangıç tarihi olan start_date verilir (01-07-2025).\n",
    "\n",
    "Bu değişken her döngüde 1 gün artırılacak"
   ]
  },
  {
   "cell_type": "markdown",
   "id": "1fa53fca",
   "metadata": {},
   "source": [
    "while current_date <= end_date:\n",
    "Bu bir while döngüsüdür. Yani \"şu koşul doğru olduğu sürece çalış\" demektir.\n",
    "\n",
    "current_date, end_date tarihine ulaşana kadar (30 Temmuz 2025 dahil) döngü devam eder"
   ]
  },
  {
   "cell_type": "code",
   "execution_count": 4,
   "id": "80a4012f",
   "metadata": {},
   "outputs": [
    {
     "name": "stdout",
     "output_type": "stream",
     "text": [
      "c:\\\n"
     ]
    }
   ],
   "source": [
    "import os \n",
    "\n",
    "result= dir(os)\n",
    "result=os.name\n",
    "\n",
    "os.chdir(\"c:\\\\\")\n",
    "result=os.getcwd()\n",
    "os.mkdir(\"günler\")\n",
    "\n",
    "print(result)"
   ]
  },
  {
   "cell_type": "code",
   "execution_count": 55,
   "id": "ede6464e",
   "metadata": {},
   "outputs": [
    {
     "name": "stdout",
     "output_type": "stream",
     "text": [
      "01_07_2025_14_46_.txt'e 395161 yazıldı.\n",
      "02_07_2025_14_46_.txt'e 327631 yazıldı.\n",
      "03_07_2025_14_46_.txt'e 291072 yazıldı.\n",
      "04_07_2025_14_46_.txt'e 876691 yazıldı.\n",
      "05_07_2025_14_46_.txt'e 234035 yazıldı.\n",
      "06_07_2025_14_46_.txt'e 697365 yazıldı.\n",
      "07_07_2025_14_46_.txt'e 250883 yazıldı.\n",
      "08_07_2025_14_46_.txt'e 727645 yazıldı.\n",
      "09_07_2025_14_46_.txt'e 731153 yazıldı.\n",
      "10_07_2025_14_46_.txt'e 750376 yazıldı.\n",
      "11_07_2025_14_46_.txt'e 194976 yazıldı.\n",
      "12_07_2025_14_46_.txt'e 465904 yazıldı.\n",
      "13_07_2025_14_46_.txt'e 798331 yazıldı.\n",
      "14_07_2025_14_46_.txt'e 105391 yazıldı.\n",
      "15_07_2025_14_46_.txt'e 167906 yazıldı.\n",
      "16_07_2025_14_46_.txt'e 852146 yazıldı.\n",
      "17_07_2025_14_46_.txt'e 916619 yazıldı.\n",
      "18_07_2025_14_46_.txt'e 569103 yazıldı.\n",
      "19_07_2025_14_46_.txt'e 786244 yazıldı.\n",
      "20_07_2025_14_46_.txt'e 127105 yazıldı.\n",
      "21_07_2025_14_46_.txt'e 640786 yazıldı.\n",
      "22_07_2025_14_46_.txt'e 345973 yazıldı.\n",
      "23_07_2025_14_46_.txt'e 430820 yazıldı.\n",
      "24_07_2025_14_46_.txt'e 474894 yazıldı.\n",
      "25_07_2025_14_46_.txt'e 892281 yazıldı.\n",
      "26_07_2025_14_46_.txt'e 671979 yazıldı.\n",
      "27_07_2025_14_46_.txt'e 186304 yazıldı.\n",
      "28_07_2025_14_46_.txt'e 806299 yazıldı.\n",
      "29_07_2025_14_46_.txt'e 678070 yazıldı.\n",
      "30_07_2025_14_46_.txt'e 905894 yazıldı.\n",
      "Tüm gün klasörler ve dosyalar başarıyla oluşturuldu.\n"
     ]
    }
   ],
   "source": [
    "import os\n",
    "from datetime import datetime, timedelta\n",
    "import random\n",
    "\n",
    "# Başlangıç ve bitiş tarihleri\n",
    "start_date = datetime(2025, 7, 1)\n",
    "end_date = datetime(2025, 7, 30)\n",
    "\n",
    "# Ana klasör (günler)\n",
    "base_dir = r\"C:\\Users\\Admin\\Documents\\staj\\day-18\\günler\"\n",
    "\n",
    "# Klasör yoksa oluştur\n",
    "os.makedirs(base_dir, exist_ok=True)\n",
    "\n",
    "# Toplam kaç gün var, onu hesapla\n",
    "total_days = (end_date - start_date).days + 1\n",
    "\n",
    "# For döngüsü ile her güne klasör oluştur\n",
    "for i in range(total_days):\n",
    "    current_date = start_date + timedelta(days=i)\n",
    "    folder_name = current_date.strftime(\"%d-%m-%Y\")\n",
    "    folder_path = os.path.join(base_dir, folder_name)\n",
    "    \n",
    "    os.makedirs(folder_path, exist_ok=True)\n",
    "\n",
    "    #o klasörün içine gir ve txt'yi oluştur\n",
    "\n",
    "    now = datetime.now()\n",
    "    hour = now.strftime(\"%H\")\n",
    "    minute = now.strftime(\"%M\")\n",
    "\n",
    "    file_name = current_date.strftime(f\"%d_%m_%Y_{hour}_{minute}_.txt\")\n",
    "    file_path = os.path.join(folder_path, file_name)\n",
    "\n",
    "\n",
    "    random_number = random.randint(100_000, 1_000_000)\n",
    "    print(f\"{file_name}'e {random_number} yazıldı.\")\n",
    "\n",
    "    # Dosya içeriği\n",
    "    file_content = f\"Bu dosya {current_date.strftime('%d-%m-%Y')} tarihine aittir.\\nRandom Sayı : {random_number}\"\n",
    "\n",
    "    with open(file_path, \"w\", encoding=\"utf-8\") as f:\n",
    "        f.write(file_content)\n",
    "\n",
    "\n",
    "\n",
    "print(\"Tüm gün klasörler ve dosyalar başarıyla oluşturuldu.\")\n"
   ]
  },
  {
   "cell_type": "code",
   "execution_count": null,
   "id": "4445f415",
   "metadata": {},
   "outputs": [],
   "source": [
    "import os\n",
    "import random\n",
    "from datetime import datetime, timedelta\n"
   ]
  },
  {
   "cell_type": "markdown",
   "id": "fa4a2a83",
   "metadata": {},
   "source": [
    "############################################################################################################\n",
    "############################################################################################################"
   ]
  },
  {
   "cell_type": "markdown",
   "id": "6b4b5f12",
   "metadata": {},
   "source": [
    "\n",
    "current_date = start_date        Tarih döngüsünü başlatır.      \n",
    "while current_date <= end_date:  30 Temmuz 2025’e kadar döner.  \n",
    "strftime(\"%d-%m-%Y\")             Tarihi klasör ismine çevirir.  \n",
    "os.path.join()                   Ana klasörle günü birleştirir. \n",
    "os.makedirs()                    Klasörü oluşturur.             \n",
    "timedelta(days=1)                1 gün ilerletir.               \n"
   ]
  },
  {
   "cell_type": "code",
   "execution_count": 7,
   "id": "b3ab533c",
   "metadata": {},
   "outputs": [
    {
     "data": {
      "text/plain": [
       "'günler\\\\temmuz ayi\\\\txt'"
      ]
     },
     "execution_count": 7,
     "metadata": {},
     "output_type": "execute_result"
    }
   ],
   "source": [
    "import os \n",
    "\n",
    "result= dir(os)\n",
    "result=os.name\n",
    "liste = ['günler', 'temmuz ayi', 'txt']\n",
    "os.sep.join(liste)"
   ]
  },
  {
   "cell_type": "code",
   "execution_count": 9,
   "id": "bcee9aed",
   "metadata": {},
   "outputs": [
    {
     "name": "stdout",
     "output_type": "stream",
     "text": [
      "nt\n"
     ]
    }
   ],
   "source": [
    "import os \n",
    "\n",
    "result= dir(os)\n",
    "result=os.name\n",
    "\n",
    "os.makedirs(\"günler/01-07-2025\")\n",
    "print(result)"
   ]
  },
  {
   "cell_type": "markdown",
   "id": "09f83a38",
   "metadata": {},
   "source": [
    "### Task\n",
    "- Aynı dizinde Günler isimli dosya olacak\n",
    "    - 01-07-2025'ten itibaren 30-07-2025'a kadar dosya oluşturulacak\n",
    "        - Her dosyanın içinde 01_07_2025_{saat}_{dakika}.txt\n",
    "            - random sayılar yazdın 100_000 - 1_000_000 arasında 1 tane sayı yazacak\n",
    "\n",
    "Günler {dosya}\n",
    "    - 01-07-2025 {dosya}\n",
    "        - 01_07_2025_{saat}_{dakika}.txt {file}\n",
    "            - 100_001\n",
    "    - 02-07-2025 {dosya}\n",
    "        - 02_07_2025_{saat}_{dakika}.txt {file}\n",
    "            - 600_288"
   ]
  },
  {
   "cell_type": "markdown",
   "id": "7c64e715",
   "metadata": {},
   "source": [
    "######################################################################################################################################\n",
    "######################################################################################################################################"
   ]
  },
  {
   "cell_type": "markdown",
   "id": "c40f226d",
   "metadata": {},
   "source": [
    "# JSON"
   ]
  },
  {
   "cell_type": "markdown",
   "id": "129bee47",
   "metadata": {},
   "source": [
    "JSON.stringify objeyi JSON’a çevirir.\n",
    "JSON.parse JSON’dan objeye çevirmeye yarar"
   ]
  },
  {
   "cell_type": "markdown",
   "id": "6ff337e3",
   "metadata": {},
   "source": [
    "json modeli özelliği\n",
    "Karakterler çift tırnak kullanır. JSON’da tek tırnak veya ters tırnak kullanılmaz. Bundan dolayı 'Ahmet' → \"Ahmet\" olur.\n",
    "Obje özelliklerinin isimleri de çift tırnak içinde alınır. Bu da zorunludur. Bundan dolayı yas:30 , \"yas\":30 olur"
   ]
  },
  {
   "cell_type": "markdown",
   "id": "acac90e2",
   "metadata": {},
   "source": [
    "Aşağıdaki türdeki Python nesnelerini JSON dizelerine dönüştürebiliriz\n",
    "\n",
    "dict\n",
    "list\n",
    "tuple\n",
    "string\n",
    "int\n",
    "float\n",
    "True\n",
    "False\n",
    "None"
   ]
  },
  {
   "cell_type": "markdown",
   "id": "a024c1d7",
   "metadata": {},
   "source": [
    "Python'dan JSON'a dönüştürdüğümüzde, Python nesneleri JSON eşdeğerine dönüştürülür"
   ]
  },
  {
   "cell_type": "code",
   "execution_count": null,
   "id": "a853a2de",
   "metadata": {},
   "outputs": [
    {
     "name": "stdout",
     "output_type": "stream",
     "text": [
      "30\n"
     ]
    }
   ],
   "source": [
    "import json\n",
    "\n",
    "# some JSON:\n",
    "x = '{ \"name\":\"John\", \"age\":30, \"city\":\"New York\"}'\n",
    "\n",
    "# parse x:\n",
    "y = json.loads(x)  #loads=yükle\n",
    "\n",
    "# the result is a Python dictionary:\n",
    "print(y[\"age\"])"
   ]
  },
  {
   "cell_type": "code",
   "execution_count": null,
   "id": "ce5d0a39",
   "metadata": {},
   "outputs": [],
   "source": [
    "json.dumps()=> sonuçtaki anahtarları sıralamak için parametrelere sahiptir:\n",
    "\n",
    "#Örnek\n",
    "#sort_keysSonucun sıralanıp sıralanmayacağını belirtmek için parametreyi kullanın :\n",
    "\n",
    "json.dumps(x, indent=4, sort_keys=True"
   ]
  },
  {
   "cell_type": "code",
   "execution_count": null,
   "id": "a7324ba0",
   "metadata": {},
   "outputs": [],
   "source": [
    "#soru\n",
    "#Kütüphanedeki hangi yöntem jsonbir Python nesnesini JSON dizesine dönüştürmek için kullanılabilir?\n",
    "\n",
    "1)json.tojson()\n",
    "2)json.dumps()\n",
    "3)json.extract()\n",
    "\n",
    "cevap=2"
   ]
  },
  {
   "cell_type": "code",
   "execution_count": null,
   "id": "5501d005",
   "metadata": {},
   "outputs": [],
   "source": [
    "#soru\n",
    "#Metodda json.dumps()sonucu sıralamak için kullanılan bir anahtar kelime parametresi var, adı ne?\n",
    "\n",
    "1)order\n",
    "2)sort_keys\n",
    "3)arrange\n",
    "\n",
    "cevap=2"
   ]
  }
 ],
 "metadata": {
  "kernelspec": {
   "display_name": "Python 3",
   "language": "python",
   "name": "python3"
  },
  "language_info": {
   "codemirror_mode": {
    "name": "ipython",
    "version": 3
   },
   "file_extension": ".py",
   "mimetype": "text/x-python",
   "name": "python",
   "nbconvert_exporter": "python",
   "pygments_lexer": "ipython3",
   "version": "3.11.9"
  }
 },
 "nbformat": 4,
 "nbformat_minor": 5
}
