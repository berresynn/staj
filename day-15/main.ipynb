{
 "cells": [
  {
   "cell_type": "markdown",
   "id": "537febc2",
   "metadata": {},
   "source": [
    "### Re modülü"
   ]
  },
  {
   "cell_type": "code",
   "execution_count": null,
   "id": "f66d6b2a",
   "metadata": {},
   "outputs": [],
   "source": [
    "#  \"+\" bir karakterin bir veya daha fazla olmasını kontrol eder\n",
    "\n",
    "ma*n   => mn      =no\n",
    "          Man     =1\n",
    "          maaan   =1\n",
    "          main    =no \n",
    "\n",
    "result=re.findall(\"sa*t\",str)"
   ]
  },
  {
   "cell_type": "code",
   "execution_count": null,
   "id": "024f8c2d",
   "metadata": {},
   "outputs": [],
   "source": [
    "# aradığımız ifadelere +,*,? neye göre konuluyo yukarıdaki örneği anlamadım??????????????????????????????????????????"
   ]
  },
  {
   "cell_type": "code",
   "execution_count": null,
   "id": "4d1cbd67",
   "metadata": {},
   "outputs": [],
   "source": [
    "# \"?\" bir karakterin sıfır ya da bir kez olmasını kontrol eder\n",
    "\n",
    "ma*n   => mn      =no\n",
    "          Man     =1\n",
    "          maaan   =1\n",
    "          main    =no #(anın arkasından n gelmiyo)"
   ]
  },
  {
   "cell_type": "code",
   "execution_count": null,
   "id": "2d6e2be8",
   "metadata": {},
   "outputs": [],
   "source": [
    "#  findall=*tüm* eşleşmeleri bulur ve bunları her dize bir eşleşmeyi temsil eden bir dize listesi olarak döndürür"
   ]
  },
  {
   "cell_type": "code",
   "execution_count": null,
   "id": "c526fcc1",
   "metadata": {},
   "outputs": [],
   "source": [
    "# {}  karakter sayısını kontrol eder\n",
    "\n",
    "#  ak{2}        a karakterinin arkasından 2 tane k karekteri geldiğini gösterir\n",
    "#  ak{2,3}      a karakterinin arkasından en az 2 en fazla 3 k karekteri geldiğini gösterir\n",
    "#  [0-9]{2,4}   en az 2 en çok 4 basamaklıdır\n",
    "import re\n",
    "result=re.findall(\"a{2}\",str)"
   ]
  },
  {
   "cell_type": "code",
   "execution_count": null,
   "id": "075d96e2",
   "metadata": {},
   "outputs": [],
   "source": [
    "# \"|\"  alternatif seçeneklerden birinin gerçekleşmesi gerekir \n",
    "\n",
    "#   a|b  a yada b var mı?\n",
    "          cde     => no \n",
    "          dcf     => no\n",
    "          acdbea  => 3 (a,a,c )"
   ]
  },
  {
   "cell_type": "code",
   "execution_count": null,
   "id": "caa56e0a",
   "metadata": {},
   "outputs": [],
   "source": [
    "# \"()\" gruplamak için kullanılır \n",
    "\n",
    "#(a|b|c)xz  => abc karakterleri arasına x ,z gelmelidir"
   ]
  },
  {
   "cell_type": "markdown",
   "id": "d725d541",
   "metadata": {},
   "source": [
    "### / özel karakterleri aramımızı sağlar"
   ]
  },
  {
   "cell_type": "code",
   "execution_count": null,
   "id": "4c555731",
   "metadata": {},
   "outputs": [],
   "source": [
    "# 1) /$a  => $ karakterinden sonra a karakterini arar \n",
    "\n",
    "\n",
    "\n",
    "# 2) /A   => belirtilen karakter stringin başında mı?\n",
    "#    /Athe=> the stringin sonunda mı\n",
    "result=re.findall(\"/python\",str) # python kelimesi cümlenin başında mı\n",
    "\n",
    "\n",
    "\n",
    "# 3) /Z   =>belirtilen karakter stringin sonunda mı?\n",
    "#    the/Z=> the stringin sonunda mı?\n",
    "\n",
    "\n",
    "\n",
    "# 4) /b   => belirtilen karakter kelimenin başında veya sonunda mı?\n",
    "#    üsteki iki örneği kapsıyo kuralları aynı\n",
    "\n",
    "\n",
    "\n",
    "# 5) /B   =>belirtilen karakter kelimenin başında veya sonunda değil mi?\n",
    "\n",
    " \n",
    "\n",
    "# 6) /d   =>[0-9] ile aynı anlama gelir yani rakamları arar \n",
    "#    /d   => 12abc34\n",
    "\n",
    "\n",
    "\n",
    "# 7) /D   =>[^0-9] ile aynı anlama gelir yani rakam olmayanları arar\n",
    "#    /D   =>1ab44_cd\n",
    "\n",
    "\n",
    "\n",
    "# 8) /s   =>boşluk karakterini arar \n",
    "#    /S   =>boşluk karakteri dışındakiler\n",
    "\n",
    "\n",
    "\n",
    "# 9) /w   =>alfabetik karakter,rakam ve alt çizgileri arar\n",
    "#    /W   =>alfabetik karakter,rakam ve alt çizgileri dışındakiler"
   ]
  },
  {
   "cell_type": "markdown",
   "id": "e14e1d3f",
   "metadata": {},
   "source": [
    "### Json Modülü"
   ]
  },
  {
   "cell_type": "code",
   "execution_count": null,
   "id": "d22e8028",
   "metadata": {},
   "outputs": [],
   "source": [
    "# dict\n",
    "\n",
    "person='{\"name\":\"ali\",\"languages\":[\"python\",\"c#\"]}'\n",
    "\n",
    "result=person[\"name\"]\n",
    "\n",
    "print(result)"
   ]
  },
  {
   "cell_type": "code",
   "execution_count": 2,
   "id": "613fe095",
   "metadata": {},
   "outputs": [
    {
     "name": "stdout",
     "output_type": "stream",
     "text": [
      "<class 'dict'>\n",
      "{'name': 'ali', 'languages': ['python', 'c#']}\n"
     ]
    }
   ],
   "source": [
    "import json\n",
    "\n",
    "person_string= '{\"name\":\"ali\",\"languages\":[\"python\",\"c#\"]}'\n",
    "\n",
    "result=json.loads(person_string)\n",
    "\n",
    "print(type(result))\n",
    "print(result)\n",
    "\n",
    "#SAVE this dict as json\n",
    "\n",
    "with open('persons.json', 'w', encoding='utf-8') as f:\n",
    "    json.dump(result, f, ensure_ascii=False, indent=4)"
   ]
  },
  {
   "cell_type": "code",
   "execution_count": 4,
   "id": "6efd4ced",
   "metadata": {},
   "outputs": [
    {
     "name": "stdout",
     "output_type": "stream",
     "text": [
      "{'name': 'ali', 'languages': ['python', 'c#']}\n",
      "<class 'dict'>\n",
      "name from json file: ali\n"
     ]
    }
   ],
   "source": [
    "# read from json file\n",
    "with open('persons.json', 'r') as openfile:\n",
    "\n",
    "    json_object = json.load(openfile)\n",
    "\n",
    "print(json_object)\n",
    "print(type(json_object))\n",
    "\n",
    "get_name = json_object[\"name\"]\n",
    "print(f\"name from json file: {get_name}\")"
   ]
  },
  {
   "cell_type": "code",
   "execution_count": null,
   "id": "ef90098f",
   "metadata": {},
   "outputs": [],
   "source": [
    "class user:\n",
    "    pass \n",
    "\n",
    "class userRepository:\n",
    "    def register (self): \n",
    "        pass\n",
    "    def login(self):\n",
    "        pass\n",
    "    def savetoFile(self):\n",
    "        pass\n",
    "\n",
    "\n",
    "    while True:\n",
    "        print(\"menü\".center(50,\"*\"))\n",
    "        secim=input(\"1-register\\n2\")\n",
    "        if secim==\"3\":\n",
    "            break"
   ]
  },
  {
   "cell_type": "code",
   "execution_count": 6,
   "id": "b8c32918",
   "metadata": {},
   "outputs": [
    {
     "name": "stdout",
     "output_type": "stream",
     "text": [
      "C:\\Program Files\\WindowsApps\\PythonSoftwareFoundation.Python.3.11_3.11.2544.0_x64__qbz5n2kfra8p0\\Lib\\json\\__init__.py\n"
     ]
    }
   ],
   "source": [
    "import json\n",
    "\n",
    "print(json.__file__)"
   ]
  },
  {
   "cell_type": "code",
   "execution_count": null,
   "id": "22ffe006",
   "metadata": {},
   "outputs": [],
   "source": []
  }
 ],
 "metadata": {
  "kernelspec": {
   "display_name": "Python 3",
   "language": "python",
   "name": "python3"
  },
  "language_info": {
   "codemirror_mode": {
    "name": "ipython",
    "version": 3
   },
   "file_extension": ".py",
   "mimetype": "text/x-python",
   "name": "python",
   "nbconvert_exporter": "python",
   "pygments_lexer": "ipython3",
   "version": "3.11.9"
  }
 },
 "nbformat": 4,
 "nbformat_minor": 5
}
