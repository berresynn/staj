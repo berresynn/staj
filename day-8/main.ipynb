{
 "cells": [
  {
   "cell_type": "markdown",
   "id": "898e2e94",
   "metadata": {},
   "source": [
    "### Döngü Uygulamaları"
   ]
  },
  {
   "cell_type": "code",
   "execution_count": 89,
   "id": "28ca97fb",
   "metadata": {},
   "outputs": [
    {
     "name": "stdout",
     "output_type": "stream",
     "text": [
      "index:0 letter:h\n",
      "index:1 letter:e\n",
      "index:2 letter:l\n",
      "index:3 letter:l\n",
      "index:4 letter:o\n"
     ]
    }
   ],
   "source": [
    "index=0\n",
    "greeting=\"hello\"\n",
    "for letter in greeting:\n",
    "  print(f\"index:{index} letter:{letter}\")\n",
    "  index+=1\n",
    "# index numaralarını yazdırdık"
   ]
  },
  {
   "cell_type": "markdown",
   "id": "27e60a15",
   "metadata": {},
   "source": [
    "### Zip Metotu"
   ]
  },
  {
   "cell_type": "markdown",
   "id": "02f783b4",
   "metadata": {},
   "source": []
  },
  {
   "cell_type": "code",
   "execution_count": 90,
   "id": "91bd775d",
   "metadata": {},
   "outputs": [
    {
     "name": "stdout",
     "output_type": "stream",
     "text": [
      "[(1, 'a'), (2, 'b'), (3, 'c'), (4, 'd'), (5, 'e')]\n",
      "(1, 'a')\n",
      "(2, 'b')\n",
      "(3, 'c')\n",
      "(4, 'd')\n",
      "(5, 'e')\n"
     ]
    }
   ],
   "source": [
    "#birleştirme işlemi yapmamızı sağlar\n",
    "\n",
    "list1=[1,2,3,4,5]\n",
    "list2=[\"a\",\"b\",\"c\",\"d\",\"e\"]\n",
    "\n",
    "print(list(zip(list1,list2)))\n",
    "\n",
    "# alt alta yazar\n",
    "for item in zip(list1,list2):\n",
    " print(item)"
   ]
  },
  {
   "cell_type": "code",
   "execution_count": 91,
   "id": "5e818a9b",
   "metadata": {},
   "outputs": [
    {
     "name": "stdout",
     "output_type": "stream",
     "text": [
      "0\n",
      "1\n",
      "2\n",
      "3\n",
      "4\n",
      "5\n",
      "6\n",
      "7\n",
      "8\n",
      "9\n"
     ]
    }
   ],
   "source": [
    "#0-10 arası sayıları ekrana yazdır\n",
    "for x in range(10):\n",
    "    print(x)"
   ]
  },
  {
   "cell_type": "code",
   "execution_count": 92,
   "id": "540ca23e",
   "metadata": {},
   "outputs": [
    {
     "name": "stdout",
     "output_type": "stream",
     "text": [
      "0\n",
      "1\n",
      "4\n",
      "9\n",
      "16\n",
      "25\n",
      "36\n",
      "49\n",
      "64\n",
      "81\n",
      "[0, 1, 4, 9, 16, 25, 36, 49, 64, 81]\n"
     ]
    }
   ],
   "source": [
    "#0-10 arası sayıların karesini al \n",
    "for x in range(10):\n",
    " print(x**2)\n",
    "\n",
    "numbers=[x**2 for x in range(10)]\n",
    "print(numbers)"
   ]
  },
  {
   "cell_type": "code",
   "execution_count": 93,
   "id": "2aabaa44",
   "metadata": {},
   "outputs": [
    {
     "name": "stdout",
     "output_type": "stream",
     "text": [
      "[21, 15, 27]\n"
     ]
    }
   ],
   "source": [
    "# şu ankiyaşlarını yazdır\n",
    "\n",
    "years=[2004,2010,1998]\n",
    "ages=[2025-year for year in years]\n",
    "print(ages)"
   ]
  },
  {
   "cell_type": "markdown",
   "id": "c53dfc8f",
   "metadata": {},
   "source": [
    "# Fonksiyonlar"
   ]
  },
  {
   "cell_type": "code",
   "execution_count": 94,
   "id": "c9d298d1",
   "metadata": {},
   "outputs": [],
   "source": [
    "#fonksiyon öncesinde öğrendiğimiz metotlar sınıf bünyesindedir\n",
    "# def= tanım"
   ]
  },
  {
   "cell_type": "code",
   "execution_count": 95,
   "id": "172a4bb7",
   "metadata": {},
   "outputs": [
    {
     "name": "stdout",
     "output_type": "stream",
     "text": [
      "Hello\n"
     ]
    }
   ],
   "source": [
    "def sayHello():\n",
    "    print(\"Hello\")\n",
    "sayHello()  "
   ]
  },
  {
   "cell_type": "code",
   "execution_count": 96,
   "id": "5df2ade5",
   "metadata": {},
   "outputs": [
    {
     "name": "stdout",
     "output_type": "stream",
     "text": [
      "30\n"
     ]
    }
   ],
   "source": [
    "# sayıları toplayabiliriz\n",
    "def total (num1,num2):\n",
    "    return num1+num2\n",
    "result= total(10,20)\n",
    "print(result)"
   ]
  },
  {
   "cell_type": "code",
   "execution_count": 97,
   "id": "1b9a45e0",
   "metadata": {},
   "outputs": [
    {
     "name": "stdout",
     "output_type": "stream",
     "text": [
      "21\n"
     ]
    }
   ],
   "source": [
    "# yaş hesaplama \n",
    "def yasHesapla(doğumyili):\n",
    "    return 2025-doğumyili\n",
    "ageBerre =yasHesapla(2004)\n",
    "print(ageBerre)"
   ]
  },
  {
   "cell_type": "code",
   "execution_count": 98,
   "id": "9ed4d9be",
   "metadata": {},
   "outputs": [
    {
     "name": "stdout",
     "output_type": "stream",
     "text": [
      "['istanbul', 'ankara']\n"
     ]
    }
   ],
   "source": [
    "# listeden bir ögeyi değiştirme \n",
    "#0. indexteki öge yerine istanbul yazdır\n",
    "def change(n):\n",
    "    n[0]=\"istanbul\"\n",
    "sehirler=[\"denizli\",\"ankara\"]\n",
    "change(sehirler)\n",
    "print(sehirler)"
   ]
  },
  {
   "cell_type": "code",
   "execution_count": 99,
   "id": "6cde572c",
   "metadata": {},
   "outputs": [],
   "source": [
    "# sum = list gibi bi fonksiyon\n",
    "#add=eklemek"
   ]
  },
  {
   "cell_type": "code",
   "execution_count": 100,
   "id": "e4dc1514",
   "metadata": {},
   "outputs": [
    {
     "name": "stdout",
     "output_type": "stream",
     "text": [
      "30\n"
     ]
    }
   ],
   "source": [
    "# toplama işlemi \n",
    "#a,b yani kaç tane sayıyı işleme soktuğumuzu söyledik\n",
    "def add(a,b):\n",
    "    return sum ((a,b))\n",
    "print(add(10,20)) "
   ]
  },
  {
   "cell_type": "code",
   "execution_count": 101,
   "id": "ee528916",
   "metadata": {},
   "outputs": [
    {
     "name": "stdout",
     "output_type": "stream",
     "text": [
      "180\n"
     ]
    }
   ],
   "source": [
    "#a,b vermeden yani belli bi sayı olmadan toplama yapmak istersek\n",
    "#params=parametreler\n",
    "\n",
    "def add(*params):\n",
    "    return sum((params))\n",
    "print(add(10,20,100,50)) "
   ]
  },
  {
   "cell_type": "code",
   "execution_count": 102,
   "id": "d0ed70ee",
   "metadata": {},
   "outputs": [
    {
     "name": "stdout",
     "output_type": "stream",
     "text": [
      "180\n"
     ]
    }
   ],
   "source": [
    "# yukarıdaki işlemin aynısı\n",
    "\n",
    "def add(*params):\n",
    "    sum=0\n",
    "    for n in params:\n",
    "        sum =sum+n\n",
    "    return sum\n",
    "print(add(10,20,100,50)) "
   ]
  },
  {
   "cell_type": "code",
   "execution_count": null,
   "id": "a62a2f3f",
   "metadata": {},
   "outputs": [
    {
     "name": "stdout",
     "output_type": "stream",
     "text": [
      "<class 'dict'>\n",
      "name is berre\n",
      "age is 20\n",
      "phone is 123456789\n"
     ]
    }
   ],
   "source": [
    "def displayUser(**args): # burdaki \"**\" kelime kullanıcağımmız için????????????????????????\n",
    " print(type(args))\n",
    " for key, value in args.items():\n",
    "    print(\"{} is {}\".format(key,value))\n",
    "\n",
    "\n",
    "displayUser(name=\"berre\", age=20, phone=123456789)\n"
   ]
  },
  {
   "cell_type": "code",
   "execution_count": 115,
   "id": "6ff3371b",
   "metadata": {},
   "outputs": [
    {
     "name": "stdout",
     "output_type": "stream",
     "text": [
      "{'name': 'berre', 'age': 20, 'phone': 123456789}\n",
      "123456789\n",
      "**************************************************\n",
      "************************************************************\n",
      "1.Yöntem\n",
      "key: name ,,, value : berre\n",
      "key: age ,,, value : 20\n",
      "key: phone ,,, value : 123456789\n",
      "************************************************************\n",
      "2.Yöntem\n",
      "key: name ,,, value : berre\n",
      "key: age ,,, value : 20\n",
      "key: phone ,,, value : 123456789\n"
     ]
    }
   ],
   "source": [
    "my_dict = {\"name\":\"berre\", \"age\":20, \"phone\":123456789}\n",
    "print(my_dict)\n",
    "\n",
    "my_phone  = my_dict[\"phone\"]\n",
    "print(my_phone)\n",
    "print(f\"*\"*50)\n",
    "\n",
    "#1.yöntem ile dict içinden value alma\n",
    "print(f\"**\"*30)\n",
    "print(\"1.Yöntem\")\n",
    "for item in my_dict:\n",
    "    print(f\"key: {item} ,,, value : {my_dict[item]}\")\n",
    "print(f\"**\"*30)\n",
    "\n",
    "#2. yöntem .items()\n",
    "print(\"2.Yöntem\")\n",
    "for key,value in  my_dict.items():\n",
    "    print(f\"key: {key} ,,, value : {value}\")\n"
   ]
  },
  {
   "cell_type": "code",
   "execution_count": null,
   "id": "bf56a141",
   "metadata": {},
   "outputs": [
    {
     "name": "stdout",
     "output_type": "stream",
     "text": [
      "10\n",
      "20\n",
      "50\n",
      "(80, 64, 42, 90)\n",
      "{'key1': 'value1', 'key2': 'value2'}\n"
     ]
    }
   ],
   "source": [
    "def myFunc(a,b,c, *args,**kwargs):\n",
    "    print(a)\n",
    "    print(b)\n",
    "    print(c)\n",
    "    print(args)\n",
    "    print(kwargs)\n",
    "\n",
    "myFunc(10,20,50,80,64,42,90, key1=\"value1\", key2=\"value2\")"
   ]
  },
  {
   "cell_type": "markdown",
   "id": "4e48ef0f",
   "metadata": {},
   "source": [
    "### Fonksiyon Uygulamaları"
   ]
  },
  {
   "cell_type": "code",
   "execution_count": null,
   "id": "6409b4db",
   "metadata": {},
   "outputs": [
    {
     "name": "stdout",
     "output_type": "stream",
     "text": [
      "merhaba\n",
      "merhaba\n",
      "merhaba\n",
      "merhaba\n",
      "merhaba\n",
      "merhaba\n",
      "merhaba\n",
      "merhaba\n",
      "merhaba\n",
      "merhaba\n",
      "\n",
      "<function yazdir at 0x000002DD6267A020>\n"
     ]
    }
   ],
   "source": [
    "#soru-1\n",
    "# gönderilen bir kelimeyi belirtilen kez ekrana yazdır\n",
    "\n",
    "def yazdir(kelime, adet):\n",
    "    print(kelime*adet)\n",
    "yazdir(\"merhaba\\n\",10)\n",
    "print(yazdir)"
   ]
  },
  {
   "cell_type": "code",
   "execution_count": null,
   "id": "444a816e",
   "metadata": {},
   "outputs": [
    {
     "name": "stdout",
     "output_type": "stream",
     "text": [
      "[10, 20, 30, 'hello']\n"
     ]
    }
   ],
   "source": [
    "#soru-2\n",
    "#kendine gönderilen sınırsız parametriyi listeye çevir\n",
    "# \"*\" sınırsız sayıda olduğunu belirtir\n",
    "def listeyeCevir(*params):\n",
    "    liste= []\n",
    "\n",
    "    for param in params:\n",
    "        liste.append(param)\n",
    "\n",
    "    return liste\n",
    "result= listeyeCevir(10,20,30,\"hello\")\n",
    "print(result)\n"
   ]
  },
  {
   "cell_type": "code",
   "execution_count": null,
   "id": "86fc6c27",
   "metadata": {},
   "outputs": [
    {
     "name": "stdout",
     "output_type": "stream",
     "text": [
      "11\n",
      "13\n",
      "17\n",
      "19\n",
      "23\n",
      "29\n",
      "31\n",
      "37\n",
      "41\n",
      "43\n",
      "47\n"
     ]
    }
   ],
   "source": [
    "#soru-3\n",
    "#gönderilen 2 sayı arasındaki tüm asal sayıları bul\n",
    "\n",
    "def asalSayilariBul(sayi1,sayi2):\n",
    "    for sayi in range(sayi1,sayi2+1):  # sayı 2yi dahil etsin diye +1 ekleriz\n",
    "      if sayi>1:\n",
    "        for i in range(2,sayi):\n",
    "           if(sayi%i==0):\n",
    "              break\n",
    "        else:\n",
    "          print(sayi)\n",
    "                \n",
    "sayi1=int(input(\"sayi1: \"))\n",
    "sayi2=int(input(\"sayi2: \"))\n",
    "\n",
    "asalSayilariBul(sayi1,sayi2)"
   ]
  },
  {
   "cell_type": "code",
   "execution_count": null,
   "id": "fb5c95fb",
   "metadata": {},
   "outputs": [],
   "source": [
    "# (sayi%i==0)= tam böleni var demek "
   ]
  },
  {
   "cell_type": "code",
   "execution_count": 116,
   "id": "bd53a6e2",
   "metadata": {},
   "outputs": [],
   "source": [
    "#kendisine gönderilen bir sayının tam bölenlerini listele\n",
    "def tamBölenleriBul(sayi):\n",
    "    tambölenler=[]\n",
    "    for i in range(2,sayi):\n",
    "\n",
    "        if (sayi%i==0):\n",
    "            tamBölenler.append(i)\n",
    "\n",
    "        return tamBölenler\n",
    "    \n",
    "    print(tamBölenleriBul(20))"
   ]
  },
  {
   "cell_type": "markdown",
   "id": "f6ff666b",
   "metadata": {},
   "source": [
    "### Lambda Expression, Map ve Filtreler "
   ]
  },
  {
   "cell_type": "code",
   "execution_count": 107,
   "id": "130141f3",
   "metadata": {},
   "outputs": [
    {
     "name": "stdout",
     "output_type": "stream",
     "text": [
      "[4, 9, 25, 81]\n"
     ]
    }
   ],
   "source": [
    "#square = kare alma fonksiyonu\n",
    "\n",
    "def square(num): \n",
    "    return num**2\n",
    "numbers=[2,3,5,9]\n",
    "result=list(map(square,numbers)) #burda sadece fonksiyonun ismini ve kullanıcağımız diziyi veriyoruz\n",
    "\n",
    "print(result)"
   ]
  },
  {
   "cell_type": "code",
   "execution_count": null,
   "id": "326d64a0",
   "metadata": {},
   "outputs": [],
   "source": []
  }
 ],
 "metadata": {
  "kernelspec": {
   "display_name": "Python 3",
   "language": "python",
   "name": "python3"
  },
  "language_info": {
   "codemirror_mode": {
    "name": "ipython",
    "version": 3
   },
   "file_extension": ".py",
   "mimetype": "text/x-python",
   "name": "python",
   "nbconvert_exporter": "python",
   "pygments_lexer": "ipython3",
   "version": "3.11.9"
  }
 },
 "nbformat": 4,
 "nbformat_minor": 5
}
