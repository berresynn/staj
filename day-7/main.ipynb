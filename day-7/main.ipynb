{
 "cells": [
  {
   "cell_type": "markdown",
   "id": "e3d2997e",
   "metadata": {},
   "source": [
    "# Döngüler"
   ]
  },
  {
   "cell_type": "markdown",
   "id": "ad4577d0",
   "metadata": {},
   "source": [
    "### For Döngüsü"
   ]
  },
  {
   "cell_type": "code",
   "execution_count": null,
   "id": "287197f0",
   "metadata": {},
   "outputs": [
    {
     "name": "stdout",
     "output_type": "stream",
     "text": [
      "1\n",
      "2\n",
      "3\n",
      "4\n",
      "5\n"
     ]
    }
   ],
   "source": [
    "numbers=[1,2,3,4,5]\n",
    "\n",
    "for num in numbers:\n",
    "    print(num)\n",
    "\n",
    "# kısaca numbers listesi içindeki sayıları yazdırmamızı sağlar"
   ]
  },
  {
   "cell_type": "code",
   "execution_count": 5,
   "id": "fbb77478",
   "metadata": {},
   "outputs": [
    {
     "name": "stdout",
     "output_type": "stream",
     "text": [
      "my name is merve\n",
      "my name is berre\n",
      "my name is sude\n"
     ]
    }
   ],
   "source": [
    "names=[\"merve\",\"berre\",\"sude\"]\n",
    "for name in names:\n",
    "    print(f\"my name is {name}\")"
   ]
  },
  {
   "cell_type": "code",
   "execution_count": 15,
   "id": "167ae870",
   "metadata": {},
   "outputs": [
    {
     "name": "stdout",
     "output_type": "stream",
     "text": [
      "3\n",
      "9\n",
      "12\n"
     ]
    }
   ],
   "source": [
    "#soru-1\n",
    "sayilar=[1,3,5,7,9,12]\n",
    "# hangi sayılar 3ün katı?\n",
    "\n",
    "for sayi in sayilar:\n",
    "  if(sayi%3==0):\n",
    "    print(sayi)\n"
   ]
  },
  {
   "cell_type": "code",
   "execution_count": 32,
   "id": "1fd311c7",
   "metadata": {},
   "outputs": [
    {
     "name": "stdout",
     "output_type": "stream",
     "text": [
      "1\n",
      "9\n",
      "25\n",
      "49\n",
      "81\n"
     ]
    }
   ],
   "source": [
    "#soru-2\n",
    "# tek sayiların karesini al\n",
    "sayilar=[1,3,5,7,9,12]\n",
    "for sayi in sayilar:\n",
    " if(sayi %2 == 1):\n",
    "  print(sayi**2)\n",
    "\n"
   ]
  },
  {
   "cell_type": "code",
   "execution_count": null,
   "id": "2c78980a",
   "metadata": {},
   "outputs": [
    {
     "name": "stdout",
     "output_type": "stream",
     "text": [
      "toplam: 37\n"
     ]
    }
   ],
   "source": [
    "#soru-3 #????bu soruyu tam anlamadım????\n",
    "# sayilar toplamı?\n",
    "sayilar=[1,3,5,7,9,12]\n",
    "\n",
    "toplam=0\n",
    "for sayi in sayilar:\n",
    " toplam=toplam + sayi\n",
    "\n",
    "\n",
    "print(\"toplam:\",toplam)"
   ]
  },
  {
   "cell_type": "code",
   "execution_count": 3,
   "id": "36b518c0",
   "metadata": {},
   "outputs": [
    {
     "data": {
      "text/plain": [
       "37"
      ]
     },
     "execution_count": 3,
     "metadata": {},
     "output_type": "execute_result"
    }
   ],
   "source": [
    "sum(sayilar)"
   ]
  },
  {
   "cell_type": "code",
   "execution_count": null,
   "id": "d6f53002",
   "metadata": {},
   "outputs": [
    {
     "name": "stdout",
     "output_type": "stream",
     "text": [
      "izmir\n",
      "rize\n"
     ]
    }
   ],
   "source": [
    "#soru-4\n",
    "sehirler=[\"kocaeli\",\"izmir\",\"denizli\",\"rize\"]\n",
    "#sehirler hangileri en az 5 harfli?\n",
    "\n",
    "for sehir in sehirler:\n",
    "    if(len(sehir)<=5):\n",
    "        print(sehir)\n"
   ]
  },
  {
   "cell_type": "markdown",
   "id": "26739936",
   "metadata": {},
   "source": [
    "### While Döngüleri"
   ]
  },
  {
   "cell_type": "code",
   "execution_count": null,
   "id": "30e99213",
   "metadata": {},
   "outputs": [],
   "source": [
    "#elimizde liste yoksa while döngüsü kullanılır \n",
    "# sonsuz bir döngü üretir\n"
   ]
  },
  {
   "cell_type": "code",
   "execution_count": 45,
   "id": "3a18c858",
   "metadata": {},
   "outputs": [
    {
     "name": "stdout",
     "output_type": "stream",
     "text": [
      "0\n",
      "1\n",
      "2\n",
      "3\n",
      "4\n",
      "5\n",
      "6\n",
      "7\n",
      "8\n",
      "9\n",
      "10\n",
      "11\n",
      "12\n",
      "13\n",
      "14\n",
      "15\n",
      "16\n",
      "17\n",
      "18\n",
      "19\n",
      "20\n",
      "21\n",
      "22\n",
      "23\n",
      "24\n",
      "25\n",
      "26\n",
      "27\n",
      "28\n",
      "29\n",
      "30\n",
      "31\n",
      "32\n",
      "33\n",
      "34\n",
      "35\n",
      "36\n",
      "37\n",
      "38\n",
      "39\n",
      "40\n",
      "41\n",
      "42\n",
      "43\n",
      "44\n",
      "45\n",
      "46\n",
      "47\n",
      "48\n",
      "49\n",
      "50\n",
      "51\n",
      "52\n",
      "53\n",
      "54\n",
      "55\n",
      "56\n",
      "57\n",
      "58\n",
      "59\n",
      "60\n",
      "61\n",
      "62\n",
      "63\n",
      "64\n",
      "65\n",
      "66\n",
      "67\n",
      "68\n",
      "69\n",
      "70\n",
      "71\n",
      "72\n",
      "73\n",
      "74\n",
      "75\n",
      "76\n",
      "77\n",
      "78\n",
      "79\n",
      "80\n",
      "81\n",
      "82\n",
      "83\n",
      "84\n",
      "85\n",
      "86\n",
      "87\n",
      "88\n",
      "89\n",
      "90\n",
      "91\n",
      "92\n",
      "93\n",
      "94\n",
      "95\n",
      "96\n",
      "97\n",
      "98\n",
      "99\n"
     ]
    }
   ],
   "source": [
    "#1-100e kadar sayılar\n",
    " \n",
    "x=0\n",
    "while x<100 :\n",
    " print(x)\n",
    " x=x+1\n"
   ]
  },
  {
   "cell_type": "code",
   "execution_count": null,
   "id": "7e15b4ad",
   "metadata": {},
   "outputs": [],
   "source": [
    "#soru-1 ?????\n",
    "sayilar=[1,3,5,7,9,12,20]\n",
    "#sayıları while döngüsüyle yazdır\n",
    "\n",
    "    "
   ]
  },
  {
   "cell_type": "code",
   "execution_count": null,
   "id": "303c3ab8",
   "metadata": {},
   "outputs": [
    {
     "name": "stdout",
     "output_type": "stream",
     "text": [
      "2\n",
      "3\n",
      "4\n",
      "5\n",
      "6\n",
      "7\n",
      "8\n",
      "9\n",
      "10\n",
      "11\n",
      "12\n",
      "13\n",
      "14\n",
      "15\n",
      "16\n",
      "17\n",
      "18\n",
      "19\n",
      "20\n"
     ]
    }
   ],
   "source": [
    "#soru-2 ?????\n",
    "# başlangıç ve bitiş değerlerini kullanıcıdan alıp aradaki tüm sayıları yazdır\n",
    "\n",
    "sayilar=[1,3,5,7,9,12,20]\n",
    "baslangic=int(input(\"baslangic: \"))\n",
    "bitis=int(input(\"bitis: \"))\n",
    "\n",
    "i=baslangic\n",
    "while i<bitis:\n",
    "    i+=1\n",
    "    print(i)\n",
    "    "
   ]
  },
  {
   "cell_type": "code",
   "execution_count": 55,
   "id": "31db8d68",
   "metadata": {},
   "outputs": [
    {
     "name": "stdout",
     "output_type": "stream",
     "text": [
      "100\n",
      "99\n",
      "98\n",
      "97\n",
      "96\n",
      "95\n",
      "94\n",
      "93\n",
      "92\n",
      "91\n",
      "90\n",
      "89\n",
      "88\n",
      "87\n",
      "86\n",
      "85\n",
      "84\n",
      "83\n",
      "82\n",
      "81\n",
      "80\n",
      "79\n",
      "78\n",
      "77\n",
      "76\n",
      "75\n",
      "74\n",
      "73\n",
      "72\n",
      "71\n",
      "70\n",
      "69\n",
      "68\n",
      "67\n",
      "66\n",
      "65\n",
      "64\n",
      "63\n",
      "62\n",
      "61\n",
      "60\n",
      "59\n",
      "58\n",
      "57\n",
      "56\n",
      "55\n",
      "54\n",
      "53\n",
      "52\n",
      "51\n",
      "50\n",
      "49\n",
      "48\n",
      "47\n",
      "46\n",
      "45\n",
      "44\n",
      "43\n",
      "42\n",
      "41\n",
      "40\n",
      "39\n",
      "38\n",
      "37\n",
      "36\n",
      "35\n",
      "34\n",
      "33\n",
      "32\n",
      "31\n",
      "30\n",
      "29\n",
      "28\n",
      "27\n",
      "26\n",
      "25\n",
      "24\n",
      "23\n",
      "22\n",
      "21\n",
      "20\n",
      "19\n",
      "18\n",
      "17\n",
      "16\n",
      "15\n",
      "14\n",
      "13\n",
      "12\n",
      "11\n",
      "10\n",
      "9\n",
      "8\n",
      "7\n",
      "6\n",
      "5\n",
      "4\n",
      "3\n",
      "2\n",
      "1\n"
     ]
    }
   ],
   "source": [
    "#1-100 arasındaki sayıları azalan sırayla yazdır\n",
    "\n",
    "i=100\n",
    "while i>0:\n",
    " print(i)\n",
    " i-=1\n"
   ]
  },
  {
   "cell_type": "markdown",
   "id": "e9f6fd2a",
   "metadata": {},
   "source": [
    "### Break ve Continue"
   ]
  },
  {
   "cell_type": "code",
   "execution_count": 66,
   "id": "a2bbc1d7",
   "metadata": {},
   "outputs": [
    {
     "name": "stdout",
     "output_type": "stream",
     "text": [
      "b\n",
      "e\n",
      "r\n",
      "r\n",
      "e\n"
     ]
    }
   ],
   "source": [
    "name=\"berre\"\n",
    "for letter in name:\n",
    " print(letter)\n",
    " \n",
    "  "
   ]
  },
  {
   "cell_type": "code",
   "execution_count": null,
   "id": "1956bf2c",
   "metadata": {},
   "outputs": [
    {
     "name": "stdout",
     "output_type": "stream",
     "text": [
      "b\n"
     ]
    }
   ],
   "source": [
    "\n",
    "name=\"berre\"\n",
    "for letter in name:\n",
    "  if letter== \"e\":\n",
    "    break \n",
    "  print(letter)\n",
    "\n",
    "  #eğer bir harfi ve sonrasını yazmak istemezsek \n",
    "  #break yerine contunie yazarsak sadece o harfi yazmaz ve devam eder\n",
    "  "
   ]
  },
  {
   "cell_type": "code",
   "execution_count": null,
   "id": "01c0b43f",
   "metadata": {},
   "outputs": [
    {
     "name": "stdout",
     "output_type": "stream",
     "text": [
      "0\n",
      "1\n"
     ]
    }
   ],
   "source": [
    "x=0\n",
    "while x<5:\n",
    " if x==2:\n",
    "   break\n",
    " print(x)\n",
    " x+=1\n",
    " #5ten küçük sayıları yazar ancak 2den sonrasına break dediğimiz için yazma durur\n",
    " "
   ]
  },
  {
   "cell_type": "code",
   "execution_count": 4,
   "id": "be683ede",
   "metadata": {},
   "outputs": [
    {
     "name": "stdout",
     "output_type": "stream",
     "text": [
      "toplam: 5050\n"
     ]
    }
   ],
   "source": [
    "#toplam yazısını tek tek vermemesi lazım????\n",
    "# 1-100e kadar tek sayıların toplamı \n",
    "\n",
    "x=1\n",
    "result=0\n",
    "\n",
    "while x<=100:\n",
    "    result+=x\n",
    "    x+=1\n",
    "\n",
    "print(f\"toplam: {result}\") "
   ]
  },
  {
   "cell_type": "markdown",
   "id": "a20ee0a6",
   "metadata": {},
   "source": [
    "### Range"
   ]
  },
  {
   "cell_type": "code",
   "execution_count": null,
   "id": "cec2a377",
   "metadata": {},
   "outputs": [
    {
     "name": "stdout",
     "output_type": "stream",
     "text": [
      "1\n",
      "2\n",
      "3\n",
      "4\n",
      "5\n"
     ]
    }
   ],
   "source": [
    "#item=öge,madde \n",
    "list=[1,2,3,4,5]\n",
    "for item in list:\n",
    "    print(item)\n",
    "#tek tek sırayla listeyi yazar"
   ]
  },
  {
   "cell_type": "code",
   "execution_count": 78,
   "id": "286acfb4",
   "metadata": {},
   "outputs": [
    {
     "name": "stdout",
     "output_type": "stream",
     "text": [
      "2\n",
      "3\n",
      "4\n",
      "5\n",
      "6\n",
      "7\n",
      "8\n",
      "9\n",
      "10\n",
      "11\n",
      "12\n",
      "13\n",
      "14\n",
      "15\n",
      "16\n",
      "17\n",
      "18\n",
      "19\n"
     ]
    }
   ],
   "source": [
    "#range liste yokken \n",
    "\n",
    "for item in range(2,20):\n",
    "    print(item)"
   ]
  },
  {
   "cell_type": "code",
   "execution_count": null,
   "id": "9cfd3ae4",
   "metadata": {},
   "outputs": [
    {
     "name": "stdout",
     "output_type": "stream",
     "text": [
      "5\n",
      "25\n",
      "45\n",
      "65\n",
      "85\n"
     ]
    }
   ],
   "source": [
    "for item in range(5,100,20):\n",
    "    print(item)\n",
    "#5'ten 100'e kadar 20şer sayıları yaz"
   ]
  },
  {
   "cell_type": "code",
   "execution_count": 11,
   "id": "9e31e438",
   "metadata": {},
   "outputs": [
    {
     "name": "stdout",
     "output_type": "stream",
     "text": [
      "before item append item list: []\n",
      "after item append items list: [50]\n",
      "####################################################################################################\n",
      "before item append item list: [50]\n",
      "after item append items list: [50, 60]\n",
      "####################################################################################################\n",
      "before item append item list: [50, 60]\n",
      "after item append items list: [50, 60, 70]\n",
      "####################################################################################################\n",
      "before item append item list: [50, 60, 70]\n",
      "after item append items list: [50, 60, 70, 80]\n",
      "####################################################################################################\n",
      "before item append item list: [50, 60, 70, 80]\n",
      "after item append items list: [50, 60, 70, 80, 90]\n",
      "####################################################################################################\n",
      "before item append item list: [50, 60, 70, 80, 90]\n",
      "after item append items list: [50, 60, 70, 80, 90, 100]\n",
      "####################################################################################################\n",
      "before item append item list: [50, 60, 70, 80, 90, 100]\n",
      "after item append items list: [50, 60, 70, 80, 90, 100, 110]\n",
      "####################################################################################################\n",
      "before item append item list: [50, 60, 70, 80, 90, 100, 110]\n",
      "after item append items list: [50, 60, 70, 80, 90, 100, 110, 120]\n",
      "####################################################################################################\n",
      "before item append item list: [50, 60, 70, 80, 90, 100, 110, 120]\n",
      "after item append items list: [50, 60, 70, 80, 90, 100, 110, 120, 130]\n",
      "####################################################################################################\n",
      "before item append item list: [50, 60, 70, 80, 90, 100, 110, 120, 130]\n",
      "after item append items list: [50, 60, 70, 80, 90, 100, 110, 120, 130, 140]\n",
      "####################################################################################################\n",
      "before item append item list: [50, 60, 70, 80, 90, 100, 110, 120, 130, 140]\n",
      "after item append items list: [50, 60, 70, 80, 90, 100, 110, 120, 130, 140, 150]\n",
      "####################################################################################################\n",
      "before item append item list: [50, 60, 70, 80, 90, 100, 110, 120, 130, 140, 150]\n",
      "after item append items list: [50, 60, 70, 80, 90, 100, 110, 120, 130, 140, 150, 160]\n",
      "####################################################################################################\n",
      "before item append item list: [50, 60, 70, 80, 90, 100, 110, 120, 130, 140, 150, 160]\n",
      "after item append items list: [50, 60, 70, 80, 90, 100, 110, 120, 130, 140, 150, 160, 170]\n",
      "####################################################################################################\n",
      "before item append item list: [50, 60, 70, 80, 90, 100, 110, 120, 130, 140, 150, 160, 170]\n",
      "after item append items list: [50, 60, 70, 80, 90, 100, 110, 120, 130, 140, 150, 160, 170, 180]\n",
      "####################################################################################################\n",
      "before item append item list: [50, 60, 70, 80, 90, 100, 110, 120, 130, 140, 150, 160, 170, 180]\n",
      "after item append items list: [50, 60, 70, 80, 90, 100, 110, 120, 130, 140, 150, 160, 170, 180, 190]\n",
      "####################################################################################################\n",
      "items: [50, 60, 70, 80, 90, 100, 110, 120, 130, 140, 150, 160, 170, 180, 190]\n"
     ]
    }
   ],
   "source": [
    "# listeye çevir  sonuç=[50,70,90] \n",
    "\n",
    "items=[]\n",
    "for item in range(50,200,10):\n",
    "\n",
    "   print(f\"before item append item list: {items}\")\n",
    "   items.append(item)\n",
    "   print(f\"after item append items list: {items}\")\n",
    "\n",
    "   print(f\"#\"*100)\n",
    "\n",
    "print(f\"items: {items}\")"
   ]
  },
  {
   "cell_type": "code",
   "execution_count": null,
   "id": "beef7adb",
   "metadata": {},
   "outputs": [],
   "source": []
  }
 ],
 "metadata": {
  "kernelspec": {
   "display_name": "Python 3",
   "language": "python",
   "name": "python3"
  },
  "language_info": {
   "codemirror_mode": {
    "name": "ipython",
    "version": 3
   },
   "file_extension": ".py",
   "mimetype": "text/x-python",
   "name": "python",
   "nbconvert_exporter": "python",
   "pygments_lexer": "ipython3",
   "version": "3.11.9"
  }
 },
 "nbformat": 4,
 "nbformat_minor": 5
}
