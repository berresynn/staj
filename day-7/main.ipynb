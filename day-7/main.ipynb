{
 "cells": [
  {
   "cell_type": "markdown",
   "id": "e3d2997e",
   "metadata": {},
   "source": [
    "# Döngüler"
   ]
  },
  {
   "cell_type": "markdown",
   "id": "ad4577d0",
   "metadata": {},
   "source": [
    "### For Döngüsü"
   ]
  },
  {
   "cell_type": "code",
   "execution_count": null,
   "id": "287197f0",
   "metadata": {},
   "outputs": [
    {
     "name": "stdout",
     "output_type": "stream",
     "text": [
      "1\n",
      "2\n",
      "3\n",
      "4\n",
      "5\n"
     ]
    }
   ],
   "source": [
    "numbers=[1,2,3,4,5]\n",
    "\n",
    "for num in numbers:\n",
    "    print(num)\n",
    "\n",
    "# kısaca numbers listesi içindeki sayıları yazdırmamızı sağlar"
   ]
  },
  {
   "cell_type": "code",
   "execution_count": 5,
   "id": "fbb77478",
   "metadata": {},
   "outputs": [
    {
     "name": "stdout",
     "output_type": "stream",
     "text": [
      "my name is merve\n",
      "my name is berre\n",
      "my name is sude\n"
     ]
    }
   ],
   "source": [
    "names=[\"merve\",\"berre\",\"sude\"]\n",
    "for name in names:\n",
    "    print(f\"my name is {name}\")"
   ]
  },
  {
   "cell_type": "code",
   "execution_count": 15,
   "id": "167ae870",
   "metadata": {},
   "outputs": [
    {
     "name": "stdout",
     "output_type": "stream",
     "text": [
      "3\n",
      "9\n",
      "12\n"
     ]
    }
   ],
   "source": [
    "#soru-1\n",
    "sayilar=[1,3,5,7,9,12]\n",
    "# hangi sayılar 3ün katı?\n",
    "\n",
    "for sayi in sayilar:\n",
    "  if(sayi%3==0):\n",
    "    print(sayi)\n"
   ]
  },
  {
   "cell_type": "code",
   "execution_count": 32,
   "id": "1fd311c7",
   "metadata": {},
   "outputs": [
    {
     "name": "stdout",
     "output_type": "stream",
     "text": [
      "1\n",
      "9\n",
      "25\n",
      "49\n",
      "81\n"
     ]
    }
   ],
   "source": [
    "#soru-2\n",
    "# tek sayiların karesini al\n",
    "sayilar=[1,3,5,7,9,12]\n",
    "for sayi in sayilar:\n",
    " if(sayi %2 == 1):\n",
    "  print(sayi**2)\n",
    "\n"
   ]
  },
  {
   "cell_type": "code",
   "execution_count": null,
   "id": "2c78980a",
   "metadata": {},
   "outputs": [
    {
     "name": "stdout",
     "output_type": "stream",
     "text": [
      "toplam: 37\n"
     ]
    }
   ],
   "source": [
    "#soru-3 #????bu soruyu tam anlamadım????\n",
    "# sayilar toplamı?\n",
    "sayilar=[1,3,5,7,9,12]\n",
    "\n",
    "toplam=0\n",
    "for sayi in sayilar:\n",
    " toplam+=sayi\n",
    "print(\"toplam:\",toplam)"
   ]
  },
  {
   "cell_type": "code",
   "execution_count": null,
   "id": "d6f53002",
   "metadata": {},
   "outputs": [
    {
     "name": "stdout",
     "output_type": "stream",
     "text": [
      "izmir\n",
      "rize\n"
     ]
    }
   ],
   "source": [
    "#soru-4\n",
    "sehirler=[\"kocaeli\",\"izmir\",\"denizli\",\"rize\"]\n",
    "#sehirler hangileri en az 5 harfli?\n",
    "\n",
    "for sehir in sehirler:\n",
    "    if(len(sehir)<=5):\n",
    "        print(sehir)\n"
   ]
  },
  {
   "cell_type": "markdown",
   "id": "26739936",
   "metadata": {},
   "source": [
    "### While Döngüleri"
   ]
  },
  {
   "cell_type": "code",
   "execution_count": null,
   "id": "30e99213",
   "metadata": {},
   "outputs": [],
   "source": [
    "#elimizde liste yoksa while döngüsü kullanılır \n",
    "# sonsuz bir döngü üretir\n"
   ]
  },
  {
   "cell_type": "code",
   "execution_count": 45,
   "id": "3a18c858",
   "metadata": {},
   "outputs": [
    {
     "name": "stdout",
     "output_type": "stream",
     "text": [
      "0\n",
      "1\n",
      "2\n",
      "3\n",
      "4\n",
      "5\n",
      "6\n",
      "7\n",
      "8\n",
      "9\n",
      "10\n",
      "11\n",
      "12\n",
      "13\n",
      "14\n",
      "15\n",
      "16\n",
      "17\n",
      "18\n",
      "19\n",
      "20\n",
      "21\n",
      "22\n",
      "23\n",
      "24\n",
      "25\n",
      "26\n",
      "27\n",
      "28\n",
      "29\n",
      "30\n",
      "31\n",
      "32\n",
      "33\n",
      "34\n",
      "35\n",
      "36\n",
      "37\n",
      "38\n",
      "39\n",
      "40\n",
      "41\n",
      "42\n",
      "43\n",
      "44\n",
      "45\n",
      "46\n",
      "47\n",
      "48\n",
      "49\n",
      "50\n",
      "51\n",
      "52\n",
      "53\n",
      "54\n",
      "55\n",
      "56\n",
      "57\n",
      "58\n",
      "59\n",
      "60\n",
      "61\n",
      "62\n",
      "63\n",
      "64\n",
      "65\n",
      "66\n",
      "67\n",
      "68\n",
      "69\n",
      "70\n",
      "71\n",
      "72\n",
      "73\n",
      "74\n",
      "75\n",
      "76\n",
      "77\n",
      "78\n",
      "79\n",
      "80\n",
      "81\n",
      "82\n",
      "83\n",
      "84\n",
      "85\n",
      "86\n",
      "87\n",
      "88\n",
      "89\n",
      "90\n",
      "91\n",
      "92\n",
      "93\n",
      "94\n",
      "95\n",
      "96\n",
      "97\n",
      "98\n",
      "99\n"
     ]
    }
   ],
   "source": [
    "#1-100e kadar sayılar\n",
    " \n",
    "x=0\n",
    "while x<100 :\n",
    " print(x)\n",
    " x=x+1\n"
   ]
  },
  {
   "cell_type": "code",
   "execution_count": null,
   "id": "7e15b4ad",
   "metadata": {},
   "outputs": [],
   "source": [
    "#soru-1 ?????\n",
    "sayilar=[1,3,5,7,9,12,20]\n",
    "#sayıları while döngüsüyle yazdır\n",
    "\n",
    "    "
   ]
  },
  {
   "cell_type": "code",
   "execution_count": null,
   "id": "303c3ab8",
   "metadata": {},
   "outputs": [
    {
     "name": "stdout",
     "output_type": "stream",
     "text": [
      "2\n",
      "3\n",
      "4\n",
      "5\n",
      "6\n",
      "7\n",
      "8\n",
      "9\n",
      "10\n",
      "11\n",
      "12\n",
      "13\n",
      "14\n",
      "15\n",
      "16\n",
      "17\n",
      "18\n",
      "19\n",
      "20\n"
     ]
    }
   ],
   "source": [
    "#soru-2 ?????\n",
    "# başlangıç ve bitiş değerlerini kullanıcıdan alıp aradaki tüm sayıları yazdır\n",
    "\n",
    "sayilar=[1,3,5,7,9,12,20]\n",
    "baslangic=int(input(\"baslangic: \"))\n",
    "bitis=int(input(\"bitis: \"))\n",
    "\n",
    "i=baslangic\n",
    "while i<bitis:\n",
    "    i+=1\n",
    "    print(i)\n",
    "    "
   ]
  },
  {
   "cell_type": "code",
   "execution_count": 55,
   "id": "31db8d68",
   "metadata": {},
   "outputs": [
    {
     "name": "stdout",
     "output_type": "stream",
     "text": [
      "100\n",
      "99\n",
      "98\n",
      "97\n",
      "96\n",
      "95\n",
      "94\n",
      "93\n",
      "92\n",
      "91\n",
      "90\n",
      "89\n",
      "88\n",
      "87\n",
      "86\n",
      "85\n",
      "84\n",
      "83\n",
      "82\n",
      "81\n",
      "80\n",
      "79\n",
      "78\n",
      "77\n",
      "76\n",
      "75\n",
      "74\n",
      "73\n",
      "72\n",
      "71\n",
      "70\n",
      "69\n",
      "68\n",
      "67\n",
      "66\n",
      "65\n",
      "64\n",
      "63\n",
      "62\n",
      "61\n",
      "60\n",
      "59\n",
      "58\n",
      "57\n",
      "56\n",
      "55\n",
      "54\n",
      "53\n",
      "52\n",
      "51\n",
      "50\n",
      "49\n",
      "48\n",
      "47\n",
      "46\n",
      "45\n",
      "44\n",
      "43\n",
      "42\n",
      "41\n",
      "40\n",
      "39\n",
      "38\n",
      "37\n",
      "36\n",
      "35\n",
      "34\n",
      "33\n",
      "32\n",
      "31\n",
      "30\n",
      "29\n",
      "28\n",
      "27\n",
      "26\n",
      "25\n",
      "24\n",
      "23\n",
      "22\n",
      "21\n",
      "20\n",
      "19\n",
      "18\n",
      "17\n",
      "16\n",
      "15\n",
      "14\n",
      "13\n",
      "12\n",
      "11\n",
      "10\n",
      "9\n",
      "8\n",
      "7\n",
      "6\n",
      "5\n",
      "4\n",
      "3\n",
      "2\n",
      "1\n"
     ]
    }
   ],
   "source": [
    "#1-100 arasındaki sayıları azalan sırayla yazdır\n",
    "\n",
    "i=100\n",
    "while i>0:\n",
    " print(i)\n",
    " i-=1\n"
   ]
  },
  {
   "cell_type": "markdown",
   "id": "e9f6fd2a",
   "metadata": {},
   "source": [
    "### Break ve Continue"
   ]
  },
  {
   "cell_type": "code",
   "execution_count": 66,
   "id": "a2bbc1d7",
   "metadata": {},
   "outputs": [
    {
     "name": "stdout",
     "output_type": "stream",
     "text": [
      "b\n",
      "e\n",
      "r\n",
      "r\n",
      "e\n"
     ]
    }
   ],
   "source": [
    "name=\"berre\"\n",
    "for letter in name:\n",
    " print(letter)\n",
    " \n",
    "  "
   ]
  },
  {
   "cell_type": "code",
   "execution_count": null,
   "id": "1956bf2c",
   "metadata": {},
   "outputs": [
    {
     "name": "stdout",
     "output_type": "stream",
     "text": [
      "b\n"
     ]
    }
   ],
   "source": [
    "\n",
    "name=\"berre\"\n",
    "for letter in name:\n",
    "  if letter== \"e\":\n",
    "    break \n",
    "  print(letter)\n",
    "\n",
    "  #eğer bir harfi ve sonrasını yazmak istemezsek \n",
    "  #break yerine contunie yazarsak sadece o harfi yazmaz ve devam eder\n",
    "  "
   ]
  },
  {
   "cell_type": "code",
   "execution_count": null,
   "id": "01c0b43f",
   "metadata": {},
   "outputs": [
    {
     "name": "stdout",
     "output_type": "stream",
     "text": [
      "0\n",
      "1\n"
     ]
    }
   ],
   "source": [
    "x=0\n",
    "while x<5:\n",
    " if x==2:\n",
    "   break\n",
    " print(x)\n",
    " x+=1\n",
    " #5ten küçük sayıları yazar ancak 2den sonrasına break dediğimiz için yazma durur\n",
    " "
   ]
  },
  {
   "cell_type": "code",
   "execution_count": null,
   "id": "be683ede",
   "metadata": {},
   "outputs": [
    {
     "name": "stdout",
     "output_type": "stream",
     "text": [
      "toplam: 1\n",
      "toplam: 3\n",
      "toplam: 6\n",
      "toplam: 10\n",
      "toplam: 15\n",
      "toplam: 21\n",
      "toplam: 28\n",
      "toplam: 36\n",
      "toplam: 45\n",
      "toplam: 55\n",
      "toplam: 66\n",
      "toplam: 78\n",
      "toplam: 91\n",
      "toplam: 105\n",
      "toplam: 120\n",
      "toplam: 136\n",
      "toplam: 153\n",
      "toplam: 171\n",
      "toplam: 190\n",
      "toplam: 210\n",
      "toplam: 231\n",
      "toplam: 253\n",
      "toplam: 276\n",
      "toplam: 300\n",
      "toplam: 325\n",
      "toplam: 351\n",
      "toplam: 378\n",
      "toplam: 406\n",
      "toplam: 435\n",
      "toplam: 465\n",
      "toplam: 496\n",
      "toplam: 528\n",
      "toplam: 561\n",
      "toplam: 595\n",
      "toplam: 630\n",
      "toplam: 666\n",
      "toplam: 703\n",
      "toplam: 741\n",
      "toplam: 780\n",
      "toplam: 820\n",
      "toplam: 861\n",
      "toplam: 903\n",
      "toplam: 946\n",
      "toplam: 990\n",
      "toplam: 1035\n",
      "toplam: 1081\n",
      "toplam: 1128\n",
      "toplam: 1176\n",
      "toplam: 1225\n",
      "toplam: 1275\n",
      "toplam: 1326\n",
      "toplam: 1378\n",
      "toplam: 1431\n",
      "toplam: 1485\n",
      "toplam: 1540\n",
      "toplam: 1596\n",
      "toplam: 1653\n",
      "toplam: 1711\n",
      "toplam: 1770\n",
      "toplam: 1830\n",
      "toplam: 1891\n",
      "toplam: 1953\n",
      "toplam: 2016\n",
      "toplam: 2080\n",
      "toplam: 2145\n",
      "toplam: 2211\n",
      "toplam: 2278\n",
      "toplam: 2346\n",
      "toplam: 2415\n",
      "toplam: 2485\n",
      "toplam: 2556\n",
      "toplam: 2628\n",
      "toplam: 2701\n",
      "toplam: 2775\n",
      "toplam: 2850\n",
      "toplam: 2926\n",
      "toplam: 3003\n",
      "toplam: 3081\n",
      "toplam: 3160\n",
      "toplam: 3240\n",
      "toplam: 3321\n",
      "toplam: 3403\n",
      "toplam: 3486\n",
      "toplam: 3570\n",
      "toplam: 3655\n",
      "toplam: 3741\n",
      "toplam: 3828\n",
      "toplam: 3916\n",
      "toplam: 4005\n",
      "toplam: 4095\n",
      "toplam: 4186\n",
      "toplam: 4278\n",
      "toplam: 4371\n",
      "toplam: 4465\n",
      "toplam: 4560\n",
      "toplam: 4656\n",
      "toplam: 4753\n",
      "toplam: 4851\n",
      "toplam: 4950\n",
      "toplam: 5050\n"
     ]
    }
   ],
   "source": [
    "#toplam yazısını tek tek vermemesi lazım????\n",
    "# 1-100e kadar tek sayıların toplamı \n",
    "\n",
    "x=1\n",
    "result=0\n",
    "\n",
    "while x<=100:\n",
    "    result+=x\n",
    "    x+=1\n",
    "\n",
    "    print(f\"toplam: {result}\") "
   ]
  },
  {
   "cell_type": "markdown",
   "id": "a20ee0a6",
   "metadata": {},
   "source": [
    "### Range"
   ]
  },
  {
   "cell_type": "code",
   "execution_count": null,
   "id": "cec2a377",
   "metadata": {},
   "outputs": [
    {
     "name": "stdout",
     "output_type": "stream",
     "text": [
      "1\n",
      "2\n",
      "3\n",
      "4\n",
      "5\n"
     ]
    }
   ],
   "source": [
    "#item=öge,madde \n",
    "list=[1,2,3,4,5]\n",
    "for item in list:\n",
    "    print(item)\n",
    "#tek tek sırayla listeyi yazar"
   ]
  },
  {
   "cell_type": "code",
   "execution_count": 78,
   "id": "286acfb4",
   "metadata": {},
   "outputs": [
    {
     "name": "stdout",
     "output_type": "stream",
     "text": [
      "2\n",
      "3\n",
      "4\n",
      "5\n",
      "6\n",
      "7\n",
      "8\n",
      "9\n",
      "10\n",
      "11\n",
      "12\n",
      "13\n",
      "14\n",
      "15\n",
      "16\n",
      "17\n",
      "18\n",
      "19\n"
     ]
    }
   ],
   "source": [
    "#range liste yokken \n",
    "\n",
    "for item in range(2,20):\n",
    "    print(item)"
   ]
  },
  {
   "cell_type": "code",
   "execution_count": null,
   "id": "9cfd3ae4",
   "metadata": {},
   "outputs": [
    {
     "name": "stdout",
     "output_type": "stream",
     "text": [
      "5\n",
      "25\n",
      "45\n",
      "65\n",
      "85\n"
     ]
    }
   ],
   "source": [
    "for item in range(5,100,20):\n",
    "    print(item)\n",
    "#5'ten 100'e kadar 20şer sayıları yaz"
   ]
  },
  {
   "cell_type": "code",
   "execution_count": 86,
   "id": "9e31e438",
   "metadata": {},
   "outputs": [
    {
     "name": "stdout",
     "output_type": "stream",
     "text": [
      "50\n"
     ]
    },
    {
     "ename": "TypeError",
     "evalue": "'list' object is not callable",
     "output_type": "error",
     "traceback": [
      "\u001b[31m---------------------------------------------------------------------------\u001b[39m",
      "\u001b[31mTypeError\u001b[39m                                 Traceback (most recent call last)",
      "\u001b[36mCell\u001b[39m\u001b[36m \u001b[39m\u001b[32mIn[86]\u001b[39m\u001b[32m, line 5\u001b[39m\n\u001b[32m      2\u001b[39m \u001b[38;5;28;01mfor\u001b[39;00m item \u001b[38;5;129;01min\u001b[39;00m \u001b[38;5;28mrange\u001b[39m(\u001b[32m50\u001b[39m,\u001b[32m100\u001b[39m,\u001b[32m20\u001b[39m):\n\u001b[32m      3\u001b[39m    \u001b[38;5;28mprint\u001b[39m(item)\n\u001b[32m----> \u001b[39m\u001b[32m5\u001b[39m    \u001b[38;5;28mprint\u001b[39m(\u001b[38;5;28;43mlist\u001b[39;49m\u001b[43m(\u001b[49m\u001b[38;5;28;43mrange\u001b[39;49m\u001b[43m(\u001b[49m\u001b[32;43m50\u001b[39;49m\u001b[43m,\u001b[49m\u001b[32;43m100\u001b[39;49m\u001b[43m,\u001b[49m\u001b[32;43m20\u001b[39;49m\u001b[43m)\u001b[49m\u001b[43m)\u001b[49m)\n",
      "\u001b[31mTypeError\u001b[39m: 'list' object is not callable"
     ]
    }
   ],
   "source": [
    " # listeye çevir  sonuç=[50,70,90] \n",
    " for item in range(50,100,20):\n",
    "    print(item)\n",
    "\n",
    "    print(list(range(50,100,20)))"
   ]
  },
  {
   "cell_type": "code",
   "execution_count": null,
   "id": "beef7adb",
   "metadata": {},
   "outputs": [],
   "source": []
  }
 ],
 "metadata": {
  "kernelspec": {
   "display_name": "Python 3",
   "language": "python",
   "name": "python3"
  },
  "language_info": {
   "codemirror_mode": {
    "name": "ipython",
    "version": 3
   },
   "file_extension": ".py",
   "mimetype": "text/x-python",
   "name": "python",
   "nbconvert_exporter": "python",
   "pygments_lexer": "ipython3",
   "version": "3.11.9"
  }
 },
 "nbformat": 4,
 "nbformat_minor": 5
}
