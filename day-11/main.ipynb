{
 "cells": [
  {
   "cell_type": "markdown",
   "id": "4eaffb30",
   "metadata": {},
   "source": [
    "### Pythonda Modüller"
   ]
  },
  {
   "cell_type": "code",
   "execution_count": null,
   "id": "c894b99f",
   "metadata": {},
   "outputs": [
    {
     "name": "stdout",
     "output_type": "stream",
     "text": [
      "7.0\n"
     ]
    }
   ],
   "source": [
    "#49 sayısı neyin karesi?\n",
    "import math\n",
    "value=math.sqrt(49)\n",
    "print(value)"
   ]
  },
  {
   "cell_type": "code",
   "execution_count": null,
   "id": "6f81de10",
   "metadata": {},
   "outputs": [
    {
     "name": "stdout",
     "output_type": "stream",
     "text": [
      "5\n",
      "6\n"
     ]
    }
   ],
   "source": [
    "#sayıyı aşağı yada yukarı yuvarlama\n",
    "import math\n",
    "value=math.floor(5.8)\n",
    "print(value)\n",
    "\n",
    "value=math.ceil(5.8)\n",
    "print(value)\n",
    "\n",
    "\n"
   ]
  },
  {
   "cell_type": "code",
   "execution_count": null,
   "id": "781b551b",
   "metadata": {},
   "outputs": [
    {
     "name": "stdout",
     "output_type": "stream",
     "text": [
      "3.0\n"
     ]
    }
   ],
   "source": [
    "#her seferinde math yazmamak için bu yöntemi kullanırız\n",
    "import math\n",
    "from math import *\n",
    "value=sqrt(9)\n",
    "print(value)\n"
   ]
  },
  {
   "cell_type": "markdown",
   "id": "9c86d80f",
   "metadata": {},
   "source": [
    "### Random metotu"
   ]
  },
  {
   "cell_type": "code",
   "execution_count": 9,
   "id": "8a7325ac",
   "metadata": {},
   "outputs": [
    {
     "name": "stdout",
     "output_type": "stream",
     "text": [
      "0.1351645303191773\n"
     ]
    }
   ],
   "source": [
    "# bilgisayardan 0-1 arası random sayılar ister\n",
    "import random \n",
    "result=random.random()#0.0-1.0 arası sayı\n",
    "print(result)"
   ]
  },
  {
   "cell_type": "code",
   "execution_count": null,
   "id": "25d87cad",
   "metadata": {},
   "outputs": [
    {
     "name": "stdout",
     "output_type": "stream",
     "text": [
      "41\n"
     ]
    }
   ],
   "source": [
    "#bilgisayardan 10-100 arasında random sayı ister \n",
    "# int yazdığımız için tam sayı verir \n",
    "import random \n",
    "result=int(random.uniform(10,100))\n",
    "print(result)"
   ]
  },
  {
   "cell_type": "code",
   "execution_count": null,
   "id": "ccb4a82d",
   "metadata": {},
   "outputs": [
    {
     "name": "stdout",
     "output_type": "stream",
     "text": [
      "berre\n"
     ]
    }
   ],
   "source": [
    "#bilgisarın,listeden random bir kişi seçmesini istiyoruz\n",
    "#randint=tam sayı verir\n",
    "#index olarak  \"0,len names-1\"  dememizin sebebi eğer listede kaç kişinin olduğunu bilmezsek kolaylık sağlasın diye\n",
    "#burdaki listede az kişi olduğu için 0,3 diyebilirdik\n",
    "names=[\"sude\",\"merve\",\"berre\",\"hatice\"]\n",
    "result=names[random.randint(0,len(names)-1)]\n",
    "print(result)\n"
   ]
  },
  {
   "cell_type": "markdown",
   "id": "bf37c82e",
   "metadata": {},
   "source": [
    "### Hata ve Hata Yönetimi"
   ]
  },
  {
   "cell_type": "code",
   "execution_count": null,
   "id": "0020a1f7",
   "metadata": {},
   "outputs": [
    {
     "name": "stdout",
     "output_type": "stream",
     "text": [
      "x ve y için sayısal değer giriniz\n"
     ]
    }
   ],
   "source": [
    "# Hata gördüğümüz kısımları expect altına yazarız \n",
    "#y için sıfır girilemez öngörüsünü önceden yazdığımız için \"sıfır\" girildiğinde uyarı verir\n",
    "#Zero Division Error= sıfıra bölme hatası\n",
    "# value error=değer hatası\n",
    "try:\n",
    "    x=int(input(\"x: \"))\n",
    "    y=int(input(\"y: \"))\n",
    "    print(x/y)\n",
    "except ZeroDivisionError:\n",
    "    print(\"y için 0 girilemez\")\n",
    "except ValueError:\n",
    "    print(\"x ve y için sayısal değer giriniz\")\n"
   ]
  },
  {
   "cell_type": "code",
   "execution_count": 11,
   "id": "436c7948",
   "metadata": {},
   "outputs": [],
   "source": [
    "# girilen parolaya şart koyma\n",
    "def check_password(psw):\n",
    "    import re\n",
    "    if len(psw)<5:\n",
    "        raise exception(\"parola en az 5 karakter içermeli.\")\n",
    "    elif not re.search(\"[a-z]\",psw):\n",
    "     raise exception(\"parola küçük harf içermelidir.\")"
   ]
  },
  {
   "cell_type": "code",
   "execution_count": null,
   "id": "f7e9c078",
   "metadata": {},
   "outputs": [
    {
     "name": "stdout",
     "output_type": "stream",
     "text": [
      "1\n",
      "2\n",
      "3\n",
      "8\n"
     ]
    },
    {
     "ename": "NameError",
     "evalue": "name 'contunie' is not defined",
     "output_type": "error",
     "traceback": [
      "\u001b[31m---------------------------------------------------------------------------\u001b[39m",
      "\u001b[31mValueError\u001b[39m                                Traceback (most recent call last)",
      "\u001b[36mCell\u001b[39m\u001b[36m \u001b[39m\u001b[32mIn[19]\u001b[39m\u001b[32m, line 7\u001b[39m\n\u001b[32m      6\u001b[39m \u001b[38;5;28;01mtry\u001b[39;00m:\n\u001b[32m----> \u001b[39m\u001b[32m7\u001b[39m   result= \u001b[38;5;28;43mint\u001b[39;49m\u001b[43m(\u001b[49m\u001b[43mx\u001b[49m\u001b[43m)\u001b[49m\n\u001b[32m      8\u001b[39m   \u001b[38;5;28mprint\u001b[39m(result)\n",
      "\u001b[31mValueError\u001b[39m: invalid literal for int() with base 10: '10a'",
      "\nDuring handling of the above exception, another exception occurred:\n",
      "\u001b[31mNameError\u001b[39m                                 Traceback (most recent call last)",
      "\u001b[36mCell\u001b[39m\u001b[36m \u001b[39m\u001b[32mIn[19]\u001b[39m\u001b[32m, line 10\u001b[39m\n\u001b[32m      8\u001b[39m   \u001b[38;5;28mprint\u001b[39m(result)\n\u001b[32m      9\u001b[39m \u001b[38;5;28;01mexcept\u001b[39;00m \u001b[38;5;167;01mValueError\u001b[39;00m:\n\u001b[32m---> \u001b[39m\u001b[32m10\u001b[39m   \u001b[43mcontunie\u001b[49m\n",
      "\u001b[31mNameError\u001b[39m: name 'contunie' is not defined"
     ]
    }
   ],
   "source": [
    "#soru-1\n",
    "liste=[\"1\",\"2\",\"3\",\"8\",\"10a\",\"20b\"]\n",
    "#liste içerisindeki sayısal değerleri bul\n",
    " \n",
    "for x in liste:\n",
    "   try:\n",
    "     result = int(x)\n",
    "     print(result)\n",
    "   except ValueError:\n",
    "     contunie\n",
    "\n"
   ]
  },
  {
   "cell_type": "code",
   "execution_count": 20,
   "id": "db5efe66",
   "metadata": {},
   "outputs": [],
   "source": [
    "#faktöriyel fonksiyonu oluşturup fonksiyona gelen hat içim hata mesajı ver\n",
    "\n",
    "def faktöriyel(x):\n",
    "    x=int(x)\n",
    "\n",
    "    if x<0:\n",
    "        raise ValueError(\"negatif değer\")\n",
    "    \n",
    "    result=1\n",
    "\n",
    "    for i in range(1, x+1):\n",
    "        result*=i\n",
    "\n",
    "        return result"
   ]
  },
  {
   "cell_type": "code",
   "execution_count": null,
   "id": "aeb59140",
   "metadata": {},
   "outputs": [],
   "source": []
  }
 ],
 "metadata": {
  "kernelspec": {
   "display_name": "Python 3",
   "language": "python",
   "name": "python3"
  },
  "language_info": {
   "codemirror_mode": {
    "name": "ipython",
    "version": 3
   },
   "file_extension": ".py",
   "mimetype": "text/x-python",
   "name": "python",
   "nbconvert_exporter": "python",
   "pygments_lexer": "ipython3",
   "version": "3.11.9"
  }
 },
 "nbformat": 4,
 "nbformat_minor": 5
}
