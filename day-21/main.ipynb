{
 "cells": [
  {
   "cell_type": "markdown",
   "id": "d7b3c0b2",
   "metadata": {},
   "source": [
    "### prettify html ne anlama gelir"
   ]
  },
  {
   "cell_type": "markdown",
   "id": "7c9ed002",
   "metadata": {},
   "source": [
    "Girintileme ve hizalama ekleme: HTML etiketlerini düzenli bir biçimde iç içe yerleştirir, her etiketi uygun girintiyle hizalar.\n",
    "\n",
    "Boşlukları düzeltme: Gereksiz boşluk veya satır atlamalarını kaldırarak kodu daha temiz hale getirir.\n",
    "\n",
    "Okunabilirlik artırma: Dağınık, tek satır hâlinde veya sıkıştırılmış HTML’i daha okunabilir ve sürdürülebilir hale getirir "
   ]
  },
  {
   "cell_type": "markdown",
   "id": "64424dee",
   "metadata": {},
   "source": [
    "from bs4 import BeautifulSoupe\n",
    "\n",
    "soup=BeautifulSoupe(html_doc, \"html.parses\")\n",
    "\n",
    "result=soup.title    => title bilgilerini bize verir aynı şekilde .head,.body,.h1,.h2 yazarsak bilgileri yina alabiliriz\n",
    "\n",
    "                     => title.string dersek bize title içindeki ifadeyi verir sadece \n",
    "                       aynı şekilde title.name dersek title ismini verir "
   ]
  },
  {
   "cell_type": "markdown",
   "id": "9fa2896e",
   "metadata": {},
   "source": [
    "yukarıdaki arama özelliğinin aynısı \n",
    "result=soup.find_all(\"h1\") şeklinde parantez içine aradığımız ifadeyi yazabiliriz \n",
    "result=soup.find_all(\"h1\")[1] dersek h1 eki1. index kelimesini verir\n"
   ]
  },
  {
   "cell_type": "markdown",
   "id": "0377b254",
   "metadata": {},
   "source": [
    "result=soup.div.findChildren()  dersek div içerisindeki her şeyi verir yani ul,li,h2 gibi "
   ]
  },
  {
   "cell_type": "markdown",
   "id": "8c8158b8",
   "metadata": {},
   "source": [
    "request = talep,istek\n",
    "content = içerik\n",
    "parser  = ayrıştırıcı "
   ]
  },
  {
   "cell_type": "markdown",
   "id": "b7556956",
   "metadata": {},
   "source": [
    "bs4: Python paketinin adı (versiyon 4).\n",
    "\n",
    "BeautifulSoup: Bu paketin içindeki sınıf, HTML/XML dokümanlarını parçalamak ve üzerinde gezinmek için kullanılır "
   ]
  },
  {
   "cell_type": "code",
   "execution_count": 4,
   "id": "1431750a",
   "metadata": {},
   "outputs": [
    {
     "name": "stderr",
     "output_type": "stream",
     "text": [
      "WARNING: Package(s) not found: requests\n"
     ]
    }
   ],
   "source": [
    "!pip show requests"
   ]
  },
  {
   "cell_type": "code",
   "execution_count": 5,
   "id": "3fc30482",
   "metadata": {},
   "outputs": [
    {
     "name": "stdout",
     "output_type": "stream",
     "text": [
      "Collecting requests\n",
      "  Downloading requests-2.32.4-py3-none-any.whl.metadata (4.9 kB)\n",
      "Collecting charset_normalizer<4,>=2 (from requests)\n",
      "  Downloading charset_normalizer-3.4.2-cp311-cp311-win_amd64.whl.metadata (36 kB)\n",
      "Collecting idna<4,>=2.5 (from requests)\n",
      "  Downloading idna-3.10-py3-none-any.whl.metadata (10 kB)\n",
      "Collecting urllib3<3,>=1.21.1 (from requests)\n",
      "  Downloading urllib3-2.5.0-py3-none-any.whl.metadata (6.5 kB)\n",
      "Collecting certifi>=2017.4.17 (from requests)\n",
      "  Downloading certifi-2025.7.14-py3-none-any.whl.metadata (2.4 kB)\n",
      "Downloading requests-2.32.4-py3-none-any.whl (64 kB)\n",
      "   ---------------------------------------- 0.0/64.8 kB ? eta -:--:--\n",
      "   ------------------------- -------------- 41.0/64.8 kB ? eta -:--:--\n",
      "   ------------------------------------- -- 61.4/64.8 kB 825.8 kB/s eta 0:00:01\n",
      "   ---------------------------------------- 64.8/64.8 kB 700.1 kB/s eta 0:00:00\n",
      "Downloading certifi-2025.7.14-py3-none-any.whl (162 kB)\n",
      "   ---------------------------------------- 0.0/162.7 kB ? eta -:--:--\n",
      "   ---------- ----------------------------- 41.0/162.7 kB ? eta -:--:--\n",
      "   ---------- ----------------------------- 41.0/162.7 kB ? eta -:--:--\n",
      "   ------------------------------------- -- 153.6/162.7 kB 1.5 MB/s eta 0:00:01\n",
      "   -------------------------------------- 162.7/162.7 kB 977.4 kB/s eta 0:00:00\n",
      "Downloading charset_normalizer-3.4.2-cp311-cp311-win_amd64.whl (105 kB)\n",
      "   ---------------------------------------- 0.0/105.4 kB ? eta -:--:--\n",
      "   ---------------------------------------- 105.4/105.4 kB 5.9 MB/s eta 0:00:00\n",
      "Downloading idna-3.10-py3-none-any.whl (70 kB)\n",
      "   ---------------------------------------- 0.0/70.4 kB ? eta -:--:--\n",
      "   ---------------------------------------- 70.4/70.4 kB 4.0 MB/s eta 0:00:00\n",
      "Downloading urllib3-2.5.0-py3-none-any.whl (129 kB)\n",
      "   ---------------------------------------- 0.0/129.8 kB ? eta -:--:--\n",
      "   ---------------------------------------- 129.8/129.8 kB 3.9 MB/s eta 0:00:00\n",
      "Installing collected packages: urllib3, idna, charset_normalizer, certifi, requests\n",
      "Successfully installed certifi-2025.7.14 charset_normalizer-3.4.2 idna-3.10 requests-2.32.4 urllib3-2.5.0\n"
     ]
    },
    {
     "name": "stderr",
     "output_type": "stream",
     "text": [
      "\n",
      "[notice] A new release of pip is available: 24.0 -> 25.1.1\n",
      "[notice] To update, run: C:\\Users\\Admin\\AppData\\Local\\Microsoft\\WindowsApps\\PythonSoftwareFoundation.Python.3.11_qbz5n2kfra8p0\\python.exe -m pip install --upgrade pip\n"
     ]
    }
   ],
   "source": [
    "!pip install requests"
   ]
  },
  {
   "cell_type": "code",
   "execution_count": 6,
   "id": "a77fed52",
   "metadata": {},
   "outputs": [
    {
     "name": "stdout",
     "output_type": "stream",
     "text": [
      "Name: requests\n",
      "Version: 2.32.4\n",
      "Summary: Python HTTP for Humans.\n",
      "Home-page: https://requests.readthedocs.io\n",
      "Author: Kenneth Reitz\n",
      "Author-email: me@kennethreitz.org\n",
      "License: Apache-2.0\n",
      "Location: C:\\Users\\Admin\\AppData\\Local\\Packages\\PythonSoftwareFoundation.Python.3.11_qbz5n2kfra8p0\\LocalCache\\local-packages\\Python311\\site-packages\n",
      "Requires: certifi, charset_normalizer, idna, urllib3\n",
      "Required-by: \n"
     ]
    }
   ],
   "source": [
    "!pip show requests"
   ]
  },
  {
   "cell_type": "code",
   "execution_count": 9,
   "id": "b0d0b0f7",
   "metadata": {},
   "outputs": [
    {
     "name": "stdout",
     "output_type": "stream",
     "text": [
      "<Response [403]>\n"
     ]
    }
   ],
   "source": [
    "import requests\n",
    "url=\"https://www.imdb.com/chart/toptv/\"\n",
    "\n",
    "response=requests.get(url)\n",
    "\n",
    "print(response)"
   ]
  },
  {
   "cell_type": "code",
   "execution_count": null,
   "id": "3770af3e",
   "metadata": {},
   "outputs": [],
   "source": []
  }
 ],
 "metadata": {
  "kernelspec": {
   "display_name": "Python 3",
   "language": "python",
   "name": "python3"
  },
  "language_info": {
   "codemirror_mode": {
    "name": "ipython",
    "version": 3
   },
   "file_extension": ".py",
   "mimetype": "text/x-python",
   "name": "python",
   "nbconvert_exporter": "python",
   "pygments_lexer": "ipython3",
   "version": "3.11.9"
  }
 },
 "nbformat": 4,
 "nbformat_minor": 5
}
