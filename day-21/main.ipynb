{
 "cells": [
  {
   "cell_type": "markdown",
   "id": "d7b3c0b2",
   "metadata": {},
   "source": [
    "### prettify html ne anlama gelir"
   ]
  },
  {
   "cell_type": "markdown",
   "id": "7c9ed002",
   "metadata": {},
   "source": [
    "Girintileme ve hizalama ekleme: HTML etiketlerini düzenli bir biçimde iç içe yerleştirir, her etiketi uygun girintiyle hizalar.\n",
    "\n",
    "Boşlukları düzeltme: Gereksiz boşluk veya satır atlamalarını kaldırarak kodu daha temiz hale getirir.\n",
    "\n",
    "Okunabilirlik artırma: Dağınık, tek satır hâlinde veya sıkıştırılmış HTML’i daha okunabilir ve sürdürülebilir hale getirir "
   ]
  },
  {
   "cell_type": "markdown",
   "id": "64424dee",
   "metadata": {},
   "source": [
    "from bs4 import BeautifulSoupe\n",
    "\n",
    "soup=BeautifulSoupe(html_doc, \"html.parses\")\n",
    "\n",
    "result=soup.title    => title bilgilerini bize verir aynı şekilde .head,.body,.h1,.h2 yazarsak bilgileri yina alabiliriz\n",
    "\n",
    "                     => title.string dersek bize title içindeki ifadeyi verir sadece \n",
    "                       aynı şekilde title.name dersek title ismini verir "
   ]
  },
  {
   "cell_type": "markdown",
   "id": "9fa2896e",
   "metadata": {},
   "source": [
    "yukarıdaki arama özelliğinin aynısı \n",
    "result=soup.find_all(\"h1\") şeklinde parantez içine aradığımız ifadeyi yazabiliriz \n",
    "result=soup.find_all(\"h1\")[1] dersek h1 eki1. index kelimesini verir\n"
   ]
  },
  {
   "cell_type": "markdown",
   "id": "0377b254",
   "metadata": {},
   "source": [
    "result=soup.div.findChildren()  dersek div içerisindeki her şeyi verir yani ul,li,h2 gibi "
   ]
  },
  {
   "cell_type": "markdown",
   "id": "8c8158b8",
   "metadata": {},
   "source": [
    "request = talep,istek\n",
    "content = içerik\n",
    "parser  = ayrıştırıcı "
   ]
  },
  {
   "cell_type": "markdown",
   "id": "b7556956",
   "metadata": {},
   "source": [
    "bs4: Python paketinin adı (versiyon 4).\n",
    "\n",
    "BeautifulSoup: Bu paketin içindeki sınıf, HTML/XML dokümanlarını parçalamak ve üzerinde gezinmek için kullanılır "
   ]
  },
  {
   "cell_type": "code",
   "execution_count": 1,
   "id": "b0d0b0f7",
   "metadata": {},
   "outputs": [
    {
     "ename": "ModuleNotFoundError",
     "evalue": "No module named 'requests'",
     "output_type": "error",
     "traceback": [
      "\u001b[31m---------------------------------------------------------------------------\u001b[39m",
      "\u001b[31mModuleNotFoundError\u001b[39m                       Traceback (most recent call last)",
      "\u001b[36mCell\u001b[39m\u001b[36m \u001b[39m\u001b[32mIn[1]\u001b[39m\u001b[32m, line 1\u001b[39m\n\u001b[32m----> \u001b[39m\u001b[32m1\u001b[39m \u001b[38;5;28;01mimport\u001b[39;00m\u001b[38;5;250m \u001b[39m\u001b[34;01mrequests\u001b[39;00m\n\u001b[32m      2\u001b[39m url=\u001b[33m\"\u001b[39m\u001b[33mhttps://www.imdb.com/chart/toptv/?ref_=tt_nv_menu\u001b[39m\u001b[33m\"\u001b[39m\n\u001b[32m      4\u001b[39m html=requests.get(url).content\n",
      "\u001b[31mModuleNotFoundError\u001b[39m: No module named 'requests'"
     ]
    }
   ],
   "source": [
    "import requests\n",
    "url=\"https://www.imdb.com/chart/toptv/?ref_=tt_nv_menu\"\n",
    "\n",
    "html=requests.get(url).content\n",
    "\n",
    "print(html)"
   ]
  }
 ],
 "metadata": {
  "kernelspec": {
   "display_name": "Python 3",
   "language": "python",
   "name": "python3"
  },
  "language_info": {
   "codemirror_mode": {
    "name": "ipython",
    "version": 3
   },
   "file_extension": ".py",
   "mimetype": "text/x-python",
   "name": "python",
   "nbconvert_exporter": "python",
   "pygments_lexer": "ipython3",
   "version": "3.11.9"
  }
 },
 "nbformat": 4,
 "nbformat_minor": 5
}
