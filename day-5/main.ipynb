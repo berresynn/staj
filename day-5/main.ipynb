{
 "cells": [
  {
   "cell_type": "code",
   "execution_count": null,
   "id": "d067c28e",
   "metadata": {},
   "outputs": [],
   "source": [
    "# ödev-1 \n",
    "website=\"www.python.com denizli pamukkale\"\n",
    "# python kelimesi dışındakileri sil \n",
    "#(döngü kullanmam gerektiği ve daha döngüleri görmediğim için yapamadım)\n"
   ]
  },
  {
   "cell_type": "markdown",
   "id": "5c638ea6",
   "metadata": {},
   "source": [
    "### Dictionary"
   ]
  },
  {
   "cell_type": "code",
   "execution_count": null,
   "id": "fde48ec4",
   "metadata": {},
   "outputs": [],
   "source": [
    "# key=>value\n",
    "\n",
    "#20 => denizli dibi "
   ]
  },
  {
   "cell_type": "code",
   "execution_count": 14,
   "id": "d548e0f2",
   "metadata": {},
   "outputs": [
    {
     "name": "stdout",
     "output_type": "stream",
     "text": [
      "20\n",
      "None\n"
     ]
    }
   ],
   "source": [
    "şehirler=[\"denizli\" ,\"edirne\"]\n",
    "plakalar=[20,22]\n",
    "\n",
    "result=print(plakalar[şehirler.index(\"denizli\")])\n",
    "print(result)"
   ]
  },
  {
   "cell_type": "code",
   "execution_count": 18,
   "id": "b929c1a8",
   "metadata": {},
   "outputs": [
    {
     "name": "stdout",
     "output_type": "stream",
     "text": [
      "20\n",
      "22\n",
      "{'denizli': 20, 'edirne': 22, 'ankara': 6}\n"
     ]
    }
   ],
   "source": [
    "# yukarıdaki soruyu dictionary metotuyla yapıcak olursak \n",
    "\n",
    "plakalar={\"denizli\" :20,\"edirne\" :22}\n",
    "print(plakalar[\"denizli\"])\n",
    "print(plakalar[\"edirne\"])\n",
    "\n",
    "#bu bilgilerin üzerine ekleme yapabiliriz \n",
    "plakalar[\"ankara\"]=6\n",
    "print(plakalar)"
   ]
  },
  {
   "cell_type": "code",
   "execution_count": 30,
   "id": "c6fdbbd4",
   "metadata": {},
   "outputs": [
    {
     "name": "stdout",
     "output_type": "stream",
     "text": [
      "20\n",
      "None\n"
     ]
    }
   ],
   "source": [
    "users = {\n",
    "    \"berre\": {\n",
    "        \"age\":20,\n",
    "        \"phone\":123456\n",
    "    }\n",
    "}\n",
    "\n",
    "result=print(users[\"berre\"][\"age\"])\n",
    "print(result)"
   ]
  },
  {
   "cell_type": "markdown",
   "id": "5425761c",
   "metadata": {},
   "source": [
    "### Dictionary Uygulamaları"
   ]
  },
  {
   "cell_type": "code",
   "execution_count": null,
   "id": "c3ea71ca",
   "metadata": {},
   "outputs": [],
   "source": [
    "#soru-1\n",
    "\n",
    "ogrenci = {\n",
    "    \"120\": {\n",
    "    \"ad\":\"ali\",\n",
    "    \"soyad\":\"yılmaz\",\n",
    "    \"telefon\":\"123456789\"\n",
    "    }\n",
    "}\n",
    "\n",
    "#kullanıcıdan aldığınız bilgiyi dictionary içinde saklayınız \n",
    "#öğrenci numarasını kullanıcıdan alıp ilgili öğrenci bilgisine gösterin\n",
    "\n",
    "ogrenci={}\n",
    "number=input(\"ogrenci no: \")\n",
    "name=input(\"ogrenci adı: \")\n",
    "surname=input(\"ogrenci soyadı: \")\n",
    "phone=input(\"ogrenci phone: \")\n",
    "\n",
    "ogrenci[number]= {\n",
    "    \"ad\": name,\n",
    "    \"soyad\" : surname,\n",
    "    \"telefon\" : phone\n",
    "}\n",
    "print(ogrenci) \n"
   ]
  },
  {
   "cell_type": "markdown",
   "id": "3ce813c1",
   "metadata": {},
   "source": [
    "### Sets"
   ]
  },
  {
   "cell_type": "markdown",
   "id": "f3049b38",
   "metadata": {},
   "source": [
    "# index no ile bilgiye ulaşamayız \n",
    "# elemanlarına döngü kullanarak ulaşabiliriz "
   ]
  },
  {
   "cell_type": "code",
   "execution_count": null,
   "id": "9f15e523",
   "metadata": {},
   "outputs": [],
   "source": [
    "fruits = { \"orenge\", \"apple\", \"banane\" }\n",
    "\n",
    "for x in fruits:\n",
    "    print(x)\n",
    "    #tek tek elemanları verir ama sırasıyla vermez \n",
    "    #istesekte bunları sıralayamayız\n",
    "    #yeni eleman ekleyebiliriz\n",
    "    #yeni liste ekleyebiliriz\n",
    "    #listeden eleman silebiliriz\n",
    "    #son elemanı silme işlemi yapamayız çünkü index no burda kullanılamıyo \n",
    "    #bütün elemanları silebiliriz\n",
    "\n",
    "    fruits.add(\"cherry\")\n",
    "    print(fruits)\n",
    "    #cherryi listeye ekledik\n",
    "\n",
    "    fruits.update([\"mango\",\"grape\"])\n",
    "    print(fruits)\n",
    "    # listeye iki farklı elemanı ekledik\n",
    "\n",
    "    fruits.remove(\"mango\")\n",
    "    print(fruits)\n",
    "    #mangoyu listeden sildik \n",
    "    #.discard() diyerekte silme işlemi yapabiliriz \n",
    "\n",
    "    #fruits.clear() dersek bütün elemanlar silinir\n",
    "\n",
    "    \n",
    "    "
   ]
  },
  {
   "cell_type": "code",
   "execution_count": null,
   "id": "db63db34",
   "metadata": {},
   "outputs": [],
   "source": [
    "#tekrarlanan elemanları listeden çıkartabiliriz\n",
    "\n",
    "mylist=[1,2,4,5,4,2,1]\n",
    "print(mylist)\n",
    "print(set(mylist))\n",
    "\n",
    "#sonuç=1,2,4,5 olur\n"
   ]
  },
  {
   "cell_type": "markdown",
   "id": "e944f4c4",
   "metadata": {},
   "source": [
    "### Value & Reference Types"
   ]
  },
  {
   "cell_type": "code",
   "execution_count": null,
   "id": "ac1e6dfc",
   "metadata": {},
   "outputs": [
    {
     "name": "stdout",
     "output_type": "stream",
     "text": [
      "25 10\n"
     ]
    }
   ],
   "source": [
    "x= 5\n",
    "y= 25\n",
    "x=y\n",
    "y=10 \n",
    "print(x,y)\n",
    "#değişiklik x'i etkiledi"
   ]
  },
  {
   "cell_type": "code",
   "execution_count": null,
   "id": "056337e8",
   "metadata": {},
   "outputs": [
    {
     "name": "stdout",
     "output_type": "stream",
     "text": [
      "['cherry', 'banane'] ['cherry', 'banane']\n"
     ]
    }
   ],
   "source": [
    "a=[\"apple\",\"banane\"]\n",
    "b=[\"apple\",\"banane\"]\n",
    "a=b\n",
    "b[0]=\"cherry\"\n",
    "print(a, b)\n",
    "# değişiklik ikisinide etkiler"
   ]
  },
  {
   "cell_type": "markdown",
   "id": "fc30c1f9",
   "metadata": {},
   "source": [
    "# Aporetörler"
   ]
  },
  {
   "cell_type": "markdown",
   "id": "c8d0b63c",
   "metadata": {},
   "source": [
    "### Atama Aporetörleri"
   ]
  },
  {
   "cell_type": "code",
   "execution_count": null,
   "id": "83d70921",
   "metadata": {},
   "outputs": [
    {
     "name": "stdout",
     "output_type": "stream",
     "text": [
      "5 10 20\n",
      "10\n"
     ]
    }
   ],
   "source": [
    "# x=5\n",
    "# y=10\n",
    "# z=20\n",
    "# bu şekilde tek tek yazmak yerine \n",
    "\n",
    "x,y,z=5,10,20 \n",
    "print(x,y,z)\n",
    "\n",
    "x=x+5 \n",
    "print(x)\n",
    "\n",
    "#x=x+5 işlemi => x+=5 aynı \n",
    "#a=a-10 işlemi => a-=10 aynı \n",
    "#b*=3 işlemi b*3 aynı \n",
    "#x/=5 işlemi x/5 aynı"
   ]
  },
  {
   "cell_type": "markdown",
   "id": "ced4521c",
   "metadata": {},
   "source": [
    "### Atama Aporetör Uygulamaları"
   ]
  },
  {
   "cell_type": "code",
   "execution_count": null,
   "id": "9501de1a",
   "metadata": {},
   "outputs": [],
   "source": [
    "#soru-1\n",
    "#kullanıcıdan aldığınız 2 sayının çarpımı ile x,y,z toplamının farkı?\n",
    "\n",
    "x,y,z=2,5,107\n",
    "\n",
    "a=(input(\"1.sayı: \"))\n",
    "b=(input(\"2.sayı: \"))\n",
    "\n",
    "result=(a*b)-(x+y+z)\n",
    "print(result)"
   ]
  },
  {
   "cell_type": "code",
   "execution_count": null,
   "id": "1b3fc523",
   "metadata": {},
   "outputs": [],
   "source": [
    "# soru-2\n",
    "#y'nin x'e kalansız bölümünü hesaplayınız \n",
    "\n",
    "x,y,z=2,5,107\n",
    "\n",
    "result=y//x\n",
    "print(result)"
   ]
  }
 ],
 "metadata": {
  "kernelspec": {
   "display_name": "Python 3",
   "language": "python",
   "name": "python3"
  },
  "language_info": {
   "codemirror_mode": {
    "name": "ipython",
    "version": 3
   },
   "file_extension": ".py",
   "mimetype": "text/x-python",
   "name": "python",
   "nbconvert_exporter": "python",
   "pygments_lexer": "ipython3",
   "version": "3.11.9"
  }
 },
 "nbformat": 4,
 "nbformat_minor": 5
}
