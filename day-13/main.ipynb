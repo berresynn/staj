{
 "cells": [
  {
   "cell_type": "markdown",
   "id": "08fe9f49",
   "metadata": {},
   "source": [
    "### Genel tekrar ve Alıştırmalar"
   ]
  },
  {
   "cell_type": "code",
   "execution_count": null,
   "id": "40156984",
   "metadata": {},
   "outputs": [
    {
     "name": "stdout",
     "output_type": "stream",
     "text": [
      "toplama sonucu:  40\n"
     ]
    }
   ],
   "source": [
    "#sayıları toplama\n",
    "def topla(sayi1,sayi2):\n",
    "    toplam=(sayi1+sayi2)\n",
    "    print(\"toplama sonucu: \",toplam)\n",
    "\n",
    "topla(10,30)"
   ]
  },
  {
   "cell_type": "code",
   "execution_count": 7,
   "id": "4794c6ee",
   "metadata": {},
   "outputs": [
    {
     "name": "stdout",
     "output_type": "stream",
     "text": [
      "toplama sonucu:  120\n",
      "cikarma sonucu:  60\n",
      "carpma sonucu:  2700\n",
      "bölme sonucu:  3.0\n"
     ]
    }
   ],
   "source": [
    "# hesap makinesi gibi yaparsak \n",
    "def hesapla(sayi1,sayi2):\n",
    "\n",
    "    toplama=(sayi1+sayi2)\n",
    "    cikarma=(sayi1-sayi2)\n",
    "    carpma=(sayi1*sayi2)\n",
    "    bolme=(sayi1/sayi2)\n",
    "\n",
    "    print(\"toplama sonucu: \",toplama)\n",
    "    print(\"cikarma sonucu: \",cikarma)\n",
    "    print(\"carpma sonucu: \",carpma)\n",
    "    print(\"bölme sonucu: \",bolme)\n",
    "\n",
    "hesapla(90,30)\n",
    "\n",
    "    "
   ]
  },
  {
   "cell_type": "code",
   "execution_count": 8,
   "id": "9fc045cc",
   "metadata": {},
   "outputs": [
    {
     "name": "stdout",
     "output_type": "stream",
     "text": [
      "yaşınız:  21\n"
     ]
    }
   ],
   "source": [
    "#yaş hesaplama\n",
    "\n",
    "def yashesapla(dYil):\n",
    "    islem=2025-dYil\n",
    "    print(\"yaşınız: \", islem)\n",
    "\n",
    "yashesapla(2004)\n"
   ]
  },
  {
   "cell_type": "code",
   "execution_count": null,
   "id": "6848820b",
   "metadata": {},
   "outputs": [
    {
     "name": "stdout",
     "output_type": "stream",
     "text": [
      "tekrar deneyiniz.\n",
      "tekrar deneyiniz.\n",
      "tekrar deneyiniz.\n",
      "tekrar deneyiniz.\n",
      "tekrar deneyiniz.\n",
      "tuttuğum sayi 6\n"
     ]
    }
   ],
   "source": [
    "# bilgisayarın random tuttuğu sayıyı 5 denemede bulma \n",
    "\n",
    "import random \n",
    "sayi=random.randint(1,10)\n",
    "\n",
    "for i in range(5):\n",
    "    tahminim=int(input(\"1-10 arasında bir sayı giriniz: \"))\n",
    "    if(sayi==tahminim):\n",
    "        print(\"aferin bildiniz.\")\n",
    "        break\n",
    "    else:\n",
    "        print(\"tekrar deneyiniz.\")\n",
    "\n",
    "print(\"tuttuğum sayi\" ,sayi)"
   ]
  },
  {
   "cell_type": "code",
   "execution_count": null,
   "id": "f046a91e",
   "metadata": {},
   "outputs": [],
   "source": [
    "#iç içe fonksiyon\n",
    "def dis_fonk():\n",
    "    print(\"dış fonk çalışıyo\")\n",
    "    def ic_fonk():\n",
    "        print(\"iç fonk çalışıyor\")\n",
    "    print(\"dış fonk sonlanıyor\")\n",
    "    ic_fonk()\n",
    "\n",
    "\n",
    "# ekranda dış fonk çalışıyo\n",
    "        #dış fonk sonlanıyor\n",
    "        #iç fonk çalışıyo yazar çümkü iç fonku en son çalıştırdık"
   ]
  },
  {
   "cell_type": "code",
   "execution_count": null,
   "id": "832e1ba8",
   "metadata": {},
   "outputs": [],
   "source": [
    "### nesne tabanlı programlama çok anlamadım?????????????????????????????????????????\n",
    "#fonksiyonlar tekrar edildi videolar izlendi\n",
    "#iç içe fonksiyon videoları izlendi örneklerine yarın devam edilcek\n",
    "#dizi liste kullanımı video izlendi\n",
    "#random metotu tekrar edildi "
   ]
  }
 ],
 "metadata": {
  "kernelspec": {
   "display_name": "Python 3",
   "language": "python",
   "name": "python3"
  },
  "language_info": {
   "codemirror_mode": {
    "name": "ipython",
    "version": 3
   },
   "file_extension": ".py",
   "mimetype": "text/x-python",
   "name": "python",
   "nbconvert_exporter": "python",
   "pygments_lexer": "ipython3",
   "version": "3.11.9"
  }
 },
 "nbformat": 4,
 "nbformat_minor": 5
}
