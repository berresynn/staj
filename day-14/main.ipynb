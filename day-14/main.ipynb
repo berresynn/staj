{
 "cells": [
  {
   "cell_type": "code",
   "execution_count": null,
   "id": "8860ff72",
   "metadata": {},
   "outputs": [
    {
     "name": "stdout",
     "output_type": "stream",
     "text": [
      "dış fonksiyon.\n",
      "iç fonksiyon\n"
     ]
    }
   ],
   "source": [
    "#iç içe fonksiyon örnek\n",
    "\n",
    "\n",
    "def func1():\n",
    "    print(\"dış fonksiyon.\")\n",
    "\n",
    "    def func2():\n",
    "        print(\"iç fonksiyon\")\n",
    "    func2()\n",
    "\n",
    "func1()\n",
    "\n",
    "#iç fonk dış fonksiyona bağımlıdır o yüzden ilk dış fonk çalışması lazım"
   ]
  },
  {
   "cell_type": "markdown",
   "id": "f95d991d",
   "metadata": {},
   "source": [
    "### İterator"
   ]
  },
  {
   "cell_type": "code",
   "execution_count": null,
   "id": "537963da",
   "metadata": {},
   "outputs": [],
   "source": [
    "# listedeki her bir elemana ulaşmak için for döngüsü kullanıyoduk artık bunun yerine iterator kullanıcaz\n",
    "\n"
   ]
  },
  {
   "cell_type": "code",
   "execution_count": 8,
   "id": "a3581a69",
   "metadata": {},
   "outputs": [
    {
     "name": "stdout",
     "output_type": "stream",
     "text": [
      "<list_iterator object at 0x000002599AEFBF10>\n",
      "1\n",
      "2\n",
      "3\n",
      "4\n"
     ]
    },
    {
     "ename": "StopIteration",
     "evalue": "",
     "output_type": "error",
     "traceback": [
      "\u001b[31m---------------------------------------------------------------------------\u001b[39m",
      "\u001b[31mStopIteration\u001b[39m                             Traceback (most recent call last)",
      "\u001b[36mCell\u001b[39m\u001b[36m \u001b[39m\u001b[32mIn[8]\u001b[39m\u001b[32m, line 8\u001b[39m\n\u001b[32m      6\u001b[39m \u001b[38;5;28mprint\u001b[39m(\u001b[38;5;28mnext\u001b[39m(iterator))\n\u001b[32m      7\u001b[39m \u001b[38;5;28mprint\u001b[39m(\u001b[38;5;28mnext\u001b[39m(iterator))\n\u001b[32m----> \u001b[39m\u001b[32m8\u001b[39m \u001b[38;5;28mprint\u001b[39m(\u001b[38;5;28;43mnext\u001b[39;49m\u001b[43m(\u001b[49m\u001b[43miterator\u001b[49m\u001b[43m)\u001b[49m)\n\u001b[32m      9\u001b[39m \u001b[38;5;66;03m# 5. yazışımızda listede 4 eleman olduğu için stop uyarısı verir\u001b[39;00m\n",
      "\u001b[31mStopIteration\u001b[39m: "
     ]
    }
   ],
   "source": [
    "liste=[1,2,3,4]\n",
    "iterator=iter(liste)\n",
    "print(iterator)\n",
    "print(next(iterator))\n",
    "print(next(iterator))\n",
    "print(next(iterator))\n",
    "print(next(iterator))\n",
    "print(next(iterator))\n",
    "# 5. yazışımızda listede 4 eleman olduğu için stop uyarısı verir"
   ]
  },
  {
   "cell_type": "code",
   "execution_count": 11,
   "id": "565ee260",
   "metadata": {},
   "outputs": [
    {
     "name": "stdout",
     "output_type": "stream",
     "text": [
      "1\n",
      "2\n",
      "3\n",
      "4\n"
     ]
    }
   ],
   "source": [
    "# listeyi while ile yazdırma\n",
    "\n",
    "liste=[1,2,3,4]\n",
    "iterator=iter(liste)\n",
    "\n",
    "while True:\n",
    "    try:\n",
    "        element= next(iterator)\n",
    "        print(element)\n",
    "    except StopIteration:\n",
    "        break\n"
   ]
  },
  {
   "cell_type": "code",
   "execution_count": 12,
   "id": "9e30274d",
   "metadata": {},
   "outputs": [],
   "source": [
    "#iter= yenileme"
   ]
  },
  {
   "cell_type": "markdown",
   "id": "bb385e7f",
   "metadata": {},
   "source": [
    "### Datetime"
   ]
  },
  {
   "cell_type": "code",
   "execution_count": 19,
   "id": "2f887a19",
   "metadata": {},
   "outputs": [
    {
     "name": "stdout",
     "output_type": "stream",
     "text": [
      "2025-07-18 12:59:55.422678\n"
     ]
    }
   ],
   "source": [
    "#gün ay yıl saat \n",
    "from datetime import datetime\n",
    "simdi=datetime.now()\n",
    "\n",
    "print(simdi)"
   ]
  },
  {
   "cell_type": "code",
   "execution_count": 6,
   "id": "ae013ce1",
   "metadata": {},
   "outputs": [
    {
     "name": "stdout",
     "output_type": "stream",
     "text": [
      "7\n"
     ]
    }
   ],
   "source": [
    "# sadece ayı vermesini istersek\n",
    "from datetime import datetime\n",
    "simdi=datetime.today()\n",
    "\n",
    "result=datetime.now()\n",
    "result=simdi.month\n",
    "\n",
    "print(result)"
   ]
  },
  {
   "cell_type": "markdown",
   "id": "a8a5934a",
   "metadata": {},
   "source": [
    "### Os modülü"
   ]
  },
  {
   "cell_type": "code",
   "execution_count": null,
   "id": "5e557618",
   "metadata": {},
   "outputs": [],
   "source": [
    "# os=işletim sistemleri ?????????????????????????????????????????????????????????????"
   ]
  },
  {
   "cell_type": "code",
   "execution_count": 10,
   "id": "127a047b",
   "metadata": {},
   "outputs": [],
   "source": [
    "import os \n",
    "result=dir(os)\n",
    "result=os.name\n",
    "os.chdir(\"..\")\n",
    "result=os.getcwd()"
   ]
  },
  {
   "cell_type": "markdown",
   "id": "1a467d92",
   "metadata": {},
   "source": [
    "### Re modülü"
   ]
  },
  {
   "cell_type": "code",
   "execution_count": null,
   "id": "488b1279",
   "metadata": {},
   "outputs": [],
   "source": [
    "# kaç tane tatil elemanı olduğunu verir\n",
    "import re\n",
    "result=dir(re)\n",
    "str=(\"tatil tatil\")\n",
    "result=re.findall(\"tatil\",str)\n",
    "result=len(result)\n"
   ]
  },
  {
   "cell_type": "markdown",
   "id": "13f49689",
   "metadata": {},
   "source": [
    "#[] köşeli parantez arasına yazılan bütün karakterler aranır\n",
    "\n",
    "[abc]=> a    :1 match  #(match=eş) (1 eşleşen karakter)\n",
    "        ac   :2 match #(2 eşleşen karakter(a,c))\n",
    "        python:no matches \n",
    "\n",
    "[a-e]=> (a,b,c,d,e)\n",
    "[1-5]=> (1,2,3,4,5)\n",
    "[^abc]=> (abc dışındaki karakterler)\n",
    "[^0-9]=> (rakam olmayan sayılar)\n",
    "\n",
    "result=re.findall([\"abc\",str])\n",
    "result=re.findall([\"sat\"],str)\n",
    "\n",
    "# \".\" herhangibi tek karakteri belirtir\n",
    "\n",
    "..=> a        = no matches\n",
    "     ab       =1 match\n",
    "     abc      =1 match\n",
    "     abcd     =2 match\n",
    "\n",
    "\n",
    "#\"^\" belirtilen karakterle başlıyo mu\n",
    "\n",
    "^ a=>  a      =1 match\n",
    "       abc    =1 match\n",
    "       bac    =no matches\n",
    "\n",
    "#örnek \n",
    "result=re.findall(\"^b\",str)\n",
    "##\n",
    "# \"*\" bir sayının sıfır veya daha fazla karakterde olmasını kontrol eder\n",
    "\n",
    "\n",
    "ma*n   => mn      =1\n",
    "          Man     =1\n",
    "          maaan   =1\n",
    "          main    =no  # çünkü a' dan sonra n gelmesi gerekiyo\n",
    "\n",
    "#\n",
    "# $ belirtilen karakterle bitiyo mu \n",
    "\n",
    "a$ =>  a      =1\n",
    "       lamba  =1\n",
    "       \n",
    "result=re.findall(\"a$\",str)"
   ]
  }
 ],
 "metadata": {
  "kernelspec": {
   "display_name": "Python 3",
   "language": "python",
   "name": "python3"
  },
  "language_info": {
   "codemirror_mode": {
    "name": "ipython",
    "version": 3
   },
   "file_extension": ".py",
   "mimetype": "text/x-python",
   "name": "python",
   "nbconvert_exporter": "python",
   "pygments_lexer": "ipython3",
   "version": "3.11.9"
  }
 },
 "nbformat": 4,
 "nbformat_minor": 5
}
