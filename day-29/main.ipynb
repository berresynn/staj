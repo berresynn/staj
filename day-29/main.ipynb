{
 "cells": [
  {
   "cell_type": "markdown",
   "id": "13b08cfc",
   "metadata": {},
   "source": [
    "\n",
    "\n",
    "### veri sorgulama"
   ]
  },
  {
   "cell_type": "markdown",
   "id": "98ab2f26",
   "metadata": {},
   "source": [
    "SELECT * FROM ogrenciler;"
   ]
  },
  {
   "cell_type": "markdown",
   "id": "4db4e38a",
   "metadata": {},
   "source": [
    "ogrenciler tablosundaki tüm satırları ve tüm sütunları getirir"
   ]
  },
  {
   "cell_type": "markdown",
   "id": "b6a019ce",
   "metadata": {},
   "source": [
    "SELECT ad, soyad, sinif\n",
    "FROM ogrenciler\n",
    "WHERE cinsiyet = 'Kadın' AND sinif >= 10\n",
    "ORDER BY soyad ASC;"
   ]
  },
  {
   "cell_type": "markdown",
   "id": "b7c45ca3",
   "metadata": {},
   "source": [
    "cinsiyet = 'Kadın': Sadece kız öğrencileri filtreler.\n",
    "\n",
    "sinif >= 10: 10. sınıf ve üzerini getirir.\n",
    "\n",
    "ORDER BY soyad ASC: Soyada göre A-Z sıralar."
   ]
  },
  {
   "cell_type": "markdown",
   "id": "b8fb5e03",
   "metadata": {},
   "source": [
    "\n",
    "### tablo silme"
   ]
  },
  {
   "cell_type": "markdown",
   "id": "153b99b4",
   "metadata": {},
   "source": [
    "DROP TABLE ogrenciler;"
   ]
  },
  {
   "cell_type": "markdown",
   "id": "d2de153e",
   "metadata": {},
   "source": [
    "ogrenciler tablosunu veritabanından tamamen siler. Veriler geri alınamaz!"
   ]
  },
  {
   "cell_type": "markdown",
   "id": "1a9a0765",
   "metadata": {},
   "source": [
    "### gruplama ve sayma"
   ]
  },
  {
   "cell_type": "markdown",
   "id": "712cbb6d",
   "metadata": {},
   "source": [
    "SELECT sinif, COUNT(*) AS ogrenci_sayisi\n",
    "FROM ogrenciler\n",
    "GROUP BY sinif\n",
    "ORDER BY ogrenci_sayisi DESC;"
   ]
  },
  {
   "cell_type": "markdown",
   "id": "d2533e89",
   "metadata": {},
   "source": [
    "Her sınıftaki öğrenci sayısını listeler.\n",
    "\n",
    "En kalabalık sınıf en üstte görünür."
   ]
  },
  {
   "cell_type": "markdown",
   "id": "ee799ca9",
   "metadata": {},
   "source": [
    "### Kullanıcı Oluşturma ve Yetkilendirme"
   ]
  },
  {
   "cell_type": "markdown",
   "id": "e8ae1180",
   "metadata": {},
   "source": [
    "CREATE USER 'ogrenci_kullanici'@'localhost' IDENTIFIED BY 'sifre123';\n",
    "\n",
    "GRANT SELECT, INSERT ON okul.* TO 'ogrenci_kullanici'@'localhost';"
   ]
  },
  {
   "cell_type": "markdown",
   "id": "42d800a8",
   "metadata": {},
   "source": [
    "ogrenci_kullanici adında bir kullanıcı oluşturulur.\n",
    "\n",
    "Sadece veri görüntüleme (SELECT) ve ekleme (INSERT) izni verilir."
   ]
  },
  {
   "cell_type": "markdown",
   "id": "c3876b6d",
   "metadata": {},
   "source": [
    "örnek soru\n",
    "ogrenciler – Öğrenci bilgileri\n",
    "\n",
    "bolumler – Öğrencilerin kayıtlı olduğu bölümler\n",
    "\n",
    "dersler – Üniversite dersleri\n",
    "\n",
    "notlar – Öğrencilerin aldığı dersler ve notları"
   ]
  },
  {
   "cell_type": "code",
   "execution_count": null,
   "id": "173dfd4a",
   "metadata": {},
   "outputs": [],
   "source": [
    "-- Bölümler tablosu\n",
    "CREATE TABLE bolumler (\n",
    "    bolum_id INT PRIMARY KEY AUTO_INCREMENT,\n",
    "    bolum_adi VARCHAR(100) NOT NULL\n",
    ");\n",
    "\n",
    "-- Öğrenciler tablosu\n",
    "CREATE TABLE ogrenciler (\n",
    "    ogrenci_id INT PRIMARY KEY AUTO_INCREMENT,\n",
    "    ad VARCHAR(50),\n",
    "    soyad VARCHAR(50),\n",
    "    dogum_tarihi DATE,\n",
    "    bolum_id INT,\n",
    "    FOREIGN KEY (bolum_id) REFERENCES bolumler(bolum_id)\n",
    ");\n",
    "\n",
    "-- Dersler tablosu\n",
    "CREATE TABLE dersler (\n",
    "    ders_id INT PRIMARY KEY AUTO_INCREMENT,\n",
    "    ders_adi VARCHAR(100),\n",
    "    kredi INT\n",
    ");\n",
    "\n",
    "-- Notlar tablosu\n",
    "CREATE TABLE notlar (\n",
    "    not_id INT PRIMARY KEY AUTO_INCREMENT,\n",
    "    ogrenci_id INT,\n",
    "    ders_id INT,\n",
    "    vize INT,\n",
    "    final INT,\n",
    "    FOREIGN KEY (ogrenci_id) REFERENCES ogrenciler(ogrenci_id),\n",
    "    FOREIGN KEY (ders_id) REFERENCES dersler(ders_id)\n",
    ");\n"
   ]
  },
  {
   "cell_type": "markdown",
   "id": "06e0e6c8",
   "metadata": {},
   "source": []
  }
 ],
 "metadata": {
  "kernelspec": {
   "display_name": "Python 3",
   "language": "python",
   "name": "python3"
  },
  "language_info": {
   "codemirror_mode": {
    "name": "ipython",
    "version": 3
   },
   "file_extension": ".py",
   "mimetype": "text/x-python",
   "name": "python",
   "nbconvert_exporter": "python",
   "pygments_lexer": "ipython3",
   "version": "3.11.9"
  }
 },
 "nbformat": 4,
 "nbformat_minor": 5
}
