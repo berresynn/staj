{
 "cells": [
  {
   "cell_type": "markdown",
   "id": "170a7b76",
   "metadata": {},
   "source": [
    "Name: Kütüphanenin adı (requests)\n",
    "\n",
    "Version: Kurulu sürümü\n",
    "\n",
    "Summary: Kütüphane hakkında kısa bilgi\n",
    "\n",
    "Author: Yazarı\n",
    "\n",
    "Location: Dosya sistemindeki kurulu olduğu yer\n",
    "\n",
    "Requires: Hangi diğer paketlere bağımlı olduğu\n",
    "\n",
    "Required-by: Hangi paketlerin bunu kullandığı"
   ]
  },
  {
   "cell_type": "markdown",
   "id": "86fdfb56",
   "metadata": {},
   "source": [
    "### Requests Kütüphanesi Ne İşe Yarar?"
   ]
  },
  {
   "cell_type": "markdown",
   "id": "c75865c1",
   "metadata": {},
   "source": [
    "Web sayfası içeriği çekmek\n",
    "\n",
    "API'den veri almak/göndermek\n",
    "\n",
    "Web formlarına veri göndermek (login, form gönderme)\n",
    "\n",
    "JSON verisi almak/göndermek"
   ]
  },
  {
   "cell_type": "markdown",
   "id": "ce0c6ed5",
   "metadata": {},
   "source": [
    "import treq"
   ]
  },
  {
   "cell_type": "code",
   "execution_count": 2,
   "id": "080e6296",
   "metadata": {},
   "outputs": [
    {
     "name": "stdout",
     "output_type": "stream",
     "text": [
      "{'count': 138769, 'name': 'ahmet', 'age': 53}\n"
     ]
    }
   ],
   "source": [
    "#API'den JSON Veri Almak\n",
    "#python\n",
    "#Kopyala\n",
    "#Düzenle,\n",
    "import requests\n",
    "response = requests.get(\"https://api.agify.io/?name=ahmet\")\n",
    "data = response.json()\n",
    "print(data)"
   ]
  },
  {
   "cell_type": "code",
   "execution_count": 3,
   "id": "f60fa9bf",
   "metadata": {},
   "outputs": [
    {
     "name": "stdout",
     "output_type": "stream",
     "text": [
      "{'args': {}, 'data': '', 'files': {}, 'form': {'password': '1234', 'username': 'admin'}, 'headers': {'Accept': '*/*', 'Accept-Encoding': 'gzip, deflate', 'Content-Length': '28', 'Content-Type': 'application/x-www-form-urlencoded', 'Host': 'httpbin.org', 'User-Agent': 'python-requests/2.32.4', 'X-Amzn-Trace-Id': 'Root=1-688b1281-70c7081c5cb8987e40a659c2'}, 'json': None, 'origin': '151.250.56.206', 'url': 'https://httpbin.org/post'}\n"
     ]
    }
   ],
   "source": [
    "#Veri Göndermek (POST)\n",
    "#python\n",
    "#Kopyala\n",
    "#Düzenle\n",
    "url = \"https://httpbin.org/post\"\n",
    "payload = {\"username\": \"admin\", \"password\": \"1234\"}\n",
    "\n",
    "response = requests.post(url, data=payload)\n",
    "print(response.json())"
   ]
  },
  {
   "cell_type": "markdown",
   "id": "e048b940",
   "metadata": {},
   "source": [
    "!pip show requests"
   ]
  },
  {
   "cell_type": "markdown",
   "id": "475bfee6",
   "metadata": {},
   "source": [
    "### html'de sitenin linkini oluşturmak için"
   ]
  },
  {
   "cell_type": "markdown",
   "id": "3cca3e87",
   "metadata": {},
   "source": [
    " daha önceki derslerde yaptığımız body kısmına \"a\" yazıyoruz ve \n",
    "\n",
    "<a href=\"https://www.youtube.com\">Youtube</a> yazarsak oluşturduğumuz web sayfanın ekranında youtube ismini görürüz ekranda görüğümüz bu isme tıklarsak bizi youtubenin sitesine gönderir "
   ]
  },
  {
   "cell_type": "markdown",
   "id": "34220a9f",
   "metadata": {},
   "source": [
    "youtube'ın yeni bir sekmede açılmasını istersek eğer\n",
    "\n",
    "<a href=\"https://www.youtube.com\"\n",
    "torget=\"blank\"           \n",
    ">Youtube</a> \n",
    " \n",
    "yapmamız gerekir \n"
   ]
  },
  {
   "cell_type": "markdown",
   "id": "58a09bdb",
   "metadata": {},
   "source": [
    "ekrana yazdırdığımız youtube yazısına faremiz geldiğinde bir uyarı mesajı vermek istersek\n",
    "\n",
    "<a href=\"https://www.youtube.com\"\n",
    "tittle=\"youtub'a gider\"           \n",
    ">Youtube</a> "
   ]
  },
  {
   "cell_type": "markdown",
   "id": "ef397af2",
   "metadata": {},
   "source": [
    "### fotoğraf ekleme"
   ]
  },
  {
   "cell_type": "markdown",
   "id": "8c5db0e9",
   "metadata": {},
   "source": [
    "body kısmına \"img\" yazıyoruz \n",
    "dosyalarımıza indirdiğimiz fotografı sürükleyerek kodu yazdığımız saydaya sürüklüyoruz\n",
    "href=parametri yani linkin nereye gidiceğini gösterir \n",
    "src\"\" kısmına fotografın ismini yazıyoruz \n",
    "width=\"\" yazıyoruz ve \"\" içerisine ekranda kaplamasını istediğimiz boyutunu giriyoruz mesela 500px gibi\n",
    "height=\"\" yazarsak yüksekliğini ayarlayabiliriz aynı şekilde \n",
    "alt parametresine ise fotograf siteye giren kişide yüklenmezse fotograf hakkında vermek istediğimiz bilgiyi yazabiliriz "
   ]
  },
  {
   "cell_type": "markdown",
   "id": "bcc11420",
   "metadata": {},
   "source": [
    "### ses ekleme"
   ]
  },
  {
   "cell_type": "markdown",
   "id": "c7ab901f",
   "metadata": {},
   "source": [
    "\n",
    "indirdiğimiz ses dosyasını html dosyamıza sürüklüyoruz \n",
    "body kısmına au yazıyoruz \n",
    "src kısmına müziğin ismini giriyoruz (indirdiğimizde yazan müzik adı)\n",
    "audio src =\"müzik.mp3\" controls audio şeklinde \n",
    "muted eklersek kullanıcı müziğin sesini açıp kapatabilir \n",
    "loop eklersek müzik döngü şeklinde başa sarar durmadan \n"
   ]
  },
  {
   "cell_type": "markdown",
   "id": "8298bfde",
   "metadata": {},
   "source": [
    "### video ekleme"
   ]
  },
  {
   "cell_type": "markdown",
   "id": "ef933ddb",
   "metadata": {},
   "source": [
    "indirdiğimiz video dosyasını html dosyamıza sürüklüyoruz \n",
    "body kısmına video yazıyoruz \n",
    "src kısmna sesle aynı şekilde video ismini yazıyoruz\n",
    "width kısmına ise videonun sayfamız üzerinde ne kadar büyüklükte gözükmesini istediğimizi giriyoruz (fotoğraf eklemeyle aynı)"
   ]
  }
 ],
 "metadata": {
  "kernelspec": {
   "display_name": "Python 3",
   "language": "python",
   "name": "python3"
  },
  "language_info": {
   "codemirror_mode": {
    "name": "ipython",
    "version": 3
   },
   "file_extension": ".py",
   "mimetype": "text/x-python",
   "name": "python",
   "nbconvert_exporter": "python",
   "pygments_lexer": "ipython3",
   "version": "3.11.9"
  }
 },
 "nbformat": 4,
 "nbformat_minor": 5
}
