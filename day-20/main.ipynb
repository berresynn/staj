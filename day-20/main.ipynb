{
 "cells": [
  {
   "cell_type": "markdown",
   "id": "98e8ed54",
   "metadata": {},
   "source": [
    "### wep sayfası"
   ]
  },
  {
   "cell_type": "markdown",
   "id": "7771ca73",
   "metadata": {},
   "source": [
    "index.html dosyası oluşturuyoruz daha sonra ! işareti koyup çalıştırıyoruz"
   ]
  },
  {
   "cell_type": "markdown",
   "id": "9737bc04",
   "metadata": {},
   "source": [
    "document yazısını silip wep sayfasına ne isim vermek istiyosak yazıyoruz"
   ]
  },
  {
   "cell_type": "markdown",
   "id": "2d78ab76",
   "metadata": {},
   "source": [
    "body içerisine h1-h1 arasına yazdıklarımız bizim tasarımımız yani web sayfasında ekranda gözükmesini isrediklerimiz oluyo "
   ]
  },
  {
   "cell_type": "markdown",
   "id": "6720c1fc",
   "metadata": {},
   "source": [
    "sayfanın kaynağını görmek istersek sayfa üzerine tıklayıp \"sayfa kaynağını görüntüle\" yazısına tıklarız "
   ]
  },
  {
   "cell_type": "markdown",
   "id": "3d9f18af",
   "metadata": {},
   "source": [
    "sayfa üzerine tıklayıp \"incele\" dediğimizde aynı sonuca ulaşırız"
   ]
  },
  {
   "cell_type": "markdown",
   "id": "5d5bb313",
   "metadata": {},
   "source": [
    "liste oluşturmak istersek h1 'in altına \"ul\" yazıp çalıştırırız \n"
   ]
  },
  {
   "cell_type": "markdown",
   "id": "566ccd48",
   "metadata": {},
   "source": [
    "\"ul\" içerisine liste anlamına gelen \"li\" yazarız ve <li>  </li> oluşur bunun içerisine örneğin menü1 yazabiliriz\n"
   ]
  },
  {
   "cell_type": "markdown",
   "id": "135b63ec",
   "metadata": {},
   "source": [
    "bir başlık altında iki ve daha fazla liste yapmak istersem body altında bulunan h1 etiketi altına h2 yazarız "
   ]
  },
  {
   "cell_type": "markdown",
   "id": "722a7b6a",
   "metadata": {},
   "source": [
    "h1 içerisine yazdığımız ana başlıktır"
   ]
  },
  {
   "cell_type": "markdown",
   "id": "8ce8d188",
   "metadata": {},
   "source": [
    "örneğin oluşturduğumuz menü1 altına yemekler ve içecekler olarak alt başlık listeleri ekleyelim "
   ]
  },
  {
   "cell_type": "markdown",
   "id": "4bb2d909",
   "metadata": {},
   "source": [
    "h2 ul dahil olmak üzere başına ve sonuna div yazıyoruz ancak div içerisine yazmuş olduğumuz ul li h2ler bir satır içerde olmalı"
   ]
  },
  {
   "cell_type": "markdown",
   "id": "f13e8e0e",
   "metadata": {},
   "source": [
    "yani div en dışta ul ve h2ler bir satır içerde aynı hizada li ler ise daha içerde"
   ]
  },
  {
   "cell_type": "markdown",
   "id": "3042ad0d",
   "metadata": {},
   "source": []
  }
 ],
 "metadata": {
  "language_info": {
   "name": "python"
  }
 },
 "nbformat": 4,
 "nbformat_minor": 5
}
