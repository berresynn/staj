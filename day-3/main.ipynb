{
 "cells": [
  {
   "cell_type": "markdown",
   "id": "8929fc0f",
   "metadata": {},
   "source": [
    "# Veri Türleri ve Objeler"
   ]
  },
  {
   "cell_type": "markdown",
   "id": "3ec81209",
   "metadata": {},
   "source": [
    "print(\"deneme\")"
   ]
  },
  {
   "cell_type": "code",
   "execution_count": 111,
   "id": "d1f1619f",
   "metadata": {},
   "outputs": [
    {
     "name": "stdout",
     "output_type": "stream",
     "text": [
      "deneme\n"
     ]
    }
   ],
   "source": [
    "print(\"deneme\")"
   ]
  },
  {
   "cell_type": "markdown",
   "id": "e7bdb1b2",
   "metadata": {},
   "source": [
    "### String Formatlama"
   ]
  },
  {
   "cell_type": "code",
   "execution_count": 112,
   "id": "da436269",
   "metadata": {},
   "outputs": [
    {
     "name": "stdout",
     "output_type": "stream",
     "text": [
      "My name is Berre\n"
     ]
    }
   ],
   "source": [
    "name=\"Berre\"\n",
    "print(\"My name is {}\".format(name))"
   ]
  },
  {
   "cell_type": "code",
   "execution_count": 113,
   "id": "a719f90b",
   "metadata": {},
   "outputs": [
    {
     "name": "stdout",
     "output_type": "stream",
     "text": [
      "my name is Berre Şüyün\n",
      "my name is Şüyün Berre\n",
      "my name is Berre Şüyün\n",
      "my name is Berre Şüyün.\n"
     ]
    }
   ],
   "source": [
    "name=\"Berre\"\n",
    "surname=\"Şüyün\" \n",
    "print(\"my name is {} {}\".format(name,surname))\n",
    "print(\"my name is {1} {0}\".format(name,surname))\n",
    "print(\"my name is {n} {s}\".format(n=name,s=surname))\n",
    "print(f\"my name is {name} {surname}.\")"
   ]
  },
  {
   "cell_type": "code",
   "execution_count": 114,
   "id": "b03f0e22",
   "metadata": {},
   "outputs": [],
   "source": [
    "#eğer {} içine 0,1 şeklinde yazsaydık berre şüyün çıktısını alırdık \n",
    "# f'i başa yazdığımızda bize kolaylık sağlar aynı anlama gelir"
   ]
  },
  {
   "cell_type": "code",
   "execution_count": 115,
   "id": "33af49e2",
   "metadata": {},
   "outputs": [
    {
     "name": "stdout",
     "output_type": "stream",
     "text": [
      "the result is 0.4\n",
      "the result is 0.286\n",
      "the result is      0.286\n"
     ]
    }
   ],
   "source": [
    "result=200/ 500\n",
    "print(\"the result is {}\".format(result))\n",
    "result=200/700\n",
    "print(\"the result is {r:1.3}\".format(r=result))\n",
    "print(\"the result is {r:10.3}\".format(r=result))\n"
   ]
  },
  {
   "cell_type": "code",
   "execution_count": 116,
   "id": "ef63d4e9",
   "metadata": {},
   "outputs": [],
   "source": [
    "#yukarıdaki{r:1.3} = tam sayıyı ve virgülden sonra sadece 3 sayıyı ver demek \n",
    "#burdaki 1 yerine başka bir sayı yazabilirz 1 sayısının anlamı çıktıda ne kadar boşluk bırakıcağı"
   ]
  },
  {
   "cell_type": "markdown",
   "id": "53dee129",
   "metadata": {},
   "source": [
    "### Karakter dizileri"
   ]
  },
  {
   "cell_type": "markdown",
   "id": "54ebfb82",
   "metadata": {},
   "source": []
  },
  {
   "cell_type": "code",
   "execution_count": 117,
   "id": "69de5f4c",
   "metadata": {},
   "outputs": [],
   "source": [
    "website=\"http://www.sadikturan.com\"\n",
    "course=\"Python Kursu: Baştan Sona Python Programlama Rehberiniz (40 saat)\"\n"
   ]
  },
  {
   "cell_type": "code",
   "execution_count": 118,
   "id": "bbc59818",
   "metadata": {},
   "outputs": [],
   "source": [
    "#1- \"course\" karakter dizisinde kaç karakter bulunmaktadır\n",
    "#2- \"website\" içinden www karakterini alın\n",
    "#3- \"website\" içinden com karakterini alın\n",
    "#4- \"course\" içinden ilk 15 ve son 15 karakterini alın\n",
    "#5- \"course\" ifadesinin karakterlerini tersten yazdırın"
   ]
  },
  {
   "cell_type": "code",
   "execution_count": 119,
   "id": "8666da51",
   "metadata": {},
   "outputs": [
    {
     "name": "stdout",
     "output_type": "stream",
     "text": [
      "65\n"
     ]
    }
   ],
   "source": [
    "#soru-1\n",
    "course=\"Python Kursu: Baştan Sona Python Programlama Rehberiniz (40 saat)\"\n",
    "\n",
    "result=len(course)\n",
    "print(result)"
   ]
  },
  {
   "cell_type": "code",
   "execution_count": 120,
   "id": "58388948",
   "metadata": {},
   "outputs": [
    {
     "name": "stdout",
     "output_type": "stream",
     "text": [
      "www\n"
     ]
    }
   ],
   "source": [
    "#soru-2\n",
    "website=\"http://www.sadikturan.com\"\n",
    "\n",
    "result= website[7:10]\n",
    "print(result)"
   ]
  },
  {
   "cell_type": "code",
   "execution_count": 121,
   "id": "a7cda33c",
   "metadata": {},
   "outputs": [
    {
     "name": "stdout",
     "output_type": "stream",
     "text": [
      "com\n"
     ]
    }
   ],
   "source": [
    "#soru-3\n",
    "website=\"http://www.sadikturan.com\"\n",
    "\n",
    "result= website[-3:]\n",
    "print(result)"
   ]
  },
  {
   "cell_type": "code",
   "execution_count": 122,
   "id": "85be35fc",
   "metadata": {},
   "outputs": [
    {
     "name": "stdout",
     "output_type": "stream",
     "text": [
      "Python Kursu: B\n",
      "riniz (40 saat)\n"
     ]
    }
   ],
   "source": [
    "#soru-4\n",
    "course=\"Python Kursu: Baştan Sona Python Programlama Rehberiniz (40 saat)\"\n",
    "\n",
    "result=course[:15]\n",
    "print(result)\n",
    "result=course[-15:]\n",
    "print(result)"
   ]
  },
  {
   "cell_type": "code",
   "execution_count": 123,
   "id": "960e2f74",
   "metadata": {},
   "outputs": [
    {
     "name": "stdout",
     "output_type": "stream",
     "text": [
      "Python Kursu: Baştan Sona Python Programlama Rehberiniz (40 saat)\n"
     ]
    }
   ],
   "source": [
    "#soru-5\n",
    "course=\"Python Kursu: Baştan Sona Python Programlama Rehberiniz (40 saat)\"\n",
    "\n",
    "result=course[::-1]\n",
    "print(course)\n",
    "\n",
    "#[::] hepsini almasını söyler -1 ise ters çevirir"
   ]
  },
  {
   "cell_type": "code",
   "execution_count": 124,
   "id": "42ed9edc",
   "metadata": {},
   "outputs": [
    {
     "name": "stdout",
     "output_type": "stream",
     "text": [
      "1234512345123451234512345\n"
     ]
    }
   ],
   "source": [
    "s=\"12345\"*5 \n",
    "print(s)\n",
    "# 12345 sayılarını yan yana 5 kere yazar"
   ]
  },
  {
   "cell_type": "code",
   "execution_count": 125,
   "id": "8bb23180",
   "metadata": {},
   "outputs": [
    {
     "name": "stdout",
     "output_type": "stream",
     "text": [
      "my name is  bora  Yılmaz and 32 years old, I am doctor.\n"
     ]
    }
   ],
   "source": [
    "#soru-6\n",
    "#name,surname,age,job,= \"bora\",\"yılmaz\",32,\"mühendis.\"\n",
    "# bu ifadeyi Benim adım bora yılmaz yaşım 32 mesleğim doktorluk. olarak yazdır\n",
    "\n",
    "name=\" bora\"\n",
    "surname=\" Yılmaz\"\n",
    "age=32\n",
    "job=\"doctor\"\n",
    "\n",
    "result=(f\"my name is {name} {surname} and {age} years old, I am {job}.\")\n",
    "print(result)"
   ]
  },
  {
   "cell_type": "code",
   "execution_count": 126,
   "id": "c4fb8b36",
   "metadata": {},
   "outputs": [
    {
     "name": "stdout",
     "output_type": "stream",
     "text": [
      "hello 2ord\n"
     ]
    }
   ],
   "source": [
    "#soru-7\n",
    "# \"hello word\" ifadesindeki w yi \"2\" olarak değiştir\n",
    "\n",
    "w=\"2\"\n",
    "result=(f\"hello {w}ord\")\n",
    "print(result)"
   ]
  },
  {
   "cell_type": "code",
   "execution_count": 127,
   "id": "90c9a067",
   "metadata": {},
   "outputs": [
    {
     "name": "stdout",
     "output_type": "stream",
     "text": [
      "abcabcabc\n"
     ]
    }
   ],
   "source": [
    "#soru-8 \n",
    "# \"abc\" ifadesini yan yana 3 kere yazdır\n",
    "\n",
    "s=\"abc\"*3\n",
    "print(s)"
   ]
  },
  {
   "cell_type": "markdown",
   "id": "7ee2f7da",
   "metadata": {},
   "source": [
    "### String Metodları"
   ]
  },
  {
   "cell_type": "code",
   "execution_count": 128,
   "id": "7e703f68",
   "metadata": {},
   "outputs": [
    {
     "name": "stdout",
     "output_type": "stream",
     "text": [
      "HELLO\n"
     ]
    }
   ],
   "source": [
    "message=\"hello\"\n",
    "message=message.upper()\n",
    "print(message)\n",
    "\n",
    "#.upper() hepsini büyük harf yapar"
   ]
  },
  {
   "cell_type": "code",
   "execution_count": 129,
   "id": "1dacec29",
   "metadata": {},
   "outputs": [
    {
     "name": "stdout",
     "output_type": "stream",
     "text": [
      "hello\n"
     ]
    }
   ],
   "source": [
    "message=\"HELLO\"\n",
    "message=message.lower()\n",
    "print(message)\n",
    " "
   ]
  },
  {
   "cell_type": "code",
   "execution_count": 139,
   "id": "2ce659f3",
   "metadata": {},
   "outputs": [
    {
     "name": "stdout",
     "output_type": "stream",
     "text": [
      "hello 123 !.\n"
     ]
    }
   ],
   "source": [
    "message=\"HEllO 123 !.\"\n",
    "message=message.lower()\n",
    "print(message)\n",
    " "
   ]
  },
  {
   "cell_type": "code",
   "execution_count": null,
   "id": "ea45c648",
   "metadata": {},
   "outputs": [],
   "source": [
    "# .upper() = hepsini büyük harfle yazar\n",
    "# .lower() = hepsini küçük harfle yazar\n",
    "# .tittle()= her kelimenin baş harfi büyük olur\n",
    "# .copitdize()= cümlenin başındaki ilk harf büyük\n",
    "# .strip() = baştaki boşluk karakteri gider\n",
    "# .split() = her kelime ayrılır \"hello\", \"my\", \"name\" gibi \n",
    "# .find() = cümle içerisinde bulmak istediğimiz şey\n",
    "# .startswith() = cümlenin hangi harfle başladıpını verir\n",
    "# print(message[2]) = 2. indexteki kelimeyi verir yani hello my name cümleyse bunun çıktısı name olur"
   ]
  },
  {
   "cell_type": "code",
   "execution_count": 143,
   "id": "7bef1065",
   "metadata": {},
   "outputs": [
    {
     "name": "stdout",
     "output_type": "stream",
     "text": [
      "-1\n"
     ]
    }
   ],
   "source": [
    "\n",
    "index=message.find(\"elma\")\n",
    "print(index)\n",
    "# burada cevap -1 yani cümle içerisinde elma kelimesi yok demek eğer olsaydı index numarasını bize \"sadık\" kelimesinin \"s\" harfindeki\n",
    "#  index numarasını vericekti "
   ]
  },
  {
   "cell_type": "code",
   "execution_count": 141,
   "id": "c5f9cb66",
   "metadata": {},
   "outputs": [
    {
     "name": "stdout",
     "output_type": "stream",
     "text": [
      "hella my name is çınar\n"
     ]
    }
   ],
   "source": [
    "#message=message.replace()= cümledeki kelimelerde güzltme yapar\n",
    "\n",
    "message=\"hella my name is ela\"\n",
    "message=message.replace(\"ela\",\"çınar\")\n",
    "print(message)\n",
    "# sadık yerine çınar yazar "
   ]
  },
  {
   "cell_type": "code",
   "execution_count": 140,
   "id": "b6818670",
   "metadata": {},
   "outputs": [
    {
     "name": "stdout",
     "output_type": "stream",
     "text": [
      "                                       hello my name is Berre                                       \n"
     ]
    }
   ],
   "source": [
    "message=\"hello my name is Berre\"\n",
    "\n",
    "message=message.center(100)\n",
    "\n",
    "print(message)\n",
    "\n",
    "#yanlara eşit şekilde boşluk vererek ortalamasını sağlar"
   ]
  },
  {
   "cell_type": "code",
   "execution_count": null,
   "id": "ec59f530",
   "metadata": {},
   "outputs": [],
   "source": [
    "website=\"http://www.sadikturan.com\"\n",
    "course=\"Python Kursu: Baştan Sona Python Programlama Rehberiniz (40 saat)\""
   ]
  },
  {
   "cell_type": "code",
   "execution_count": null,
   "id": "6c894524",
   "metadata": {},
   "outputs": [
    {
     "name": "stdout",
     "output_type": "stream",
     "text": [
      "hello word\n"
     ]
    }
   ],
   "source": [
    "#soru-9\n",
    "#\" hello word \" baş ve sondaki boşlukları sil\n",
    "message=\" hello word \"\n",
    "result=\" hello word \".strip()\n",
    "print(result)"
   ]
  },
  {
   "cell_type": "code",
   "execution_count": 150,
   "id": "528dae2b",
   "metadata": {},
   "outputs": [
    {
     "name": "stdout",
     "output_type": "stream",
     "text": [
      "python\n"
     ]
    }
   ],
   "source": [
    "#soru-10\n",
    "website=\"www.python.com\"\n",
    "# python kelimesi dışındakileri sil\n",
    "\n",
    "result=\"www.python.com\".strip(\"www.com\")\n",
    "print(result)"
   ]
  }
 ],
 "metadata": {
  "kernelspec": {
   "display_name": "Python 3",
   "language": "python",
   "name": "python3"
  },
  "language_info": {
   "codemirror_mode": {
    "name": "ipython",
    "version": 3
   },
   "file_extension": ".py",
   "mimetype": "text/x-python",
   "name": "python",
   "nbconvert_exporter": "python",
   "pygments_lexer": "ipython3",
   "version": "3.11.9"
  }
 },
 "nbformat": 4,
 "nbformat_minor": 5
}
