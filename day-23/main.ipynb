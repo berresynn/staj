{
 "cells": [
  {
   "cell_type": "markdown",
   "id": "07669dc7",
   "metadata": {},
   "source": [
    "htmlde örneğin h1 h2 arasında wep sayfada boşluk olmasını istersek \"br\" yazıyoruz \n",
    "araya çizgi çekerek boşluk koymak istersek \"hr\" yazıyoruz"
   ]
  },
  {
   "cell_type": "markdown",
   "id": "9632ecdc",
   "metadata": {},
   "source": [
    "yazdığımız yazının kalın yazılmasını istersek b yazıyoruz\n",
    "aynı şekilde i yazarsak yazıyı eğikleştirir\n",
    "big veya small yazarsakta daha büyük veya küçük yapar\n",
    "sub ise yazının sağ altına küçülterek yazıyo \n",
    "sup ise yazının sağ üstüne \n",
    "mark yazıyı renkli yapar \n",
    "del üstünü çizer\n",
    "ins altını çizer"
   ]
  },
  {
   "cell_type": "markdown",
   "id": "c056eae9",
   "metadata": {},
   "source": [
    "mesela h2 içine ol yazar ve içerisine li yazarsak listeyi bize sıralar örneğin 1. 2. 3. öncül tarzında \n",
    "\n",
    "sayı değilde a b c olarak sıralanmasını istersek ol yanına tybe=\"A\" yazarız sonraki harfleri tek tek yazmamıza gerek yok bu zaten hepsini sıralıcaktır"
   ]
  },
  {
   "cell_type": "markdown",
   "id": "37c8a8fc",
   "metadata": {},
   "source": [
    "açıklama listesi yapmak istersek \"dl\" yazıyoruz \n",
    "\"dt\" içerisine açıklamak istediğimiz kelimeyi yazıyoruz \n",
    "\"dd\" içerisine ise açıklamayı yazıyoruz "
   ]
  },
  {
   "cell_type": "markdown",
   "id": "f0f5fe74",
   "metadata": {},
   "source": [
    "tr=tablo \n",
    "align=\"center\"  => yazdığımız ifadeyi ortalar \n",
    "bgcolor= \"blue\" => ifadeyi istediğimiz mavi rengine boyar "
   ]
  },
  {
   "cell_type": "markdown",
   "id": "8e50d103",
   "metadata": {},
   "source": [
    "tablo oluşturmak istersek \"table\" yazıyoruz \n",
    "altına örneğin günleri yazmak istersek \"tr\" yazıp altına \"th\" yazıyoruz tek tek içlerine pazartesi,salı... yazıyoruz \n",
    "bunların altına tekrar \"tr\" yazarak onunda altına \"td\" yazıyoruz ve örneğin çalışma saatlerini yazıyoruz\n",
    "\"table\" kelimesinin yanına bgcolor\"black\" yazarsak tablonun çizgilerini oluşturur. black yerine istediğimiz rengi yazabiliriz \n",
    "tablodaki her şeyin eşit olmasını istersek th yanlarına width=\"80\" yazarız (80 örnek) ve table yazısının yanınada widtch=\"560\" yazarız"
   ]
  }
 ],
 "metadata": {
  "language_info": {
   "name": "python"
  }
 },
 "nbformat": 4,
 "nbformat_minor": 5
}
