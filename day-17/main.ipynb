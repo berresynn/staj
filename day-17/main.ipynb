{
 "cells": [
  {
   "cell_type": "code",
   "execution_count": 2,
   "id": "a15bca0c",
   "metadata": {},
   "outputs": [
    {
     "name": "stdout",
     "output_type": "stream",
     "text": [
      "7\n"
     ]
    }
   ],
   "source": [
    "#kısaca küçük sayı bulma\n",
    "print(min(10,20,50,7))"
   ]
  },
  {
   "cell_type": "code",
   "execution_count": null,
   "id": "11449076",
   "metadata": {},
   "outputs": [],
   "source": [
    "#toplama yapma\n",
    "\n",
    "def topla(*sayilar):\n",
    "    toplam=0\n",
    "    for sayi in sayilar:\n",
    "        toplam+=sayi\n",
    "        return toplam\n",
    "    print(toplam(120,500,96,68))"
   ]
  },
  {
   "cell_type": "code",
   "execution_count": 9,
   "id": "10142811",
   "metadata": {},
   "outputs": [
    {
     "name": "stdout",
     "output_type": "stream",
     "text": [
      "910\n",
      "60\n",
      "327\n"
     ]
    }
   ],
   "source": [
    "# yukarıdaki işlemin daha kısası\n",
    "def topla(*sayilar):\n",
    "    return sum(sayilar)\n",
    "print(topla(120,250,60,480))\n",
    "print(topla(10,50))\n",
    "print(topla(80,45,202))"
   ]
  },
  {
   "cell_type": "code",
   "execution_count": 11,
   "id": "a14b9aea",
   "metadata": {},
   "outputs": [
    {
     "name": "stdout",
     "output_type": "stream",
     "text": [
      "32\n"
     ]
    }
   ],
   "source": [
    "# kuvvet alma\n",
    "def kuvvetAl(sayi,kuvvet):\n",
    "    return sayi**kuvvet\n",
    "print(kuvvetAl(2,5))"
   ]
  },
  {
   "cell_type": "code",
   "execution_count": null,
   "id": "2e4cdbff",
   "metadata": {},
   "outputs": [
    {
     "name": "stdout",
     "output_type": "stream",
     "text": [
      "25\n"
     ]
    }
   ],
   "source": [
    "# kuvvet alma kuvveti sabit tutup sayıyı değiştirme\n",
    "def kuvvetAl(sayi,kuvvet=2):\n",
    "    return sayi**kuvvet\n",
    "print(kuvvetAl(5))"
   ]
  },
  {
   "cell_type": "code",
   "execution_count": null,
   "id": "4bbe1c3b",
   "metadata": {},
   "outputs": [
    {
     "name": "stdout",
     "output_type": "stream",
     "text": [
      "1000\n"
     ]
    }
   ],
   "source": [
    "#çarpma işlemi\n",
    "a=10\n",
    "def islem(b,c):\n",
    "    return a*b*c\n",
    "print(islem(5,20))"
   ]
  },
  {
   "cell_type": "code",
   "execution_count": null,
   "id": "8c6d1b50",
   "metadata": {},
   "outputs": [
    {
     "name": "stdout",
     "output_type": "stream",
     "text": [
      "2.5\n"
     ]
    }
   ],
   "source": [
    "#bölme islemi\n",
    "def böl (a,b):\n",
    "    return(a/b)\n",
    "\n",
    "print(böl(10,4))"
   ]
  },
  {
   "cell_type": "markdown",
   "id": "d2e66cf7",
   "metadata": {},
   "source": [
    "### lambda ile işlemler"
   ]
  },
  {
   "cell_type": "code",
   "execution_count": null,
   "id": "bd424671",
   "metadata": {},
   "outputs": [
    {
     "name": "stdout",
     "output_type": "stream",
     "text": [
      "True\n"
     ]
    }
   ],
   "source": [
    "#tek çift sorusu\n",
    "tek_mi=lambda sayi: sayi%2==1\n",
    "print (tek_mi(21))"
   ]
  },
  {
   "cell_type": "code",
   "execution_count": null,
   "id": "1c8b2749",
   "metadata": {},
   "outputs": [
    {
     "name": "stdout",
     "output_type": "stream",
     "text": [
      "135\n"
     ]
    }
   ],
   "source": [
    "#toplama\n",
    "toplam=lambda*sayilar:sum(sayilar)\n",
    "print(toplam(20,80,35))"
   ]
  },
  {
   "cell_type": "code",
   "execution_count": null,
   "id": "fdc7db2c",
   "metadata": {},
   "outputs": [],
   "source": [
    "#girilen sayının tam bölenlerini bulma\n",
    "\n",
    "def tamSayiBölenleri(sayi):\n",
    "    liste=[]\n",
    "\n",
    "for i in range (1,sayi):\n",
    "  \n",
    "  if sayi%i==0:\n",
    "    liste.append(i)\n",
    "\n",
    " return(liste)"
   ]
  },
  {
   "cell_type": "markdown",
   "id": "a919cf01",
   "metadata": {},
   "source": [
    "### Değişken Kuralları"
   ]
  },
  {
   "cell_type": "code",
   "execution_count": null,
   "id": "60b8f92d",
   "metadata": {},
   "outputs": [],
   "source": [
    "#(2.ifadeler doğru)\n",
    "\n",
    "#1-Değişken adları sayı ile başlamaz.\n",
    "# 3_kilo_elma = “10 tl” \n",
    "# kilo_elma_3 = \"10 tl\" \n",
    "\n",
    "\n",
    "\n",
    "# 2-Değişken adları özel sembol içermez ( _ altçizgi hariç )\n",
    "# gelir?= “500 TL” \n",
    "# kullanici_adi= “admin” \n",
    "\n",
    "\n",
    "\n",
    "#3- Değişken adlarında boşluk olmaz.\n",
    "# kullanici adi = “admin” \n",
    "# kulllanici_adi = “admin” \n",
    "\n",
    "\n",
    "\n",
    "# Not: Değişken adlarında Türkçe karakter kullanabiliriz. Ancak\n",
    "#uyum sorunu ihtimaline karşı bundan kaçınınız."
   ]
  },
  {
   "cell_type": "code",
   "execution_count": null,
   "id": "666ad0fb",
   "metadata": {},
   "outputs": [],
   "source": [
    "#Not: Bir değişkene defalarca farklı değerler atayabiliriz:\n",
    "x = 10\n",
    "x = 20\n",
    "x = 30 #Değişkenin en son değeri\n",
    "print(x) # Değişkenin en son değeri geçerlidir. "
   ]
  },
  {
   "cell_type": "code",
   "execution_count": null,
   "id": "a7052d96",
   "metadata": {},
   "outputs": [],
   "source": [
    "\n",
    " # “\\n” alt satıra yazdırmayı sağlar"
   ]
  },
  {
   "cell_type": "code",
   "execution_count": null,
   "id": "dc7ed389",
   "metadata": {},
   "outputs": [
    {
     "name": "stdout",
     "output_type": "stream",
     "text": [
      "Sınıfı Geçtiniz\n"
     ]
    }
   ],
   "source": [
    "#takdir-teşekkür durumu\n",
    "ortalama=float(input(\"Not ortalamanızı giriniz: \"))\n",
    "if ortalama>=85:\n",
    " print(\"Takdir Belgesi Alamaya Hak Kazandınız!\")\n",
    "elif ortalama>=70:\n",
    " print(\"Teşekkür Belgesi Alamaya Hak Kazandınız!\")\n",
    "elif ortalama>=50:\n",
    " print(\"Sınıfı Geçtiniz\")\n",
    "else:\n",
    " print(\"Sınıf tekrarı...\")"
   ]
  },
  {
   "cell_type": "code",
   "execution_count": 25,
   "id": "d4427527",
   "metadata": {},
   "outputs": [
    {
     "name": "stdout",
     "output_type": "stream",
     "text": [
      "İkinci sayı büyük!\n"
     ]
    }
   ],
   "source": [
    "#2 sayı karşılaştırma\n",
    "a=int(input(\"1. Sayıyı Giriniz: \"))\n",
    "b=int(input(\"2. Sayıyı Giriniz: \"))\n",
    "if a>b:\n",
    " print(\"Birinci sayı büyük!\")\n",
    "elif a<b:\n",
    " print(\"İkinci sayı büyük!\")\n",
    "else:\n",
    " print(\"Sayılar eşit!\") "
   ]
  },
  {
   "cell_type": "code",
   "execution_count": null,
   "id": "924384c4",
   "metadata": {},
   "outputs": [
    {
     "name": "stdout",
     "output_type": "stream",
     "text": [
      "geçersiz parola\n",
      "tekrar dene\n",
      "--------------\n"
     ]
    }
   ],
   "source": [
    "#parola girme\n",
    "parola= input(\"Parola gir:\")\n",
    "if parola==\"python\":\n",
    " print (\"hoşgeldiniz...\")\n",
    " print (\"yönlendiriliyorsunuz...\")\n",
    "else:\n",
    " print (\"geçersiz parola\")\n",
    " print (\"tekrar dene\")\n",
    "print (\"--------------\") "
   ]
  },
  {
   "cell_type": "code",
   "execution_count": null,
   "id": "65a36138",
   "metadata": {},
   "outputs": [],
   "source": []
  }
 ],
 "metadata": {
  "kernelspec": {
   "display_name": "Python 3",
   "language": "python",
   "name": "python3"
  },
  "language_info": {
   "codemirror_mode": {
    "name": "ipython",
    "version": 3
   },
   "file_extension": ".py",
   "mimetype": "text/x-python",
   "name": "python",
   "nbconvert_exporter": "python",
   "pygments_lexer": "ipython3",
   "version": "3.11.9"
  }
 },
 "nbformat": 4,
 "nbformat_minor": 5
}
