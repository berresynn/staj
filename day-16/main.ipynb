{
 "cells": [
  {
   "cell_type": "code",
   "execution_count": null,
   "id": "ba471766",
   "metadata": {},
   "outputs": [],
   "source": [
    "# girilen sayının asal olup olmama?????????????????????????????????????????????????????????????????\n",
    "sayi=int(input(\"sayi giriniz: \"))\n",
    "\n",
    "sayac=2     #[ asal sayılar 2den başlar]\n",
    "\n",
    "asal_sayilar=[]\n",
    "\n",
    "while sayi>0:\n",
    "    asal_sayilar.append(sayi)\n",
    "    while sayac<sayi:\n",
    "        if sayi%sayac==0:\n",
    "            asal_sayilar.remove(sayi)\n",
    "            break\n",
    "        sayac+=1\n",
    "\n",
    "        sayac= 2\n",
    "        sayi-= 1\n",
    "\n",
    "    print(asal_sayilar)"
   ]
  },
  {
   "cell_type": "code",
   "execution_count": null,
   "id": "f093fbc6",
   "metadata": {},
   "outputs": [
    {
     "name": "stdout",
     "output_type": "stream",
     "text": [
      "döngünün sonu\n",
      "döngü bloğunun dışı\n"
     ]
    }
   ],
   "source": [
    "while True: \n",
    "\n",
    " sayi=int(input(\"bir sayi giriniz: (eğer tek sayi girerseniz döngü sonlanicak) \"))\n",
    "\n",
    " if sayi%2==1:\n",
    "   break \n",
    "\n",
    "print(\"döngünün sonu\")\n",
    "print(\"döngü bloğunun dışı\")"
   ]
  },
  {
   "cell_type": "code",
   "execution_count": null,
   "id": "fd81d337",
   "metadata": {},
   "outputs": [],
   "source": [
    "# 1-100 arasında 2 ve 3e bölünebilen sayıları listele \n",
    "\n",
    "sayi=[]\n",
    "for i in range(1,100) :\n",
    " if i%2==0 and i%3==0 :\n",
    "    sayi.append(i) \n"
   ]
  },
  {
   "cell_type": "code",
   "execution_count": null,
   "id": "4c718b19",
   "metadata": {},
   "outputs": [
    {
     "name": "stdout",
     "output_type": "stream",
     "text": [
      "[6, 12, 18, 24, 30, 36, 42, 48, 54, 60, 66, 72, 78, 84, 90, 96]\n"
     ]
    }
   ],
   "source": [
    "# yukarıdaki işlemin aynısı \n",
    "sayi=[x for x in range(1,100) if x%2==0 and x%3==0]\n",
    "print(sayi)"
   ]
  },
  {
   "cell_type": "code",
   "execution_count": null,
   "id": "736a7bb8",
   "metadata": {},
   "outputs": [],
   "source": [
    "# sonsuz döngü çünkü continue her seferinde başa döndürüyo\n",
    "while True:\n",
    "    sayi=int(input(\"bir sayi girirniz: (eğer tek sayi girerseniz ekranda bir şey yazmayacak)\"))\n",
    "    if sayi%2==1:\n",
    "        continue\n",
    "    print(sayi)"
   ]
  },
  {
   "cell_type": "code",
   "execution_count": null,
   "id": "584232e6",
   "metadata": {},
   "outputs": [],
   "source": [
    "#elimizdeki listeden belirli özellikteki elemanlara ulaşma\n",
    "kişiler =[\"merve\",\"berre\",\"ceyda\",\"sude\"]\n",
    "m_harfiyle_baslayanlar=[kisi for kisi in kişiler if \"m\" in kisi ]\n",
    "print(m_harfiyle_baslayanlar) "
   ]
  },
  {
   "cell_type": "code",
   "execution_count": null,
   "id": "ea0b84ba",
   "metadata": {},
   "outputs": [],
   "source": [
    "# para miktarı bilinen kişinin para çekme  durumu \n",
    "\n",
    "sahipOlunanPara=1000\n",
    " if islem==1:\n",
    " cekilmek_İstenen_Miktar=int(input(\"cekmek istediğiniz para tutarı girin\"))\n",
    "   if sahipOlunanPara<cekilmek_İstenen_Miktar:\n",
    " print(\"yetersiz bakiye\")\n",
    "   else:\n",
    " sahipOlunanPara=-cekilmek_İstenen_Miktar:\n",
    " print()"
   ]
  },
  {
   "cell_type": "code",
   "execution_count": null,
   "id": "48382038",
   "metadata": {},
   "outputs": [],
   "source": []
  }
 ],
 "metadata": {
  "kernelspec": {
   "display_name": "Python 3",
   "language": "python",
   "name": "python3"
  },
  "language_info": {
   "codemirror_mode": {
    "name": "ipython",
    "version": 3
   },
   "file_extension": ".py",
   "mimetype": "text/x-python",
   "name": "python",
   "nbconvert_exporter": "python",
   "pygments_lexer": "ipython3",
   "version": "3.11.9"
  }
 },
 "nbformat": 4,
 "nbformat_minor": 5
}
