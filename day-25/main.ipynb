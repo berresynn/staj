{
 "cells": [
  {
   "cell_type": "markdown",
   "id": "f90994c3",
   "metadata": {},
   "source": [
    "### SQL Veritabanı"
   ]
  },
  {
   "cell_type": "markdown",
   "id": "13599f51",
   "metadata": {},
   "source": [
    "id'lar farklı olmalı \n",
    "isimler aynı olabilir"
   ]
  },
  {
   "cell_type": "markdown",
   "id": "2112c1fd",
   "metadata": {},
   "source": [
    "products=ürünler"
   ]
  },
  {
   "cell_type": "markdown",
   "id": "65c886b6",
   "metadata": {},
   "source": [
    "SQL database \n",
    "1 products \n",
    "2 users\n",
    "3 orders\n",
    "schema "
   ]
  },
  {
   "cell_type": "markdown",
   "id": "066be1bd",
   "metadata": {},
   "source": []
  }
 ],
 "metadata": {
  "language_info": {
   "name": "python"
  }
 },
 "nbformat": 4,
 "nbformat_minor": 5
}
