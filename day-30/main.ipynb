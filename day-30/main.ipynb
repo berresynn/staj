{
 "cells": [
  {
   "cell_type": "markdown",
   "id": "ad409424",
   "metadata": {},
   "source": [
    "### temel komutlar"
   ]
  },
  {
   "cell_type": "markdown",
   "id": "700d049d",
   "metadata": {},
   "source": [
    "-- Veritabanı oluşturma\n",
    "CREATE DATABASE okul;\n",
    "\n",
    "-- Veritabanı seçme\n",
    "USE okul;\n",
    "\n",
    "-- Tablo oluşturma\n",
    "CREATE TABLE ogrenciler (\n",
    "    id INT AUTO_INCREMENT PRIMARY KEY,\n",
    "    ad VARCHAR(50),\n",
    "    soyad VARCHAR(50),\n",
    "    dogum_tarihi DATE\n",
    ");\n",
    "\n",
    "-- Veri ekleme\n",
    "INSERT INTO ogrenciler (ad, soyad, dogum_tarihi)\n",
    "VALUES ('Ahmet', 'Yılmaz', '2002-03-15');\n",
    "\n",
    "-- Veri listeleme\n",
    "SELECT * FROM ogrenciler;\n",
    "\n",
    "-- Veri güncelleme\n",
    "UPDATE ogrenciler SET soyad = 'Demir' WHERE id = 1;\n",
    "\n",
    "-- Veri silme\n",
    "DELETE FROM ogrenciler WHERE id = 1;\n"
   ]
  },
  {
   "cell_type": "markdown",
   "id": "f4ce718d",
   "metadata": {},
   "source": [
    "### e ticaret sistemi örnek soru"
   ]
  },
  {
   "cell_type": "markdown",
   "id": "44b02728",
   "metadata": {},
   "source": [
    "-- Veritabanı oluştur\n",
    "CREATE DATABASE eticaret;\n",
    "USE eticaret;\n",
    "\n",
    "-- Müşteriler\n",
    "CREATE TABLE musteriler (\n",
    "    id INT AUTO_INCREMENT PRIMARY KEY,\n",
    "    ad VARCHAR(50),\n",
    "    soyad VARCHAR(50),\n",
    "    email VARCHAR(100),\n",
    "    kayit_tarihi DATETIME DEFAULT NOW()\n",
    ");\n",
    "\n",
    "-- Ürünler\n",
    "CREATE TABLE urunler (\n",
    "    id INT AUTO_INCREMENT PRIMARY KEY,\n",
    "    urun_adi VARCHAR(100),\n",
    "    fiyat DECIMAL(10,2),\n",
    "    stok INT\n",
    ");\n",
    "\n",
    "-- Siparişler\n",
    "CREATE TABLE siparisler (\n",
    "    id INT AUTO_INCREMENT PRIMARY KEY,\n",
    "    musteri_id INT,\n",
    "    siparis_tarihi DATETIME DEFAULT NOW(),\n",
    "    FOREIGN KEY (musteri_id) REFERENCES musteriler(id)\n",
    ");\n",
    "\n",
    "-- Sipariş Detayları (çoktan çoğa ilişki)\n",
    "CREATE TABLE siparis_detaylari (\n",
    "    id INT AUTO_INCREMENT PRIMARY KEY,\n",
    "    siparis_id INT,\n",
    "    ur\n"
   ]
  },
  {
   "cell_type": "markdown",
   "id": "eb46f175",
   "metadata": {},
   "source": [
    "### personel ve maaş takibi örnek soru"
   ]
  },
  {
   "cell_type": "markdown",
   "id": "edaf6d87",
   "metadata": {},
   "source": [
    "-- Personel tablosu\n",
    "CREATE TABLE personel (\n",
    "    id INT AUTO_INCREMENT PRIMARY KEY,\n",
    "    ad VARCHAR(50),\n",
    "    soyad VARCHAR(50),\n",
    "    maas DECIMAL(10,2),\n",
    "    departman VARCHAR(50)\n",
    ");\n",
    "\n",
    "-- Örnek sorgu: departmana göre maaş düzenlemesi\n",
    "SELECT \n",
    "    id,\n",
    "    ad,\n",
    "    departman,\n",
    "    maas,\n",
    "    CASE \n",
    "        WHEN departman = 'Yönetim' THEN ROUND(maas * 1.2, 2)\n",
    "        WHEN departman = 'Teknik' THEN ROUND(maas * 1.1, 2)\n",
    "        ELSE maas\n",
    "    END AS yeni_maas\n",
    "FROM personel;\n"
   ]
  },
  {
   "cell_type": "markdown",
   "id": "d56d0ba2",
   "metadata": {},
   "source": [
    "### otomatik yaş hesaplama örnek soru"
   ]
  },
  {
   "cell_type": "markdown",
   "id": "d41e39df",
   "metadata": {},
   "source": [
    "-- Öğrenciler tablosu\n",
    "CREATE TABLE ogrenciler (\n",
    "    id INT AUTO_INCREMENT PRIMARY KEY,\n",
    "    ad VARCHAR(50),\n",
    "    dogum_tarihi DATE\n",
    ");\n",
    "\n",
    "-- Yaş hesaplayan fonksiyon\n",
    "DELIMITER //\n",
    "CREATE FUNCTION yas_hesapla(dogum DATE)\n",
    "RETURNS INT\n",
    "DETERMINISTIC\n",
    "BEGIN\n",
    "    RETURN YEAR(CURDATE()) - YEAR(dogum);\n",
    "END;\n",
    "//\n",
    "DELIMITER ;\n",
    "\n",
    "-- Kullanımı:\n",
    "SELECT ad, yas_hesapla(dogum_tarihi) AS yas FROM ogrenciler;\n"
   ]
  }
 ],
 "metadata": {
  "language_info": {
   "name": "python"
  }
 },
 "nbformat": 4,
 "nbformat_minor": 5
}
