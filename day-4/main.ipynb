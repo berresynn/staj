{
 "cells": [
  {
   "cell_type": "markdown",
   "id": "3c6b2690",
   "metadata": {},
   "source": [
    "### Uygulama String Metotları"
   ]
  },
  {
   "cell_type": "code",
   "execution_count": null,
   "id": "28cffa43",
   "metadata": {},
   "outputs": [],
   "source": [
    "# .startswith()=.... ile başlıyo mu?\n",
    "# .endswith() =... ile bitiyo mu?\n",
    "# .rfind() = kelime veya cümlenin sonundan yani sağ tarafından index sayar\n",
    "# .isalpha() = verilen ifadedeki her şey harf mi?\n",
    "# .isdigit() = verilen ifadedeki her şey sayı mı?\n",
    "# .center(100) = ifadenin sağ,soluna     100-kendi karakter sayısı kadar boşluk verir \n",
    "# .center(50,\"*\") = ifadenin sağ  ve soluna * ekler \n",
    "# .ljust(50,\"*\") = soluna * ekler\n",
    "# .rjust(50,\"*\") = sağına * ekler\n",
    "# .replace() = değiştirme yapar \n",
    "#örn    .replace(\" \",\"\") =boşluk karakterlerini siler\n",
    "#       .replace(\" \",\"-\") = karakterler arasındaki boşluğa \"-\" ekler\n",
    "# .append() = ekleme yapar\n",
    "# .insert() = istediğimiz yere ekleme yapar\n",
    "# .pop() = verdiğimiz index no ile silme işlemi yapar \n",
    "# .remove() = silmek istediğimiz karakteri yazarız ve silme işlemi yapar\n",
    "# .sort() = sayısal veya harf sırası, büyüklüğe göre sıralar  \n",
    "# .reserve()  =sıralanmış listeyi tersine çevirmek için \n",
    "#print(len(numbers)) = toplam kaç sayı old gösterir \n",
    "#print(numbers.count(10)) = 10 sayısından kaç tane var?\n"
   ]
  },
  {
   "cell_type": "markdown",
   "id": "c272aff7",
   "metadata": {},
   "source": [
    "### Listeler"
   ]
  },
  {
   "cell_type": "code",
   "execution_count": null,
   "id": "9e9dd659",
   "metadata": {},
   "outputs": [
    {
     "name": "stdout",
     "output_type": "stream",
     "text": [
      "6\n"
     ]
    }
   ],
   "source": [
    "list1=[\"one\",\"two\",\"three\"]\n",
    "list2=[\"four\",\"five\",\"six\"]\n",
    "\n",
    "numbers=list1+list2\n",
    "print(len(numbers))\n",
    "# len dediğimizde kaç elemanı olduğunu gösterir"
   ]
  },
  {
   "cell_type": "code",
   "execution_count": null,
   "id": "d9053a7f",
   "metadata": {},
   "outputs": [
    {
     "name": "stdout",
     "output_type": "stream",
     "text": [
      "['one', 'two', 'three', 'four', 'five', 'six']\n"
     ]
    }
   ],
   "source": [
    "list1=[\"one\",\"two\",\"three\"]\n",
    "list2=[\"four\",\"five\",\"six\"]\n",
    "\n",
    "numbers=list1+list2\n",
    "print(numbers) "
   ]
  },
  {
   "cell_type": "code",
   "execution_count": null,
   "id": "80d5d66d",
   "metadata": {},
   "outputs": [
    {
     "name": "stdout",
     "output_type": "stream",
     "text": [
      "hello\n"
     ]
    }
   ],
   "source": [
    "#split() diziye ,listeye çevirir\n",
    "\n",
    "message=\"hello how are u\".split()\n",
    "print(message[0])\n",
    "\n",
    "#print(message[0]) yazdığımızda \"split()\" olmasaydı bize sadece sıfırıncı karakter yani \"h\" harfini veicekti"
   ]
  },
  {
   "cell_type": "code",
   "execution_count": 10,
   "id": "9e44c4e2",
   "metadata": {},
   "outputs": [
    {
     "name": "stdout",
     "output_type": "stream",
     "text": [
      "(['çınar', 20], ['ali', 30])\n"
     ]
    },
    {
     "data": {
      "text/plain": [
       "20"
      ]
     },
     "execution_count": 10,
     "metadata": {},
     "output_type": "execute_result"
    }
   ],
   "source": [
    "usera=[\"çınar\",20]\n",
    "userb=[\"ali\",30]\n",
    "\n",
    "users=(usera,userb)\n",
    "print(users)\n",
    "users[0][1]"
   ]
  },
  {
   "cell_type": "code",
   "execution_count": 20,
   "id": "8e83d275",
   "metadata": {},
   "outputs": [
    {
     "name": "stdout",
     "output_type": "stream",
     "text": [
      "4\n"
     ]
    }
   ],
   "source": [
    "#soru-1\n",
    "#\"bmw,mercedes,opel ,mazda\" elemanlarına sahip bir liste oluşturunuz\n",
    "#liste kaç elemanlı?\n",
    "\n",
    "liste1=[\"bmw\",\"mercedes\",\"opel\",\"mazda\"]\n",
    "result=len(liste1)\n",
    "print(result)\n"
   ]
  },
  {
   "cell_type": "code",
   "execution_count": 28,
   "id": "3e89c6d6",
   "metadata": {},
   "outputs": [
    {
     "name": "stdout",
     "output_type": "stream",
     "text": [
      "bmw\n",
      "mazda\n"
     ]
    }
   ],
   "source": [
    "#soru-2\n",
    "#\"bmw,mercedes,opel ,mazda\" elemanlarına sahip bir liste oluşturunuz\n",
    "#listenin ilk ve son elemanı nedir?\n",
    "\n",
    "liste1=[\"bmw\",\"mercedes\",\"opel\",\"mazda\"]\n",
    "print(liste1[0])\n",
    "print(liste1[-1])\n"
   ]
  },
  {
   "cell_type": "code",
   "execution_count": 29,
   "id": "bb9a957f",
   "metadata": {},
   "outputs": [
    {
     "name": "stdout",
     "output_type": "stream",
     "text": [
      "['bmw', 'mercedes', 'opel', 'toyota']\n"
     ]
    }
   ],
   "source": [
    "#soru-3\n",
    "#mazda değeerini toyota ile değiştirin \n",
    "\n",
    "liste1=[\"bmw\",\"mercedes\",\"opel\",\"mazda\"]\n",
    "liste1[-1]=\"toyota\"\n",
    "print(liste1)\n",
    "\n",
    "\n"
   ]
  },
  {
   "cell_type": "code",
   "execution_count": 31,
   "id": "b0be9e64",
   "metadata": {},
   "outputs": [
    {
     "name": "stdout",
     "output_type": "stream",
     "text": [
      "True\n"
     ]
    }
   ],
   "source": [
    "#soru--4\n",
    "#mercedes listenin bir elemanı mı?\n",
    "\n",
    "liste1=[\"bmw\",\"mercedes\",\"opel\",\"mazda\"]\n",
    "result=\"mercedes\" in liste1\n",
    "print(result)\n"
   ]
  },
  {
   "cell_type": "code",
   "execution_count": 32,
   "id": "8361cbe3",
   "metadata": {},
   "outputs": [
    {
     "data": {
      "text/plain": [
       "'opel'"
      ]
     },
     "execution_count": 32,
     "metadata": {},
     "output_type": "execute_result"
    }
   ],
   "source": [
    "#soru-5\n",
    "#listenin \"-2\" index değeri nedir?\n",
    "\n",
    "liste1=[\"bmw\",\"mercedes\",\"opel\",\"mazda\"]\n",
    "liste1[-2]\n",
    "\n",
    "\n"
   ]
  },
  {
   "cell_type": "code",
   "execution_count": 42,
   "id": "06dba571",
   "metadata": {},
   "outputs": [
    {
     "name": "stdout",
     "output_type": "stream",
     "text": [
      "['bmw', 'mercedes', 'opel']\n"
     ]
    }
   ],
   "source": [
    "#soru-6\n",
    "#listenin ilk 3 elemanını alın\n",
    "\n",
    "liste1=[\"bmw\",\"mercedes\",\"opel\",\"mazda\"]\n",
    "result=liste1[:3]\n",
    "print(result)\n",
    "\n"
   ]
  },
  {
   "cell_type": "code",
   "execution_count": 44,
   "id": "4d1b08bb",
   "metadata": {},
   "outputs": [
    {
     "name": "stdout",
     "output_type": "stream",
     "text": [
      "['kırmızı', 'mavi', 'bmw', 'mercedes', 'opel', 'mazda']\n"
     ]
    }
   ],
   "source": [
    "#soru-7\n",
    "#listeye kırmızı, mavi kelimelerini ekle \n",
    "\n",
    "liste1=[\"bmw\",\"mercedes\",\"opel\",\"mazda\"]\n",
    "result=[\"kırmızı\",\"mavi\"]+liste1\n",
    "print(result)"
   ]
  },
  {
   "cell_type": "code",
   "execution_count": 59,
   "id": "bdd6ac43",
   "metadata": {},
   "outputs": [],
   "source": [
    "#soru-8\n",
    "#son kelimeyi sil \n",
    "\n",
    "liste1=[\"bmw\",\"mercedes\",\"opel\",\"mazda\"]\n",
    "del liste1[-1]\n",
    "result=liste1"
   ]
  },
  {
   "cell_type": "markdown",
   "id": "643112f4",
   "metadata": {},
   "source": [
    "### Liste Metotları"
   ]
  },
  {
   "cell_type": "code",
   "execution_count": null,
   "id": "ffb76364",
   "metadata": {},
   "outputs": [
    {
     "name": "stdout",
     "output_type": "stream",
     "text": [
      "1\n",
      "20\n",
      "a\n",
      "[10, 20, 6]\n",
      "[1, 10, 50, 6, 7]\n",
      "[1, 10, 50, 6, 7, 90]\n",
      "[1, 10, 50, 75, 6, 7, 90]\n",
      "[1, 10, 50, 6, 7, 90]\n",
      "[1, 10, 50, 6, 7]\n",
      "[1, 6, 7, 10, 50]\n"
     ]
    }
   ],
   "source": [
    "numbers=[1,10,20,6,7]\n",
    "letters=[\"a\",\"v\",\"k\",\"y\"]\n",
    "\n",
    "val=min(numbers)\n",
    "print(val)\n",
    "val=max(numbers)\n",
    "print(val)\n",
    "\n",
    "val=min(letters)\n",
    "print(val)\n",
    "#letters =harf\n",
    "\n",
    "val=numbers[1:4]\n",
    "print(val)\n",
    "\n",
    "numbers[2]=50\n",
    "print(numbers)\n",
    "#2. indexteki 20 sayısını 50ile değiştirdik\n",
    "\n",
    "numbers.append(90)\n",
    "print(numbers)\n",
    "\n",
    "#sayılar dizisine 90 eklenir\n",
    "# .append() = ekleme yapar\n",
    "\n",
    "numbers.insert(3,75)\n",
    "print(numbers)\n",
    "\n",
    "#3. indexten hemen önce 75 sayısını ekler \n",
    "# .insert() = istediğimiz yere ekleme yapar\n",
    "\n",
    "numbers.pop(3)\n",
    "print(numbers)\n",
    "\n",
    "#3. indexteki silinir \n",
    "# .pop() = verdiğimiz index sayısıyla silme işlemi yapar  \n",
    "\n",
    "numbers.remove(90)\n",
    "print(numbers)\n",
    "\n",
    "# .remove() = silmek istediğimiz karakteri yazarız ve silme işlemi yapar\n",
    "\n",
    "numbers.sort()\n",
    "print(numbers)\n",
    "# .sort() = sayısal veya harf sırası, büyüklüğe göre sıralar  \n",
    "\n",
    "# .reserve()  =sıralanmış listeyi tersine çevirmek için \n",
    "\n",
    "#print(len(numbers)) = toplam kaç sayı old gösterir \n",
    "#print(numbers.count(10)) = 10 sayısından kaç tane var?"
   ]
  },
  {
   "cell_type": "markdown",
   "id": "d566e8f2",
   "metadata": {},
   "source": [
    "### Liste Metot Uygulamaları"
   ]
  },
  {
   "cell_type": "code",
   "execution_count": 85,
   "id": "e91c9973",
   "metadata": {},
   "outputs": [
    {
     "name": "stdout",
     "output_type": "stream",
     "text": [
      "['ali', 'yağmur', 'kerem', 'ela', 'cenk']\n"
     ]
    }
   ],
   "source": [
    "#soru-1\n",
    "names=[\"ali\",\"yağmur\",\"kerem\",\"ela\"]\n",
    "years=[1998,2000,2004,2010]\n",
    "\n",
    "#cenk ismini listenin sonuna ekle \n",
    "\n",
    "names.append(\"cenk\")\n",
    "print(names)"
   ]
  },
  {
   "cell_type": "code",
   "execution_count": null,
   "id": "36055749",
   "metadata": {},
   "outputs": [
    {
     "name": "stdout",
     "output_type": "stream",
     "text": [
      "['cenk', 'ali', 'yağmur', 'kerem', 'ela']\n"
     ]
    }
   ],
   "source": [
    "#soru-2\n",
    "ModuleNotFoundErrorames=[\"ali\",\"yağmur\",\"kerem\",\"ela\"]\n",
    "years=[1998,2000,2004,2010]\n",
    "# başına cenk ekle\n",
    "\n",
    "names.insert(0,\"cenk\")\n",
    "print(names)"
   ]
  },
  {
   "cell_type": "code",
   "execution_count": null,
   "id": "a034ff4b",
   "metadata": {},
   "outputs": [],
   "source": [
    "#sor3\n",
    " names=[\"ali\",\"yağmur\",\"kerem\",\"ela\"]\n",
    "\n",
    "#ali ismini sil\n",
    "del names[0]\n",
    "result=names"
   ]
  },
  {
   "cell_type": "code",
   "execution_count": null,
   "id": "016eee78",
   "metadata": {},
   "outputs": [
    {
     "name": "stdout",
     "output_type": "stream",
     "text": [
      "1\n"
     ]
    }
   ],
   "source": [
    "#soru-4\n",
    "names=[\"ali\",\"yağmur\",\"kerem\",\"ela\"]\n",
    "# yağmurun indexsi ne?\n",
    "\n",
    "index=names.index(\"yağmur\")\n",
    "print(index)"
   ]
  },
  {
   "cell_type": "code",
   "execution_count": null,
   "id": "17505301",
   "metadata": {},
   "outputs": [
    {
     "name": "stdout",
     "output_type": "stream",
     "text": [
      "[1998, 2000, 2004, 2010]\n"
     ]
    }
   ],
   "source": [
    "#soru-5\n",
    "years=[1998,2000,2004,2010]\n",
    "# rakamsal olarak sırala \n",
    "\n",
    "years.sort()\n",
    "print(years)"
   ]
  },
  {
   "cell_type": "markdown",
   "id": "84cd0597",
   "metadata": {},
   "source": [
    "### Tuple"
   ]
  },
  {
   "cell_type": "code",
   "execution_count": null,
   "id": "6b9c0539",
   "metadata": {},
   "outputs": [],
   "source": [
    "#tuple'a herhangibi bir eleman ekleme yapamıyoruz\n",
    "# sadece tamamen değiştirebiliyoruz \n",
    "# liste üzerine tuple ekleyerek değişiklik yapabiliriz\n"
   ]
  },
  {
   "cell_type": "code",
   "execution_count": null,
   "id": "da4b5efa",
   "metadata": {},
   "outputs": [],
   "source": [
    "list=[1,2,5,7]\n",
    "tuple=(4,iki,3)\n",
    "\n",
    "print(type(list))\n",
    "print(type(tuple))\n",
    "\n",
    "print(list[2])\n",
    "print(tuple[2])\n",
    "# ikisindede 2. indexteki elemana ulaşabiliriz \n",
    "# eleman sayılarınıda öğrenebiliriz \n"
   ]
  },
  {
   "cell_type": "code",
   "execution_count": null,
   "id": "28ca22ea",
   "metadata": {},
   "outputs": [],
   "source": [
    "list=[1,2,5,7]\n",
    "tuple=(4,iki,3)\n",
    "\n",
    "list=[\"ali\",\"veli\"]\n",
    "tuple=(\"ayşe\",\"yiğit\")\n",
    "print(list)\n",
    "print(tuple)\n",
    "\n",
    "# önceki içeriklerin hepsini silip yenilerini gösterir"
   ]
  },
  {
   "cell_type": "code",
   "execution_count": null,
   "id": "ab43c9a9",
   "metadata": {},
   "outputs": [],
   "source": []
  }
 ],
 "metadata": {
  "kernelspec": {
   "display_name": "Python 3",
   "language": "python",
   "name": "python3"
  },
  "language_info": {
   "codemirror_mode": {
    "name": "ipython",
    "version": 3
   },
   "file_extension": ".py",
   "mimetype": "text/x-python",
   "name": "python",
   "nbconvert_exporter": "python",
   "pygments_lexer": "ipython3",
   "version": "3.11.9"
  }
 },
 "nbformat": 4,
 "nbformat_minor": 5
}
